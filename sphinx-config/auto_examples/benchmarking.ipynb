{
 "cells": [
  {
   "cell_type": "code",
   "execution_count": null,
   "metadata": {
    "collapsed": false
   },
   "outputs": [],
   "source": [
    "%matplotlib inline"
   ]
  },
  {
   "cell_type": "markdown",
   "metadata": {},
   "source": [
    "\nExample benchmarking the computational efficiency of models. \n"
   ]
  },
  {
   "cell_type": "code",
   "execution_count": null,
   "metadata": {
    "collapsed": false
   },
   "outputs": [],
   "source": [
    "from timeit import timeit\n",
    "from progpy.models import BatteryCircuit\n",
    "\n",
    "\n",
    "def run_example():\n",
    "    # Step 1: Create a model object\n",
    "    batt = BatteryCircuit()\n",
    "\n",
    "    # Step 2: Define future loading function\n",
    "    def future_loading(t, x=None):\n",
    "        # Constant Loading\n",
    "        return batt.InputContainer({\"i\": 2})\n",
    "\n",
    "    # Step 3: Benchmark simulation of 600 seconds\n",
    "    print(\"Benchmarking...\")\n",
    "\n",
    "    def sim():\n",
    "        results = batt.simulate_to(600, future_loading)\n",
    "\n",
    "    time = timeit(sim, number=500)\n",
    "\n",
    "    # Print results\n",
    "    print(\"Simulation Time: {} ms/sim\".format(time * 2))\n",
    "\n",
    "\n",
    "# This allows the module to be executed directly\n",
    "if __name__ == \"__main__\":\n",
    "    run_example()"
   ]
  }
 ],
 "metadata": {
  "kernelspec": {
   "display_name": "Python 3",
   "language": "python",
   "name": "python3"
  },
  "language_info": {
   "codemirror_mode": {
    "name": "ipython",
    "version": 3
   },
   "file_extension": ".py",
   "mimetype": "text/x-python",
   "name": "python",
   "nbconvert_exporter": "python",
   "pygments_lexer": "ipython3",
   "version": "3.8.9"
  }
 },
 "nbformat": 4,
 "nbformat_minor": 0
}