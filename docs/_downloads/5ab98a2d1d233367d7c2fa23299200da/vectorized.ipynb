{
 "cells": [
  {
   "cell_type": "code",
   "execution_count": null,
   "metadata": {
    "collapsed": false
   },
   "outputs": [],
   "source": [
    "%matplotlib inline"
   ]
  },
  {
   "cell_type": "markdown",
   "metadata": {},
   "source": [
    "\nExample using simulate_to_threshold with vectorized states. In this example we are using the thrown_object model to simulate multiple thrown objects\n"
   ]
  },
  {
   "cell_type": "code",
   "execution_count": null,
   "metadata": {
    "collapsed": false
   },
   "outputs": [],
   "source": [
    "from progpy.models.thrown_object import ThrownObject\n",
    "from numpy import array, all\n",
    "\n",
    "\n",
    "def run_example():\n",
    "    # Step 1: Setup object\n",
    "    m = ThrownObject()\n",
    "\n",
    "    def future_load(t, x=None):\n",
    "        return {}  # No load for thrown objects\n",
    "\n",
    "    # Step 2: Setup vectorized initial state\n",
    "    # For this example we are saying there are 4 throwers of various strengths and heights\n",
    "    first_state = {\"x\": array([1.75, 1.8, 1.85, 1.9]), \"v\": array([35, 39, 22, 47])}\n",
    "\n",
    "    # Step 3: Simulate to threshold\n",
    "    # Here we are simulating till impact using the first state defined above\n",
    "    (times, inputs, states, outputs, event_states) = m.simulate_to_threshold(\n",
    "        future_load,\n",
    "        x=first_state,\n",
    "        threshold_keys=[\"impact\"],\n",
    "        print=True,\n",
    "        dt=0.1,\n",
    "        save_freq=2,\n",
    "    )\n",
    "\n",
    "    # Now lets do the same thing but only stop when all hit the ground\n",
    "    def thresholds_met_eqn(thresholds_met):\n",
    "        return all(thresholds_met[\"impact\"])  # Stop when all impact ground\n",
    "\n",
    "    simulated_results = m.simulate_to_threshold(\n",
    "        future_load,\n",
    "        x=first_state,\n",
    "        thresholds_met_eqn=thresholds_met_eqn,\n",
    "        print=True,\n",
    "        dt=0.1,\n",
    "        save_freq=2,\n",
    "    )\n",
    "\n",
    "\n",
    "# This allows the module to be executed directly\n",
    "if __name__ == \"__main__\":\n",
    "    run_example()"
   ]
  }
 ],
 "metadata": {
  "kernelspec": {
   "display_name": "Python 3",
   "language": "python",
   "name": "python3"
  },
  "language_info": {
   "codemirror_mode": {
    "name": "ipython",
    "version": 3
   },
   "file_extension": ".py",
   "mimetype": "text/x-python",
   "name": "python",
   "nbconvert_exporter": "python",
   "pygments_lexer": "ipython3",
   "version": "3.8.9"
  }
 },
 "nbformat": 4,
 "nbformat_minor": 0
}