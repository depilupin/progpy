{
 "cells": [
  {
   "attachments": {},
   "cell_type": "markdown",
   "metadata": {},
   "source": [
    "# 2. Parameter Estimation"
   ]
  },
  {
   "attachments": {},
   "cell_type": "markdown",
   "metadata": {},
   "source": [
    "Parameter estimation is used to tune the parameters of a general model so that its behavior matches that of a specific system. Parameter Estimation can be considered more of an art than a science. For example, the parameters of a battery model can be tuned to configure the model to more accurately describe the behavior of a specific battery.\n",
    "\n",
    "Generally, parameter estimation is done by tuning the parameters of the model so that the simulation (see __[01 Simulation](01_Simulation.ipynb)__) best matches the behavior observed in some available data. This is done using a mixture of data, knowledge (e.g., from system specs), and intuition. For large, complex models, it can be VERY difficult and computationally expensive. Fortunately, in this case we have a relatively simple model.\n",
    "\n",
    "In ProgPy, this is done using the `progpy.PrognosticsModel.estimate_params()` method. This method takes input and output data from one or more runs, and uses `scipy.optimize.minimize` function to estimate the parameters of the model. For more information, refer to the documentation [here](https://nasa.github.io/progpy/prog_models_guide.html#parameter-estimation).\n",
    "\n",
    "A few definitions:\n",
    "\n",
    "* __`keys`__ `(list[str])`: Parameter keys to optimize\n",
    "* __`times`__ `(list[float])`: Array of times for each run\n",
    "* __`inputs`__ `(list[InputContainer])`: Array of input containers where inputs[x] corresponds to times[x]\n",
    "* __`outputs`__ `(list[OutputContainer])`: Array of output containers where outputs[x] corresponds to times[x]\n",
    "* __`method`__ `(str, optional)`: Optimization method. See `scipy.optimize.minimize` for options\n",
    "* __`tol`__ `(int, optional)`: Tolerance for termination. Depending on the provided minimization method, specifying tolerance sets solver-specific options to tol\n",
    "* __`error_method`__ `(str, optional)`: Method to use in calculating error. See calc_error for options\n",
    "* __`bounds`__ `(tuple or dict, optional)`: Bounds for optimization in format ((lower1, upper1), (lower2, upper2), ...) or {key1: (lower1, upper1), key2: (lower2, upper2), ...}\n",
    "* __`options`__ `(dict, optional)`: Options passed to optimizer. See `scipy.optimize.minimize` for options"
   ]
  },
  {
   "cell_type": "markdown",
   "metadata": {},
   "source": [
    "## Table of Contents\n",
    "* [Simple Example](#Simple-Example)\n",
    "* [Using Tol](#Using-Tol)\n",
    "* [Handling Noise with Multiple Runs](#Handling-Noise-with-Multiple-Runs)\n",
    "* [Simplified Battery](#Simplified-Battery)\n",
    "    * [Data Prep](#Data-Prep)\n",
    "    * [Set Up Model](#Set-Up-Model)\n",
    "    * [Parameter Estimation](#Parameter-Estimation)\n",
    "* [Conclusion](#Conclusion)"
   ]
  },
  {
   "attachments": {},
   "cell_type": "markdown",
   "metadata": {},
   "source": [
    "## Simple Example"
   ]
  },
  {
   "attachments": {},
   "cell_type": "markdown",
   "metadata": {},
   "source": [
    "Now we will show an example demonstrating model parameter estimation. In this example, we estimate the model parameters from data. In general, the data will usually be collected from the physical system or from a different model (model surrogacy). In this case, we will use the example data, below:"
   ]
  },
  {
   "cell_type": "code",
   "execution_count": null,
   "metadata": {},
   "outputs": [],
   "source": [
    "times = [0, 1, 2, 3, 4, 5, 6, 7]\n",
    "inputs = [{}]*8\n",
    "outputs = [\n",
    "    {'x': 1.83},\n",
    "    {'x': 36.5091999066245},\n",
    "    {'x': 60.05364349596605},\n",
    "    {'x': 73.23733081022635},\n",
    "    {'x': 76.47528104941956},\n",
    "    {'x': 69.9146810161441},\n",
    "    {'x': 53.74272753819968},\n",
    "    {'x': 28.39355725512131},\n",
    "]"
   ]
  },
  {
   "attachments": {},
   "cell_type": "markdown",
   "metadata": {},
   "source": [
    "First, we will import a model from the ProgPy Package. For this example, we will be using the simple ThrownObject model."
   ]
  },
  {
   "cell_type": "code",
   "execution_count": null,
   "metadata": {},
   "outputs": [],
   "source": [
    "from progpy.models import ThrownObject"
   ]
  },
  {
   "attachments": {},
   "cell_type": "markdown",
   "metadata": {},
   "source": [
    "Now we can build a model with a best guess for the parameters.\n",
    "\n",
    "We will use a guess that our thrower is 20 meters tall, has a throwing speed of 3.1 m/s, and that acceleration due to gravity is 15 m/s^2. However, given our times, inputs, and outputs, we can clearly tell this is not true! Let's see if parameter estimation can fix this!"
   ]
  },
  {
   "cell_type": "code",
   "execution_count": null,
   "metadata": {},
   "outputs": [],
   "source": [
    "m = ThrownObject(thrower_height=20, throwing_speed=3.1, g=15)"
   ]
  },
  {
   "attachments": {},
   "cell_type": "markdown",
   "metadata": {},
   "source": [
    "For this example, we will define specific parameters that we want to estimate.\n",
    "\n",
    "We can pass the desired parameters to our __keys__ keyword argument."
   ]
  },
  {
   "cell_type": "code",
   "execution_count": null,
   "metadata": {},
   "outputs": [],
   "source": [
    "keys = ['thrower_height', 'throwing_speed', 'g']"
   ]
  },
  {
   "attachments": {},
   "cell_type": "markdown",
   "metadata": {},
   "source": [
    "To really see what `estimate_params()` is doing, we will print out the state before executing the estimation."
   ]
  },
  {
   "cell_type": "code",
   "execution_count": null,
   "metadata": {},
   "outputs": [],
   "source": [
    "# Printing state before\n",
    "print('Model configuration before')\n",
    "for key in keys:\n",
    "    print(\"-\", key, m[key])\n",
    "print(' Error: ', m.calc_error(times, inputs, outputs, dt=0.1))"
   ]
  },
  {
   "attachments": {},
   "cell_type": "markdown",
   "metadata": {},
   "source": [
    "Notice that the error is quite high. This indicates that the parameters are not accurate.\n",
    "\n",
    "Now, we will run `estimate_params()` with the data to correct these parameters."
   ]
  },
  {
   "cell_type": "code",
   "execution_count": null,
   "metadata": {},
   "outputs": [],
   "source": [
    "m.estimate_params(times = times, inputs = inputs, outputs = outputs, keys = keys, dt=0.1)"
   ]
  },
  {
   "attachments": {},
   "cell_type": "markdown",
   "metadata": {},
   "source": [
    "Now, let's see what the new parameters are after estimation."
   ]
  },
  {
   "cell_type": "code",
   "execution_count": null,
   "metadata": {},
   "outputs": [],
   "source": [
    "print('\\nOptimized configuration')\n",
    "for key in keys:\n",
    "    print(\"-\", key, m[key])\n",
    "print(' Error: ', m.calc_error(times, inputs, outputs, dt=0.1))"
   ]
  },
  {
   "attachments": {},
   "cell_type": "markdown",
   "metadata": {},
   "source": [
    "Sure enough, parameter estimation determined that the thrower's height wasn't 20m. Instead, it was closer to 1.8m, a much more reasonable height!"
   ]
  },
  {
   "attachments": {},
   "cell_type": "markdown",
   "metadata": {},
   "source": [
    "## Using Tol"
   ]
  },
  {
   "attachments": {},
   "cell_type": "markdown",
   "metadata": {},
   "source": [
    "An additional feature of the `estimate_params()` function is the tolerance feature, or `tol`. The exact function that the `tol` argument\n",
    "uses is specific to the method used. For example, the `tol` argument for the `Nelder-Mead` method is the change in the lowest error and its corresponding parameter values between iterations. The difference between iterations for both of these must be below `tol` for parameter estimation to converge.\n",
    "\n",
    "For example, if in the nth iteration of the optimizer above the best error was __2e-5__ and the cooresponding values were thrower_height=1.8, throwing_speed=40, and g=-9.8 and at the n+1th iteration the best error was __1e-5__ and the cooresponding values were thrower_height=1.85, throwing_speed=39.5, and g=-9.81, then the difference in error would be __1e-5__ and the difference in parameter values would be \n",
    "\n",
    "$$\\sqrt{(1.85 - 1.8)^2 + (40 - 39.5)^2 + (9 - 9.81)^2} = 0.5025932749$$\n",
    "\n",
    "In this case, error would meet a tol of __1e-4__, but the parameters would not, so optimization would continue. For more information, see the [scipy.optimize.minimize](https://docs.scipy.org/doc/scipy/reference/generated/scipy.optimize.minimize.html) documentation.\n",
    "\n",
    "In our previous example, note that our total error was roughly __6e-10__ after the `estimate_params()` call, using the default `tol` of __1e-4__. Now, let us see what happens to the parameters when we pass a tolerance of __1e-6__."
   ]
  },
  {
   "cell_type": "code",
   "execution_count": null,
   "metadata": {},
   "outputs": [],
   "source": [
    "m = ThrownObject(thrower_height=20, throwing_speed=3.1, g=15)\n",
    "m.estimate_params(times = times, inputs = inputs, outputs = outputs, keys = keys, dt=0.1, tol=1e-6)\n",
    "print('\\nOptimized configuration')\n",
    "for key in keys:\n",
    "    print(\"-\", key, m[key])\n",
    "print(' Error: ', m.calc_error(times, inputs, outputs, dt=0.1))"
   ]
  },
  {
   "attachments": {},
   "cell_type": "markdown",
   "metadata": {},
   "source": [
    "As expected, reducing the tolerance leads to a decrease in the overall error, resulting in more accurate parameters.\n",
    "\n",
    "Note that if we were to set a high tolerance, such as 10, our error would consequently be very high! Also note that the tol value is for scipy minimize. It is different but strongly correlated to the result of calc_error. For more information on how the `tol` feature works, please refer to scipy's `minimize()` [documentation](https://docs.scipy.org/doc/scipy/reference/generated/scipy.optimize.minimize.html).\n",
    "\n",
    "You can also adjust the metric that is used to estimate parameters by setting the error_method to a different `calc_error()` method (see example below). Default is Mean Squared Error (`MSE`). See `calc_error()` method for list of options."
   ]
  },
  {
   "cell_type": "code",
   "execution_count": null,
   "metadata": {},
   "outputs": [],
   "source": [
    "m['thrower_height'] = 3.1\n",
    "m['throwing_speed'] = 29\n",
    "\n",
    "# Using MAE, or Mean Absolute Error instead of the default Mean Squared Error.\n",
    "m.estimate_params(times = times, inputs = inputs, outputs = outputs, keys = keys, dt=0.1, tol=1e-9, error_method='MAX_E')\n",
    "print('\\nOptimized configuration')\n",
    "for key in keys:\n",
    "    print(\"-\", key, m[key])\n",
    "print(' Error: ', m.calc_error(times, inputs, outputs, dt=0.1, method='MAX_E'))"
   ]
  },
  {
   "attachments": {},
   "cell_type": "markdown",
   "metadata": {},
   "source": [
    "Note that `MAX_E` is frequently better at capturing tail behavior in many prognostic models."
   ]
  },
  {
   "attachments": {},
   "cell_type": "markdown",
   "metadata": {},
   "source": [
    "## Handling Noise with Multiple Runs"
   ]
  },
  {
   "attachments": {},
   "cell_type": "markdown",
   "metadata": {},
   "source": [
    "In the previous two examples, we demonstrated how to use `estimate_params()` using a clearly defined ThrownObject model. However, unlike most models, we assumed that there would be no noise!\n",
    "\n",
    "In this example, we'll show how to use `estimate_params()` with noisy data. First, let's repeat the previous example, this time generating data from a noisy model."
   ]
  },
  {
   "cell_type": "code",
   "execution_count": null,
   "metadata": {},
   "outputs": [],
   "source": [
    "m = ThrownObject(process_noise = 1)\n",
    "results = m.simulate_to_threshold(save_freq=0.5, dt=('auto', 0.1))\n",
    "\n",
    "# Resetting parameters to their incorrectly set values.\n",
    "m['thrower_height'] = 20\n",
    "m['throwing_speed'] = 3.1\n",
    "m['g'] = 15\n",
    "keys = ['thrower_height', 'throwing_speed', 'g']"
   ]
  },
  {
   "cell_type": "code",
   "execution_count": null,
   "metadata": {},
   "outputs": [],
   "source": [
    "m.estimate_params(times = results.times, inputs = results.inputs, outputs = results.outputs, keys = keys)\n",
    "print('\\nOptimized configuration')\n",
    "for key in keys:\n",
    "    print(\"-\", key, m[key])\n",
    "print(' Error: ', m.calc_error(results.times, results.inputs, results.outputs))"
   ]
  },
  {
   "attachments": {},
   "cell_type": "markdown",
   "metadata": {},
   "source": [
    "In this case, the error from calc_error is low, but to have an accurate estimation of the error, we should actually be manually measuring the Absolute Mean Error rather than using `calc_error()`.\n",
    "\n",
    "The reason being is simple. `calc_error()` is calculating the error between the simulated and observed data. However, the observed and simulated data in this case are being generated from a model that has noise. In other words, we are comparing the difference of noise to noise, which can lead to inconsistent results.\n",
    "\n",
    "Let's create a helper function to calculate the Absolute Mean Error between our original and estimated parameters."
   ]
  },
  {
   "cell_type": "code",
   "execution_count": null,
   "metadata": {},
   "outputs": [],
   "source": [
    "# Creating a new model with the original parameters to compare to the model with noise.\n",
    "true_Values = ThrownObject()\n",
    "\n",
    "# Function to determine the Absolute Mean Error (AME) of the model parameters.\n",
    "def AME(m, keys):\n",
    "    error = 0\n",
    "    for key in keys:\n",
    "        error += abs(m[key] - true_Values[key])\n",
    "    return error"
   ]
  },
  {
   "attachments": {},
   "cell_type": "markdown",
   "metadata": {},
   "source": [
    "Now using our new AME function we see that the error isn't as great as we thought."
   ]
  },
  {
   "cell_type": "code",
   "execution_count": null,
   "metadata": {},
   "outputs": [],
   "source": [
    "AME(m, keys)"
   ]
  },
  {
   "attachments": {},
   "cell_type": "markdown",
   "metadata": {},
   "source": [
    "Note that the error changes every time due to the randomness of noise:"
   ]
  },
  {
   "cell_type": "code",
   "execution_count": null,
   "metadata": {},
   "outputs": [],
   "source": [
    "for count in range(10):\n",
    "    m = ThrownObject(process_noise = 1)\n",
    "    results = m.simulate_to_threshold(save_freq=0.5, dt=('auto', 0.1))\n",
    "    \n",
    "    # Resetting parameters to their originally incorrectly set values.\n",
    "    m['thrower_height'] = 20\n",
    "    m['throwing_speed'] = 3.1\n",
    "    m['g'] = 15\n",
    "\n",
    "    m.estimate_params(times = results.times, inputs = results.inputs, outputs = results.outputs, keys = keys, dt=0.1)\n",
    "    error = AME(m, ['thrower_height', 'throwing_speed', 'g'])\n",
    "    print(f'Estimate Call Number {count} - AME Error {error}')"
   ]
  },
  {
   "attachments": {},
   "cell_type": "markdown",
   "metadata": {},
   "source": [
    "This issue with noise can be overcome with more data. Let's repeat the example above, this time using data from multiple runs. First, let's generate the data:"
   ]
  },
  {
   "cell_type": "code",
   "execution_count": null,
   "metadata": {},
   "outputs": [],
   "source": [
    "times, inputs, outputs = [], [], []\n",
    "m = ThrownObject(process_noise=1)\n",
    "for count in range(20):\n",
    "    results = m.simulate_to_threshold(save_freq=0.5, dt=('auto', 0.1))\n",
    "    times.append(results.times)\n",
    "    inputs.append(results.inputs)\n",
    "    outputs.append(results.outputs)"
   ]
  },
  {
   "attachments": {},
   "cell_type": "markdown",
   "metadata": {},
   "source": [
    "Next, let's reset the parameters to our incorrect values."
   ]
  },
  {
   "cell_type": "code",
   "execution_count": null,
   "metadata": {},
   "outputs": [],
   "source": [
    "m['thrower_height'] = 20\n",
    "m['throwing_speed'] = 3.1\n",
    "m['g'] = 15"
   ]
  },
  {
   "attachments": {},
   "cell_type": "markdown",
   "metadata": {},
   "source": [
    "Finally, let's call `estimate_params()` with all the collected data."
   ]
  },
  {
   "cell_type": "code",
   "execution_count": null,
   "metadata": {},
   "outputs": [],
   "source": [
    "m.estimate_params(times=times, inputs=inputs, outputs=outputs, keys=keys, dt=0.1)\n",
    "print('\\nOptimized configuration')\n",
    "for key in keys:\n",
    "    print(\"-\", key, m[key])\n",
    "error = AME(m, ['thrower_height', 'throwing_speed', 'g'])\n",
    "print('AME Error: ', error)"
   ]
  },
  {
   "attachments": {},
   "cell_type": "markdown",
   "metadata": {},
   "source": [
    "Notice that by using data from multiple runs, we are able to produce a lower AME Error than before. This is because we are able to simulate the noise multiple times, which in turn, allows our `estimate_params()` to produce a more accurate result since it is given more data to work with."
   ]
  },
  {
   "cell_type": "markdown",
   "metadata": {},
   "source": [
    "## Simplified Battery"
   ]
  },
  {
   "cell_type": "markdown",
   "metadata": {},
   "source": [
    "The previous examples all used a simple model, the ThrownObject. For large, complex models, it can be VERY difficult and computationall expensive.\n",
    "\n",
    "In this example, we will estimate the parameters for the simplified battery model. This model is more complex than the ThrownObject model but is still a relatively simple model. This example demonstrates some approaches useful for estimating parameters in complex models, like estimating parameter subsets on data selected to highlight specific features.\n",
    "\n",
    "Let's prepare some data for parameter estimation. We will be using the datasets subpackage in progpy for this."
   ]
  },
  {
   "cell_type": "markdown",
   "metadata": {},
   "source": [
    "### Data Prep"
   ]
  },
  {
   "cell_type": "code",
   "execution_count": null,
   "metadata": {},
   "outputs": [],
   "source": [
    "from progpy.datasets import nasa_battery\n",
    "(desc, data) = nasa_battery.load_data(1)"
   ]
  },
  {
   "cell_type": "markdown",
   "metadata": {},
   "source": [
    "The dataset includes 4 different kinds of runs: trickle, step, reference, random walk. We're going to split the dataset into one example for each of the different types for use later.\n",
    "\n",
    "Let's take a look at the trickle discharge run first."
   ]
  },
  {
   "cell_type": "code",
   "execution_count": null,
   "metadata": {},
   "outputs": [],
   "source": [
    "trickle_dataset = data[0]\n",
    "print(trickle_dataset)\n",
    "trickle_dataset.plot(y=['current', 'voltage', 'temperature'], subplots=True, xlabel='Time (sec)')"
   ]
  },
  {
   "cell_type": "markdown",
   "metadata": {},
   "source": [
    "Now let's do the same for a reference discharge run (5)."
   ]
  },
  {
   "cell_type": "code",
   "execution_count": null,
   "metadata": {},
   "outputs": [],
   "source": [
    "reference_dataset = data[5]\n",
    "reference_dataset.plot(y=['current', 'voltage', 'temperature'], subplots=True, xlabel='Time (sec)')"
   ]
  },
  {
   "cell_type": "markdown",
   "metadata": {},
   "source": [
    "Now let's do it for the step runs. Note that this is actually multiple runs that we need to combine. \n",
    "\n",
    "relativeTime resets for each \"run\". So if we're going to use multiple runs together, we need to stitch these times together."
   ]
  },
  {
   "cell_type": "code",
   "execution_count": null,
   "metadata": {},
   "outputs": [],
   "source": [
    "data[7]['absoluteTime'] = data[7]['relativeTime']\n",
    "for i in range(8, 32):\n",
    "    data[i]['absoluteTime'] = data[i]['relativeTime'] + data[i-1]['absoluteTime'].iloc[-1]"
   ]
  },
  {
   "cell_type": "markdown",
   "metadata": {},
   "source": [
    "Next, we should combine the data into a single dataset and investigate the results"
   ]
  },
  {
   "cell_type": "code",
   "execution_count": null,
   "metadata": {},
   "outputs": [],
   "source": [
    "import pandas as pd\n",
    "step_dataset = pd.concat(data[7:32], ignore_index=True)\n",
    "print(step_dataset)\n",
    "step_dataset.plot(y=['current', 'voltage', 'temperature'], subplots=True, xlabel='Time (sec)')"
   ]
  },
  {
   "cell_type": "markdown",
   "metadata": {},
   "source": [
    "Finally, let's investigate the random walk discharge\n",
    "\n",
    "Like the step discharge, we need to stitch together the times and concatenate the data"
   ]
  },
  {
   "cell_type": "code",
   "execution_count": null,
   "metadata": {},
   "outputs": [],
   "source": [
    "data[35]['absoluteTime'] = data[35]['relativeTime']\n",
    "for i in range(36, 50):\n",
    "    data[i]['absoluteTime'] = data[i]['relativeTime'] + data[i-1]['absoluteTime'].iloc[-1]"
   ]
  },
  {
   "cell_type": "code",
   "execution_count": null,
   "metadata": {},
   "outputs": [],
   "source": [
    "random_walk_dataset = pd.concat(data[35:50], ignore_index=True)\n",
    "print(random_walk_dataset)\n",
    "random_walk_dataset.plot(y=['current', 'voltage', 'temperature'], subplots=True, xlabel='Time (sec)')"
   ]
  },
  {
   "cell_type": "markdown",
   "metadata": {},
   "source": [
    "Now the data is ready for this tutorial, let's dive into it."
   ]
  },
  {
   "cell_type": "markdown",
   "metadata": {},
   "source": [
    "### Set Up Model"
   ]
  },
  {
   "cell_type": "code",
   "execution_count": null,
   "metadata": {},
   "outputs": [],
   "source": [
    "from progpy.models import SimplifiedBattery\n",
    "m = SimplifiedBattery()"
   ]
  },
  {
   "cell_type": "markdown",
   "metadata": {},
   "source": [
    "### Parameter Estimation"
   ]
  },
  {
   "cell_type": "markdown",
   "metadata": {},
   "source": [
    "Let's take a look at the parameter space."
   ]
  },
  {
   "cell_type": "code",
   "execution_count": null,
   "metadata": {},
   "outputs": [],
   "source": [
    "m.parameters"
   ]
  },
  {
   "cell_type": "markdown",
   "metadata": {},
   "source": [
    "Let's test how well it fits the random walk dataset. First let's prepare the data and future load equation."
   ]
  },
  {
   "cell_type": "code",
   "execution_count": null,
   "metadata": {},
   "outputs": [],
   "source": [
    "times_rw = random_walk_dataset['absoluteTime']\n",
    "inputs_rw = [elem[1]['voltage'] * elem[1]['current'] for elem in random_walk_dataset.iterrows()]\n",
    "outputs_rw = [{'v': elem[1]['voltage']} for elem in random_walk_dataset.iterrows()]\n",
    "\n",
    "import numpy as np\n",
    "def future_load_rw(t, x=None):\n",
    "    power = np.interp(t, times_rw, inputs_rw)\n",
    "    return {'P': power}"
   ]
  },
  {
   "cell_type": "markdown",
   "metadata": {},
   "source": [
    "Let's evaluate how well the battery matches the data."
   ]
  },
  {
   "cell_type": "code",
   "execution_count": null,
   "metadata": {},
   "outputs": [],
   "source": [
    "result = m.simulate_to(random_walk_dataset['absoluteTime'].iloc[-1], future_load_rw, dt=1, save_freq=100)\n",
    "from matplotlib import pyplot as plt\n",
    "plt.figure()\n",
    "plt.plot(times_rw, [z for z in random_walk_dataset['voltage']])\n",
    "plt.plot(result.times, [z['v'] for z in result.outputs])\n",
    "plt.xlabel('Time (sec)')\n",
    "plt.ylabel('Voltage (volts)')\n",
    "fig = result.event_states.plot()"
   ]
  },
  {
   "cell_type": "markdown",
   "metadata": {},
   "source": [
    "This is a terrible fit. Clearly the battery model isn't properly configured for this specific battery. Reading through the paper we see that the default parameters are for a larger battery pouch present in a UAV, much larger than the 18650 battery that produced our dataset.\n",
    "\n",
    "To correct this, we need to estimate the model parameters.\n",
    "\n",
    "There are 7 parameters to set (assuming initial SOC is always 1). We can start with setting a few parameters we know. We know that $v_L$ is about 4.2 (from the battery), we expect that the battery internal resistance is the same as that in the electrochemistry model, and we know that the capacity of this battery is significantly smaller."
   ]
  },
  {
   "cell_type": "code",
   "execution_count": null,
   "metadata": {},
   "outputs": [],
   "source": [
    "m['v_L'] = 4.2 # We know this\n",
    "from progpy.models import BatteryElectroChemEOD\n",
    "m['R_int'] = BatteryElectroChemEOD.default_parameters['Ro']\n",
    "m['E_crit'] /= 4 # Battery capacity is much smaller"
   ]
  },
  {
   "cell_type": "markdown",
   "metadata": {},
   "source": [
    "Now let's take a look at the model fit again and see where that got us."
   ]
  },
  {
   "cell_type": "code",
   "execution_count": null,
   "metadata": {},
   "outputs": [],
   "source": [
    "result_guess = m.simulate_to(random_walk_dataset['absoluteTime'].iloc[-1], future_load_rw, dt=1, save_freq=5)\n",
    "plt.plot(times_rw, [z for z in random_walk_dataset['voltage']])\n",
    "plt.plot(result_guess.times, [z['v'] for z in result_guess.outputs])\n",
    "plt.xlabel('Time (sec)')\n",
    "plt.ylabel('Voltage (volts)')"
   ]
  },
  {
   "cell_type": "markdown",
   "metadata": {},
   "source": [
    "Much better, but not there yet. Next, we need to use the parameter estimation feature to estimate the parameters further. First let's prepare some data. We'll use the trickle, reference, and step datasets for this. These are close enough temporally that we can expect aging effects to be minimal.\n",
    "\n",
    "**NOTE: It is important to use a different dataset to estimate parameters as to test**"
   ]
  },
  {
   "cell_type": "code",
   "execution_count": null,
   "metadata": {},
   "outputs": [],
   "source": [
    "times_trickle = trickle_dataset['relativeTime']\n",
    "inputs_trickle = [{'P': elem[1]['voltage'] * elem[1]['current']} for elem in trickle_dataset.iterrows()]\n",
    "outputs_trickle = [{'v': elem[1]['voltage']} for elem in trickle_dataset.iterrows()]\n",
    "\n",
    "times_ref = reference_dataset['relativeTime']\n",
    "inputs_ref = [{'P': elem[1]['voltage'] * elem[1]['current']} for elem in reference_dataset.iterrows()]\n",
    "outputs_ref = [{'v': elem[1]['voltage']} for elem in reference_dataset.iterrows()]\n",
    "\n",
    "times_step = step_dataset['relativeTime']\n",
    "inputs_step = [{'P': elem[1]['voltage'] * elem[1]['current']} for elem in step_dataset.iterrows()]\n",
    "outputs_step = [{'v': elem[1]['voltage']} for elem in step_dataset.iterrows()]"
   ]
  },
  {
   "cell_type": "markdown",
   "metadata": {},
   "source": [
    "Now let's print the keys and the error beforehand for reference. The error here is what is used to estimate parameters."
   ]
  },
  {
   "cell_type": "code",
   "execution_count": null,
   "metadata": {},
   "outputs": [],
   "source": [
    "inputs_reformatted_rw = [{'P': elem[1]['voltage'] * elem[1]['current']} for elem in random_walk_dataset.iterrows()]\n",
    "all_keys = ['v_L', 'R_int', 'lambda', 'gamma', 'mu', 'beta', 'E_crit']\n",
    "print('Model configuration')\n",
    "for key in all_keys:\n",
    "    print(\"-\", key, m[key])\n",
    "error_guess = m.calc_error(times=times_rw.to_list(), inputs=inputs_reformatted_rw, outputs=outputs_rw)\n",
    "print('Error: ', error_guess)"
   ]
  },
  {
   "cell_type": "markdown",
   "metadata": {},
   "source": [
    "Next, lets set the bounds on each of the parameters.\n",
    "\n",
    "For $v_L$ and $R_{int}$, we're defining some small bounds because we have an idea of what they might be. For the others we are saying it's between 0.1 and 10x the default battery. We also are adding a constraint that E_crit must be smaller than the default, since we know it's a smaller battery."
   ]
  },
  {
   "cell_type": "code",
   "execution_count": null,
   "metadata": {},
   "outputs": [],
   "source": [
    "bounds= {\n",
    "    'v_L': (3.75, 4.5),\n",
    "    'R_int': (BatteryElectroChemEOD.default_parameters['Ro']*0.5, BatteryElectroChemEOD.default_parameters['Ro']*2.5),\n",
    "    'lambda': (0.046/10, 0.046*10),\n",
    "    'gamma': (3.355/10, 3.355*10),\n",
    "    'mu': (2.759/10, 2.759*10),\n",
    "    'beta': (8.482/10, 8.482*10),\n",
    "    'E_crit': (202426.858/10, 202426.858) # (smaller than default)\n",
    "}"
   ]
  },
  {
   "cell_type": "markdown",
   "metadata": {},
   "source": [
    "Finally, we'll estimate the parameters. See the [Parameter Estimation](https://nasa.github.io/progpy/prog_models_guide.html#parameter-estimation) section in the ProgPy documentation for more details.\n",
    "\n",
    "We can throw all of the data into estimate parameters, but that will take a LONG time to run, and is prone to errors (e.g., getting stuck in local minima). So, for this example we split characterization into parts.\n",
    "\n",
    "First, we try to capture the base voltage ($v_L$). If we look at the equation above, $v_L$ is the only term that is not a function of either SOC or power. So, for this estimation we use the trickle dataset, where power draw is the lowest, and we only use the first section where SOC can be assumed to be about 1."
   ]
  },
  {
   "cell_type": "code",
   "execution_count": null,
   "metadata": {},
   "outputs": [],
   "source": [
    "keys = ['v_L']\n",
    "m.estimate_params(times=trickle_dataset['relativeTime'].iloc[:10].to_list(), inputs=inputs_trickle[:10], outputs=outputs_trickle[:10], keys=keys, dt=1, bounds=bounds)"
   ]
  },
  {
   "cell_type": "markdown",
   "metadata": {},
   "source": [
    "Let's take a look at what that got us."
   ]
  },
  {
   "cell_type": "code",
   "execution_count": null,
   "metadata": {},
   "outputs": [],
   "source": [
    "print('Model configuration')\n",
    "for key in all_keys:\n",
    "    print(\"-\", key, m[key])\n",
    "error_fit1 = m.calc_error(times=times_rw.to_list(), inputs=inputs_reformatted_rw, outputs=outputs_rw)\n",
    "print(f'Error: {error_guess}->{error_fit1} ({error_fit1-error_guess})')\n",
    "\n",
    "result_fit1 = m.simulate_to(random_walk_dataset['absoluteTime'].iloc[-1], future_load_rw, dt=1, save_freq=5)\n",
    "plt.plot(times_rw, [z for z in random_walk_dataset['voltage']], label='ground truth')\n",
    "plt.plot(result_guess.times, [z['v'] for z in result_guess.outputs], label='guess')\n",
    "plt.plot(result_fit1.times, [z['v'] for z in result_fit1.outputs], label='fit1')\n",
    "plt.legend()\n",
    "plt.xlabel('Time (sec)')\n",
    "plt.ylabel('Voltage (volts)')\n",
    "\n",
    "plt.figure()\n",
    "plt.plot([0, 1], [error_guess, error_fit1])\n",
    "plt.xlabel('Parameter Estimation Run')\n",
    "plt.ylabel('Error')\n",
    "plt.ylim((0, 0.25))"
   ]
  },
  {
   "cell_type": "markdown",
   "metadata": {},
   "source": [
    "A tiny bit closer, but not significant. Our initial guess (from the packaging) must have been pretty good.\n",
    "\n",
    "The next step is to estimate the effect of current on the battery. The Parameter $R_{int}$ (internal resistance) effects this. To estimate $R_{int}$ we will use 2 runs where power is not minimal (ref and step runs). Again, we will use only the first couple steps so EOL can be assumed to be 1."
   ]
  },
  {
   "cell_type": "code",
   "execution_count": null,
   "metadata": {},
   "outputs": [],
   "source": [
    "keys = ['R_int']\n",
    "m.estimate_params(times=[times_ref.iloc[:5].to_list(), times_step.iloc[:5].to_list()], inputs=[inputs_ref[:5], inputs_step[:5]], outputs=[outputs_ref[:5], outputs_step[:5]], keys=keys, dt=1, bounds=bounds)"
   ]
  },
  {
   "cell_type": "markdown",
   "metadata": {},
   "source": [
    "Again, let's look at what that got us."
   ]
  },
  {
   "cell_type": "code",
   "execution_count": null,
   "metadata": {},
   "outputs": [],
   "source": [
    "print('Model configuration')\n",
    "for key in all_keys:\n",
    "    print(\"-\", key, m[key])\n",
    "error_fit2 = m.calc_error(times=times_rw.to_list(), inputs=inputs_reformatted_rw, outputs=outputs_rw)\n",
    "print(f'Error: {error_fit1}->{error_fit2} ({error_fit2-error_fit1})')\n",
    "\n",
    "result_fit2 = m.simulate_to(random_walk_dataset['absoluteTime'].iloc[-1], future_load_rw, dt=1, save_freq=5)\n",
    "plt.plot(times_rw, [z for z in random_walk_dataset['voltage']], label='ground truth')\n",
    "plt.plot(result_guess.times, [z['v'] for z in result_guess.outputs], label='guess')\n",
    "plt.plot(result_fit1.times, [z['v'] for z in result_fit1.outputs], label='fit1')\n",
    "plt.plot(result_fit2.times, [z['v'] for z in result_fit2.outputs], label='fit2')\n",
    "plt.legend()\n",
    "plt.xlabel('Time (sec)')\n",
    "plt.ylabel('Voltage (volts)')\n",
    "\n",
    "plt.figure()\n",
    "plt.plot([0, 1, 2], [error_guess, error_fit1, error_fit2])\n",
    "plt.xlabel('Parameter Estimation Run')\n",
    "plt.ylabel('Error')\n",
    "plt.ylim((0, 0.25))"
   ]
  },
  {
   "cell_type": "markdown",
   "metadata": {},
   "source": [
    "Much better, but not there yet! Finally we need to estimate the effects of SOC on battery performance. This involves all of the rest of the parameters. For this we will use all the rest of the parameters. We will not be using the entire reference curve to capture a full discharge.\n",
    "\n",
    "Note we're using the error_method `MAX_E`, instead of the default `MSE`. This results in parameters that better estimate the end of the discharge curve and is recommended when estimating parameters that are combined with the event state."
   ]
  },
  {
   "cell_type": "code",
   "execution_count": null,
   "metadata": {},
   "outputs": [],
   "source": [
    "keys = ['lambda', 'gamma', 'mu', 'beta', 'E_crit']\n",
    "m.estimate_params(times=times_ref.to_list(), inputs=inputs_ref, outputs=outputs_ref, keys=keys, dt=1, bounds=bounds, error_method=\"MAX_E\")"
   ]
  },
  {
   "cell_type": "markdown",
   "metadata": {},
   "source": [
    "Let's see what that got us."
   ]
  },
  {
   "cell_type": "code",
   "execution_count": null,
   "metadata": {},
   "outputs": [],
   "source": [
    "print('Model configuration')\n",
    "for key in all_keys:\n",
    "    print(\"-\", key, m[key])\n",
    "error_fit3 = m.calc_error(times=times_rw.to_list(), inputs=inputs_reformatted_rw, outputs=outputs_rw)\n",
    "print(f'Error: {error_fit2}->{error_fit3} ({error_fit3-error_fit2})')\n",
    "\n",
    "result_fit3 = m.simulate_to(random_walk_dataset['absoluteTime'].iloc[-1], future_load_rw, dt=1, save_freq=5)\n",
    "plt.plot(times_rw, [z for z in random_walk_dataset['voltage']], label='ground truth')\n",
    "plt.plot(result_guess.times, [z['v'] for z in result_guess.outputs], label='guess')\n",
    "plt.plot(result_fit1.times, [z['v'] for z in result_fit1.outputs], label='fit1')\n",
    "plt.plot(result_fit2.times, [z['v'] for z in result_fit2.outputs], label='fit2')\n",
    "plt.plot(result_fit3.times, [z['v'] for z in result_fit3.outputs], label='fit3')\n",
    "plt.legend()\n",
    "plt.xlabel('Time (sec)')\n",
    "plt.ylabel('Voltage (volts)')\n",
    "\n",
    "plt.figure()\n",
    "plt.plot([0, 1, 2, 3], [error_guess, error_fit1, error_fit2, error_fit3])\n",
    "plt.xlabel('Parameter Estimation Run')\n",
    "plt.ylabel('Error')\n",
    "plt.ylim((0, 0.25))"
   ]
  },
  {
   "cell_type": "markdown",
   "metadata": {},
   "source": [
    "This is even better. Now we have an \"ok\" estimate, ~150 mV (for the sake of a demo). The estimate could be refined further by setting a lower tolerance (tol parameter), or repeating the 4 parameter estimation steps, as shown above.\n",
    "\n",
    "Parameter estimation is also limited by the model itself. This is a simplified battery model, meaning there were some simplifying assumptions made. It will likely not be able to capture the behavior of a model as well as a higher fidelity model (e.g., BatteryElectroChemEOD)."
   ]
  },
  {
   "cell_type": "markdown",
   "metadata": {},
   "source": [
    "## Conclusion"
   ]
  },
  {
   "cell_type": "markdown",
   "metadata": {},
   "source": [
    "This chapter introduced the concept of parameter estimation, through which the parameters of a physics-based model are estimated. This is done using a mixture of data, knowledge (e.g., from system specs), and intuition. For large, complex models, it can be VERY difficult and computationally expensive. Fortunately, in this case we have a relatively simple model.\n",
    "\n",
    "In ProgPy a models `estimate_params` method is used to estimate the parameters. See [Parameter Estimation Docs](https://nasa.github.io/progpy/prog_models_guide.html#parameter-estimation) for more details.\n",
    "\n",
    "In the next notebook, we will be exploring (see __[03 Existing Models](03_Existing%20Models.ipynb)__)."
   ]
  }
 ],
 "metadata": {
  "kernelspec": {
   "display_name": "Python 3.12.0 64-bit",
   "language": "python",
   "name": "python3"
  },
  "language_info": {
   "codemirror_mode": {
    "name": "ipython",
    "version": 3
   },
   "file_extension": ".py",
   "mimetype": "text/x-python",
   "name": "python",
   "nbconvert_exporter": "python",
   "pygments_lexer": "ipython3",
   "version": "3.12.0"
  },
  "orig_nbformat": 4,
  "vscode": {
   "interpreter": {
    "hash": "f1062708a37074d70712b695aadee582e0b0b9f95f45576b5521424137d05fec"
   }
  }
 },
 "nbformat": 4,
 "nbformat_minor": 2
}
