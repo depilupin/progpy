{
 "cells": [
  {
   "cell_type": "markdown",
   "metadata": {},
   "source": [
    "# Combining Prognostic Models"
   ]
  },
  {
   "cell_type": "markdown",
   "metadata": {},
   "source": [
    "This section demonstrates how prognostic models can be combined. There are two times in which this is useful: \n",
    "\n",
    "1. When combining multiple models of different inter-related systems into one system-of-system model (i.e., [Composite Models](https://nasa.github.io/progpy/api_ref/prog_models/CompositeModel.html)), or\n",
    "2. Combining multiple models of the same system to be simulated together and aggregated (i.e., [Ensemble Models](https://nasa.github.io/progpy/api_ref/prog_models/EnsembleModel.html)). This is generally done to improve the accuracy of prediction when you have multiple models that each represent part of the behavior or represent a distribution of different behaviors. \n",
    "\n",
    "These two methods for combining models are described in the following sections."
   ]
  },
  {
   "cell_type": "markdown",
   "metadata": {},
   "source": [
    "## Composite Model"
   ]
  },
  {
   "cell_type": "markdown",
   "metadata": {},
   "source": [
    "A CompositeModel is a PrognosticsModel that is composed of multiple PrognosticsModels. This is a tool for modeling system-of-systems. i.e., interconnected systems, where the behavior and state of one system affects the state of another system. The composite prognostics models are connected using defined connections between the output or state of one model, and the input of another model. The resulting CompositeModel behaves as a single model.\n",
    "\n",
    "To illustrate this, we will create a composite model of an aircraft's electric powertrain, combining the DCMotor, ESC, and PropellerLoad models. The Electronic Speed Controller (ESC) converts a commanded duty (i.e., throttle) to signals to the motor. The motor then acts on the signals from the ESC to spin the load, which enacts a torque on the motor (in this case from air resistence).\n",
    "\n",
    "First we will import the used models, and the CompositeModel class"
   ]
  },
  {
   "cell_type": "code",
   "execution_count": null,
   "metadata": {},
   "outputs": [],
   "source": [
    "from progpy.models import DCMotor, ESC, PropellerLoad\n",
    "from progpy import CompositeModel"
   ]
  },
  {
   "cell_type": "markdown",
   "metadata": {},
   "source": [
    "Next we will initiate objects of the individual models that will later create the composite powertrain model."
   ]
  },
  {
   "cell_type": "code",
   "execution_count": null,
   "metadata": {},
   "outputs": [],
   "source": [
    "m_motor = DCMotor()\n",
    "m_esc = ESC()\n",
    "m_load = PropellerLoad()"
   ]
  },
  {
   "cell_type": "markdown",
   "metadata": {},
   "source": [
    "Next we have to define the connections between the systems. Let's first define the connections from the DCMotor to the propeller load. For this, we'll need to look at the DCMotor states and understand how they influence the PropellerLoad inputs."
   ]
  },
  {
   "cell_type": "code",
   "execution_count": null,
   "metadata": {},
   "outputs": [],
   "source": [
    "print('motor states: ', m_motor.states)\n",
    "print('load inputs: ', m_load.inputs)"
   ]
  },
  {
   "cell_type": "markdown",
   "metadata": {},
   "source": [
    "Each of the states and inputs are described in the model documentation at [DC Motor Docs](https://nasa.github.io/progpy/api_ref/prog_models/IncludedModels.html#dc-motor) and [Propeller Docs](https://nasa.github.io/progpy/api_ref/prog_models/IncludedModels.html#propellerload)\n",
    "\n",
    "From reading the documentation we understand that the propeller's velocity is from the motor, so we can define the first connection:"
   ]
  },
  {
   "cell_type": "code",
   "execution_count": null,
   "metadata": {},
   "outputs": [],
   "source": [
    "connections = [\n",
    "    ('DCMotor.v_rot', 'PropellerLoad.v_rot')\n",
    "]"
   ]
  },
  {
   "cell_type": "markdown",
   "metadata": {},
   "source": [
    "Connections are defined as couples where the first value is the input for the second value. The connection above tells the composite model to feed the DCMotor's v_rot into the PropellerLoad's input v_rot.\n",
    "\n",
    "Next, let's look at the connections the other direction, from the load to the motor."
   ]
  },
  {
   "cell_type": "code",
   "execution_count": null,
   "metadata": {},
   "outputs": [],
   "source": [
    "print('load states: ', m_load.states)\n",
    "print('motor inputs: ', m_motor.inputs)"
   ]
  },
  {
   "cell_type": "markdown",
   "metadata": {},
   "source": [
    "We know here that the load on the motor is from the propeller load, so we can add that connection. "
   ]
  },
  {
   "cell_type": "code",
   "execution_count": null,
   "metadata": {},
   "outputs": [],
   "source": [
    "connections.append(('PropellerLoad.t_l', 'DCMotor.t_l'))"
   ]
  },
  {
   "cell_type": "markdown",
   "metadata": {},
   "source": [
    "Now we will repeat the exercise with the DCMotor and ESC."
   ]
  },
  {
   "cell_type": "code",
   "execution_count": null,
   "metadata": {},
   "outputs": [],
   "source": [
    "print('ESC states: ', m_esc.states)\n",
    "print('motor inputs: ', m_motor.inputs)\n",
    "connections.append(('ESC.v_a', 'DCMotor.v_a'))\n",
    "connections.append(('ESC.v_b', 'DCMotor.v_b'))\n",
    "connections.append(('ESC.v_c', 'DCMotor.v_c'))\n",
    "\n",
    "print('motor states: ', m_motor.states)\n",
    "print('ESC inputs: ', m_esc.inputs)\n",
    "connections.append(('DCMotor.theta', 'ESC.theta'))"
   ]
  },
  {
   "cell_type": "markdown",
   "metadata": {},
   "source": [
    "Now we are ready to combine the models. We create a composite model with the inidividual models and the defined connections."
   ]
  },
  {
   "cell_type": "code",
   "execution_count": null,
   "metadata": {},
   "outputs": [],
   "source": [
    "m_powertrain = CompositeModel(\n",
    "        (m_esc, m_load, m_motor), \n",
    "        connections=connections)"
   ]
  },
  {
   "cell_type": "markdown",
   "metadata": {},
   "source": [
    "The resulting model includes two inputs, ESC voltage (from the battery) and duty (i.e., commanded throttle). These are the only two inputs not connected internally from the original three models. The states are a combination of all the states of every system. Finally, the outputs are a combination of all the outputs from each of the individual systems. "
   ]
  },
  {
   "cell_type": "code",
   "execution_count": null,
   "metadata": {},
   "outputs": [],
   "source": [
    "print('inputs: ', m_powertrain.inputs)\n",
    "print('states: ', m_powertrain.states)\n",
    "print('outputs: ', m_powertrain.outputs)"
   ]
  },
  {
   "cell_type": "markdown",
   "metadata": {},
   "source": [
    "Frequently users only want a subset of the outputs from the original model. For example, in this case you're unlikely to be measuring the individual voltages from the ESC. Outputs can be specified when creating the composite model. For example:"
   ]
  },
  {
   "cell_type": "code",
   "execution_count": null,
   "metadata": {},
   "outputs": [],
   "source": [
    "m_powertrain = CompositeModel(\n",
    "        (m_esc, m_load, m_motor), \n",
    "        connections=connections,\n",
    "        outputs={'DCMotor.v_rot', 'DCMotor.theta'})\n",
    "print('outputs: ', m_powertrain.outputs)"
   ]
  },
  {
   "cell_type": "markdown",
   "metadata": {},
   "source": [
    "Now the outputs are only DCMotor angle and velocity.\n",
    "\n",
    "The resulting model can be used in simulation, state estimation, and prediction the same way any other model would be, as demonstrated below:"
   ]
  },
  {
   "cell_type": "code",
   "execution_count": null,
   "metadata": {},
   "outputs": [],
   "source": [
    "load = m_powertrain.InputContainer({\n",
    "        'ESC.duty': 1, # 100% Throttle\n",
    "        'ESC.v': 23\n",
    "    })\n",
    "def future_loading(t, x=None):\n",
    "    return load\n",
    "\n",
    "simulated_results = m_powertrain.simulate_to(1, future_loading, dt=2.5e-5, save_freq=2e-2)\n",
    "fig = simulated_results.outputs.plot(compact=False, keys=['DCMotor.v_rot'], ylabel='Velocity')\n",
    "fig = simulated_results.states.plot(keys=['DCMotor.i_b', 'DCMotor.i_c', 'DCMotor.i_a'], ylabel='ESC Currents')"
   ]
  },
  {
   "cell_type": "markdown",
   "metadata": {},
   "source": [
    "Parameters in composed models can be updated directly using the model_name.parameter name parameter of the composite model. Like so:"
   ]
  },
  {
   "cell_type": "code",
   "execution_count": null,
   "metadata": {},
   "outputs": [],
   "source": [
    "m_powertrain.parameters['PropellerLoad.D'] = 1"
   ]
  },
  {
   "cell_type": "markdown",
   "metadata": {},
   "source": [
    "Here we updated the propeller diameter to 1, greatly increasing the load on the motor. You can see this in the updated simulation outputs (below). When compared to the original results above you will find that the maximum velocity is lower. This is expected given the larger propeller load."
   ]
  },
  {
   "cell_type": "code",
   "execution_count": null,
   "metadata": {},
   "outputs": [],
   "source": [
    "simulated_results = m_powertrain.simulate_to(1, future_loading, dt=2.5e-5, save_freq=2e-2)\n",
    "fig = simulated_results.outputs.plot(compact=False, keys=['DCMotor.v_rot'], ylabel='Velocity')\n",
    "fig = simulated_results.states.plot(keys=['DCMotor.i_b', 'DCMotor.i_c', 'DCMotor.i_a'], ylabel='ESC Currents')"
   ]
  },
  {
   "cell_type": "markdown",
   "metadata": {},
   "source": [
    "Note: A function can be used to perform simple transitions between models. For example, if you wanted to multiply the torque by 1.1 to represent some gearing or additional load, that could be done by defining a function, as follows"
   ]
  },
  {
   "cell_type": "code",
   "execution_count": null,
   "metadata": {},
   "outputs": [],
   "source": [
    "def torque_multiplier(t_l):\n",
    "    return t_l * 1.1"
   ]
  },
  {
   "cell_type": "markdown",
   "metadata": {},
   "source": [
    "The function is referred to as 'function' by the composite model. So we can add the function into the connections as follows. Note that the argument name is used for the input of the function and 'return' is used to signify the function's return value. "
   ]
  },
  {
   "cell_type": "code",
   "execution_count": null,
   "metadata": {},
   "outputs": [],
   "source": [
    "connections = [\n",
    "    ('PropellerLoad.t_l', 'function.t_l'),\n",
    "    ('function.return', 'DCMotor.t_l')\n",
    "]"
   ]
  },
  {
   "cell_type": "markdown",
   "metadata": {},
   "source": [
    "Now let's add back in the other connections and build the composite model"
   ]
  },
  {
   "cell_type": "code",
   "execution_count": null,
   "metadata": {},
   "outputs": [],
   "source": [
    "connections.extend([\n",
    "    ('ESC.v_a', 'DCMotor.v_a'),\n",
    "    ('ESC.v_b', 'DCMotor.v_b'),\n",
    "    ('ESC.v_c', 'DCMotor.v_c'),\n",
    "    ('DCMotor.theta', 'ESC.theta'),\n",
    "    ('DCMotor.v_rot', 'PropellerLoad.v_rot')\n",
    "])\n",
    "m_powertrain = CompositeModel(\n",
    "        (m_esc, m_load, m_motor, torque_multiplier), \n",
    "        connections=connections,\n",
    "        outputs={'DCMotor.v_rot', 'DCMotor.theta'})\n",
    "simulated_results = m_powertrain.simulate_to(1, future_loading, dt=2.5e-5, save_freq=2e-2)\n",
    "fig = simulated_results.outputs.plot(compact=False, keys=['DCMotor.v_rot'], ylabel='Velocity')\n",
    "fig = simulated_results.states.plot(keys=['DCMotor.i_b', 'DCMotor.i_c', 'DCMotor.i_a'], ylabel='ESC Currents')"
   ]
  },
  {
   "cell_type": "markdown",
   "metadata": {},
   "source": [
    "Note that you can also have functions with more than one argument. If you dont connect the arguments of the function to some model, it will show up in the inputs of the composite model."
   ]
  },
  {
   "cell_type": "markdown",
   "metadata": {},
   "source": [
    "## Ensemble Model"
   ]
  },
  {
   "cell_type": "markdown",
   "metadata": {},
   "source": [
    "An ensemble model is an approach to modeling where one or more models of the same system are simulated together and then aggregated into a single prediction. This can be multiple versions of the same model with different parameters, or different models of the same system representing different parts of the system's behavior. This is generally done to improve the accuracy of prediction when you have multiple models that each represent part of the behavior or represent a distribution of different behaviors.\n",
    "\n",
    "In ensemble models, aggregation occurs in two steps, at state transition and then output, event state, threshold met, or performance metric calculation. At each state transition, the states from each aggregate model are combined based on the defined aggregation method. When calling output, the resulting outputs from each aggregate model are similarily combined. The default method is mean, but the user can also choose to use a custom aggregator.\n",
    "\n",
    "![Aggregation](img/aggregation.png)\n",
    "\n",
    "To illustrate this, let's create an example where there we have four equivalent circuit models, each with different configuration parameters, below. These represent the range of possible configurations expected for our example system."
   ]
  },
  {
   "cell_type": "code",
   "execution_count": null,
   "metadata": {},
   "outputs": [],
   "source": [
    "from progpy.models import BatteryCircuit\n",
    "m_circuit = BatteryCircuit()\n",
    "m_circuit_2 = BatteryCircuit(qMax = 7860)\n",
    "m_circuit_3 = BatteryCircuit(qMax = 6700, Rs = 0.055)"
   ]
  },
  {
   "cell_type": "markdown",
   "metadata": {},
   "source": [
    "Let's create an EnsembleModel which combines each of these."
   ]
  },
  {
   "cell_type": "code",
   "execution_count": null,
   "metadata": {},
   "outputs": [],
   "source": [
    "from progpy import EnsembleModel\n",
    "m_ensemble = EnsembleModel(\n",
    "    models=(m_circuit, m_circuit_2, m_circuit_3))"
   ]
  },
  {
   "cell_type": "markdown",
   "metadata": {},
   "source": [
    "Now let's evaluate the performance of the combined model using real battery data from NASA's prognostic data repository. See 07. Datasets for more detail on accessing data from this repository"
   ]
  },
  {
   "cell_type": "code",
   "execution_count": null,
   "metadata": {},
   "outputs": [],
   "source": [
    "from progpy.datasets import nasa_battery\n",
    "data = nasa_battery.load_data(batt_id=8)[1]\n",
    "RUN_ID = 0\n",
    "test_input = [{'i': i} for i in data[RUN_ID]['current']]\n",
    "test_time = data[RUN_ID]['relativeTime']"
   ]
  },
  {
   "cell_type": "markdown",
   "metadata": {},
   "source": [
    "To evaluate the model we first create a future loading function that uses the loading from the data."
   ]
  },
  {
   "cell_type": "code",
   "execution_count": null,
   "metadata": {},
   "outputs": [],
   "source": [
    "def future_loading(t, x=None):\n",
    "    for i, mission_time in enumerate(test_time):\n",
    "        if mission_time > t:\n",
    "            return m_circuit.InputContainer(test_input[i])\n",
    "    return m_circuit.InputContainer(test_input[-1])  # Default - last load"
   ]
  },
  {
   "cell_type": "code",
   "execution_count": null,
   "metadata": {},
   "outputs": [],
   "source": [
    "t_end = test_time.iloc[-1]\n",
    "from matplotlib import pyplot as plt"
   ]
  },
  {
   "cell_type": "markdown",
   "metadata": {},
   "source": [
    "Next we will simulate the ensemble model"
   ]
  },
  {
   "cell_type": "code",
   "execution_count": null,
   "metadata": {},
   "outputs": [],
   "source": [
    "t_end = test_time.iloc[-1]\n",
    "results_ensemble = m_ensemble.simulate_to(t_end, future_loading)"
   ]
  },
  {
   "cell_type": "markdown",
   "metadata": {},
   "source": [
    "Finally, we compare the voltage predicted by the ensemble model with the ground truth from dataset."
   ]
  },
  {
   "cell_type": "code",
   "execution_count": null,
   "metadata": {},
   "outputs": [],
   "source": [
    "from matplotlib import pyplot as plt\n",
    "fig = plt.plot(test_time, data[RUN_ID]['voltage'], color='green', label='ground truth')\n",
    "fig = plt.plot(results_ensemble.times, [z['v'] for z in results_ensemble.outputs], color='red', label='ensemble')\n",
    "plt.xlabel('Time (s)')\n",
    "plt.ylabel('Voltage')\n",
    "plt.legend()"
   ]
  },
  {
   "cell_type": "markdown",
   "metadata": {},
   "source": [
    "The ensemble model actually performs pretty poorly here. This is mostly because there's an outlier model (m_circuit_3). This can be resolved using a different aggregation method. By default, aggregation uses the mean. Let's update the ensemble model to use median and resimulate"
   ]
  },
  {
   "cell_type": "code",
   "execution_count": null,
   "metadata": {},
   "outputs": [],
   "source": [
    "import numpy as np\n",
    "m_ensemble['aggregation_method'] = np.median\n",
    "\n",
    "results_ensemble_median = m_ensemble.simulate_to(t_end, future_loading)\n",
    "fig = plt.plot(results_ensemble_median.times, [z['v'] for z in results_ensemble_median.outputs], color='orange', label='ensemble -median')\n",
    "fig = plt.plot(test_time, data[RUN_ID]['voltage'], color='green', label='ground truth')\n",
    "fig = plt.plot(results_ensemble.times, [z['v'] for z in results_ensemble.outputs], color='red', label='ensemble')\n",
    "plt.xlabel('Time (s)')\n",
    "plt.ylabel('Voltage')\n",
    "plt.legend()"
   ]
  },
  {
   "cell_type": "markdown",
   "metadata": {},
   "source": [
    "Much better!"
   ]
  },
  {
   "cell_type": "markdown",
   "metadata": {},
   "source": [
    "The same ensemble approach can be used with a heterogeneous set of models that have different states.\n",
    "\n",
    "Here we will repeat the exercise using the battery electrochemisty and equivalent circuit models. The two models share one state in common (tb), but otherwise are different"
   ]
  },
  {
   "cell_type": "code",
   "execution_count": null,
   "metadata": {},
   "outputs": [],
   "source": [
    "from progpy.models import BatteryElectroChemEOD\n",
    "m_electro = BatteryElectroChemEOD(qMobile=7800)\n",
    "\n",
    "print('Electrochem states: ', m_electro.states)\n",
    "print('Equivalent Circuit States', m_circuit.states)"
   ]
  },
  {
   "cell_type": "markdown",
   "metadata": {},
   "source": [
    "Now let's create an ensemble model combining these and evaluate it."
   ]
  },
  {
   "cell_type": "code",
   "execution_count": null,
   "metadata": {},
   "outputs": [],
   "source": [
    "m_ensemble = EnsembleModel((m_circuit, m_electro))\n",
    "results_ensemble = m_ensemble.simulate_to(t_end, future_loading)"
   ]
  },
  {
   "cell_type": "markdown",
   "metadata": {},
   "source": [
    "To compare these results, let's also simulate the two models that comprise the ensemble model."
   ]
  },
  {
   "cell_type": "code",
   "execution_count": null,
   "metadata": {},
   "outputs": [],
   "source": [
    "results_circuit1 = m_circuit.simulate_to(t_end, future_loading)\n",
    "results_electro = m_electro.simulate_to(t_end, future_loading)"
   ]
  },
  {
   "cell_type": "markdown",
   "metadata": {},
   "source": [
    "The results of each of these are plotted below."
   ]
  },
  {
   "cell_type": "code",
   "execution_count": null,
   "metadata": {},
   "outputs": [],
   "source": [
    "plt.figure()\n",
    "plt.plot(results_circuit1.times, [z['v'] for z in results_circuit1.outputs], color='blue', label='circuit')\n",
    "plt.plot(results_electro.times, [z['v'] for z in results_electro.outputs], color='red', label='electro chemistry')\n",
    "plt.plot(results_ensemble.times, [z['v'] for z in results_ensemble.outputs], color='yellow', label='ensemble')\n",
    "plt.plot(test_time, data[RUN_ID]['voltage'], color='green', label='ground truth')\n",
    "plt.legend()"
   ]
  },
  {
   "cell_type": "markdown",
   "metadata": {},
   "source": [
    "Note that the result may not be exactly between the other two models. This is because of aggregation is done in 2 steps: at state transition and then at output calculation.\n",
    "\n",
    "Ensemble models can be further extended to include an aggregator that selects the best model at any given time. That feature is described in the following section."
   ]
  },
  {
   "cell_type": "markdown",
   "metadata": {},
   "source": [
    "## Mixture of Experts (MoE)"
   ]
  },
  {
   "cell_type": "markdown",
   "metadata": {},
   "source": [
    "Mixture of Experts (MoE) models combine multiple models of the same system, similar to Ensemble models. Unlike Ensemble Models, the aggregation is done by selecting the \"best\" model. That is the model that has performed the best over the past. Each model will have a 'score' that is tracked in the state, and this determines which model is best.\n",
    "\n",
    "To demonstrate this feature we will repeat the example from the ensemble model section, this time with a mixture of experts model. For this example to work you will have had to have run the ensemble model section example.\n",
    "\n",
    "First, let's combine the three battery circuit models into a single mixture of experts model."
   ]
  },
  {
   "cell_type": "code",
   "execution_count": null,
   "metadata": {},
   "outputs": [],
   "source": [
    "from progpy import MixtureOfExpertsModel\n",
    "m = MixtureOfExpertsModel((m_circuit_3, m_circuit_2, m_circuit))"
   ]
  },
  {
   "cell_type": "markdown",
   "metadata": {},
   "source": [
    "The combined model has the same outputs and events as the circuit model. "
   ]
  },
  {
   "cell_type": "code",
   "execution_count": null,
   "metadata": {},
   "outputs": [],
   "source": [
    "print(m.outputs)\n",
    "print(m.events)"
   ]
  },
  {
   "cell_type": "markdown",
   "metadata": {},
   "source": [
    "Its states contain all of the states of each model, kept separate. Each individual model comprising the MoE model will be simulated separately, so the model keeps track of the states propogated through each model separately. The states also include scores for each model."
   ]
  },
  {
   "cell_type": "code",
   "execution_count": null,
   "metadata": {},
   "outputs": [],
   "source": [
    "print(m.states)"
   ]
  },
  {
   "cell_type": "markdown",
   "metadata": {},
   "source": [
    "The MoE model inputs include both the comprised model input, `i` (current) and outputs: `v` (voltage) and `t`(temperature). The comprised model outputs are provided to update the scores of each model when performing state transition. If they are not provided when calling next_state, then scores would not be updated."
   ]
  },
  {
   "cell_type": "code",
   "execution_count": null,
   "metadata": {},
   "outputs": [],
   "source": [
    "print(m.inputs)"
   ]
  },
  {
   "cell_type": "markdown",
   "metadata": {},
   "source": [
    "Now let's evaluate the performance of the combined model using real battery data from NASA's prognostic data repository, downloaded in the previous sections. See 07. Datasets for more detail on accessing data from this repository.\n",
    "\n",
    "To evaluate the model we first create a future loading function that uses the loading from the data."
   ]
  },
  {
   "cell_type": "code",
   "execution_count": null,
   "metadata": {},
   "outputs": [],
   "source": [
    "results_moe = m.simulate_to(t_end, future_loading)\n",
    "fig = plt.plot(test_time, data[RUN_ID]['voltage'], color='green', label='ground truth')\n",
    "fig = plt.plot(results_moe.times, [z['v'] for z in results_moe.outputs], color='red', label='ensemble')\n",
    "plt.xlabel('Time (s)')\n",
    "plt.ylabel('Voltage')\n",
    "plt.legend()"
   ]
  },
  {
   "cell_type": "markdown",
   "metadata": {},
   "source": [
    "Here the model performs pretty poorly. If you were to look at the state, we see that the three scores are equal. This is because we haven't provided any output information. The future load function doesn't include the output, just the input (`i`). When the three scores are equal like this, the first model is used."
   ]
  },
  {
   "cell_type": "code",
   "execution_count": null,
   "metadata": {},
   "outputs": [],
   "source": [
    "print('Model 1 Score: ', results_moe.states[-1]['BatteryCircuit._score'])\n",
    "print('Model 2 Score: ', results_moe.states[-1]['BatteryCircuit_2._score'])\n",
    "print('Model 3 Score: ', results_moe.states[-1]['BatteryCircuit_3._score'])"
   ]
  },
  {
   "cell_type": "markdown",
   "metadata": {},
   "source": [
    "Now let's provide the output for a few steps."
   ]
  },
  {
   "cell_type": "code",
   "execution_count": null,
   "metadata": {},
   "outputs": [],
   "source": [
    "x0 = m.initialize()\n",
    "x = m.next_state(\n",
    "    x=x0, \n",
    "    u=m.InputContainer({\n",
    "        'i': test_input[0]['i'],\n",
    "        'v': data[RUN_ID]['voltage'][0],\n",
    "        't': data[RUN_ID]['temperature'][0]}),\n",
    "    dt=test_time[1]-test_time[0])\n",
    "x = m.next_state(\n",
    "    x=x, \n",
    "    u=m.InputContainer({\n",
    "        'i': test_input[1]['i'],\n",
    "        'v': data[RUN_ID]['voltage'][1],\n",
    "        't': data[RUN_ID]['temperature'][1]}),\n",
    "    dt=test_time[1]-test_time[0])"
   ]
  },
  {
   "cell_type": "markdown",
   "metadata": {},
   "source": [
    "Let's take a look at the model scores again"
   ]
  },
  {
   "cell_type": "code",
   "execution_count": null,
   "metadata": {},
   "outputs": [],
   "source": [
    "print('Model 1 Score: ', x['BatteryCircuit._score'])\n",
    "print('Model 2 Score: ', x['BatteryCircuit_2._score'])\n",
    "print('Model 3 Score: ', x['BatteryCircuit_3._score'])"
   ]
  },
  {
   "cell_type": "markdown",
   "metadata": {},
   "source": [
    "Here we see after a few steps the algorithm has determined that model 3 is the better fitting of the models. Now if we were to repeat the simulation, it would use the best model, resulting in a better fit. "
   ]
  },
  {
   "cell_type": "code",
   "execution_count": null,
   "metadata": {},
   "outputs": [],
   "source": [
    "results_moe = m.simulate_to(t_end, future_loading, t0=test_time[1]-test_time[0], x=x)\n",
    "fig = plt.plot(test_time[2:], data[RUN_ID]['voltage'][2:], color='green', label='ground truth')\n",
    "fig = plt.plot(results_moe.times[2:], [z['v'] for z in results_moe.outputs][2:], color='red', label='moe')\n",
    "plt.xlabel('Time (s)')\n",
    "plt.ylabel('Voltage')\n",
    "plt.legend()"
   ]
  },
  {
   "cell_type": "markdown",
   "metadata": {},
   "source": [
    "The fit here is much better. The MoE model learned which of the three models best fit the observed behavior.\n",
    "\n",
    "In a prognostic application, the scores will be updated each time you use a state estimator (so long as you provide the output as part of the input). Then when performing a prediction the scores aren't updated, since outputs are not known.\n",
    "\n",
    "An example of when this would be useful is for cases where there are three common degradation paths or \"modes\" rather than a single model with uncertainty to represent every mode, the three modes can be represented by three different models. Once enough of the degradation path has been observed the observed mode will be the one reported.\n",
    "\n",
    "If the model fit is expected to be stable (that is, the best model is not expected to change anymore). The best model can be extracted and used directly, like demonstrated below."
   ]
  },
  {
   "cell_type": "code",
   "execution_count": null,
   "metadata": {},
   "outputs": [],
   "source": [
    "name, m_best = m.best_model(x)\n",
    "print(name, \" was the best fit\")"
   ]
  },
  {
   "cell_type": "markdown",
   "metadata": {},
   "source": [
    "## Conclusions"
   ]
  },
  {
   "cell_type": "markdown",
   "metadata": {},
   "source": [
    "In this section we demonstrated a few methods for treating multiple models as a single model. This is of interest when there are multiple models of different systems which are interdependent (CompositeModel), multiple models of the same system that portray different parts of the behavior or different candidate representations (EnsembleModel), or multiple models of the same system that represent possible degradation modes (MixtureOfExpertModel)."
   ]
  }
 ],
 "metadata": {
  "kernelspec": {
   "display_name": "Python 3.11.0 64-bit",
   "language": "python",
   "name": "python3"
  },
  "language_info": {
   "codemirror_mode": {
    "name": "ipython",
    "version": 3
   },
   "file_extension": ".py",
   "mimetype": "text/x-python",
   "name": "python",
   "nbconvert_exporter": "python",
   "pygments_lexer": "ipython3",
   "version": "3.11.0"
  },
  "orig_nbformat": 4,
  "vscode": {
   "interpreter": {
    "hash": "aee8b7b246df8f9039afb4144a1f6fd8d2ca17a180786b69acc140d282b71a49"
   }
  }
 },
 "nbformat": 4,
 "nbformat_minor": 2
}
