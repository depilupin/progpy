{
 "cells": [
  {
   "cell_type": "markdown",
   "metadata": {},
   "source": [
    "# Welcome to ProgPy\n",
    "**2024 NASA Software of the Year!**\n",
    "\n",
    "NASA’s ProgPy is an open-sourced python package supporting research and development of prognostics and health management and predictive maintenance tools. It implements architectures and common functionality of prognostics, supporting researchers and practitioners. The ProgPy package is a combination of the original prog_models and prog_algs packages."
   ]
  },
  {
   "cell_type": "markdown",
   "metadata": {},
   "source": [
    "## Installing ProgPy\n",
    "\n",
    "The latest stable release of ProgPy is hosted on PyPi. For most users, this version will be adequate. To install via the command line, use the following command:\n",
    "\n",
    "```bash\n",
    "pip install progpy\n",
    "```"
   ]
  },
  {
   "cell_type": "markdown",
   "metadata": {},
   "source": [
    "## Installing ProgPy- Prerelease"
   ]
  },
  {
   "cell_type": "markdown",
   "metadata": {},
   "source": [
    "Users who would like to contribute to ProgPy or would like to use pre-release features can do so using the ProgPy GitHub repo. This isn’t recommended for most users as this version may be unstable. To do this, use the following commands:\n",
    "\n",
    "```bash\n",
    "git clone https://github.com/nasa/progpy\n",
    "cd progpy\n",
    "git checkout dev\n",
    "pip install -e .```"
   ]
  },
  {
   "cell_type": "markdown",
   "metadata": {},
   "source": [
    "## Citing this repository\n",
    "\n",
    "Use the following to cite this repository in LaTeX:\n",
    "\n",
    "```BibTeX\n",
    "@misc{2023_nasa_progpy,\n",
    "author = {Christopher Teubert and Katelyn Jarvis Griffith and Matteo Corbetta and Chetan Kulkarni and Portia Banerjee and Jason Watkins and Matthew Daigle},\n",
    "title = {{ProgPy Python Prognostics Packages}},\n",
    "month = Oct,\n",
    "year = 2023,\n",
    "version = {1.6},\n",
    "url = {https://nasa.github.io/progpy}\n",
    "doi = {10.5281/ZENODO.8097013}\n",
    "}\n",
    "```\n",
    "The corresponding reference should look like this:\n",
    "\n",
    "Teubert, K. Jarvis Griffith, M. Corbetta, C. Kulkarni, P. Banerjee, J. Watkins, M. Daigle, ProgPy Python Prognostics Packages, v1.6, Oct 2023. URL nasa/progpy.\n"
   ]
  },
  {
   "cell_type": "markdown",
   "metadata": {},
   "source": [
    "## Contributing and Partnering\n",
    "\n",
    "ProgPy was developed by researchers of the NASA Prognostics Center of Excellence (PCoE) and Diagnostics & Prognostics Group, with assistance from our partners. We welcome contributions and are actively interested in partnering with other organizations and researchers. If interested in contibuting, please email Chris Teubert at christopher.a.teubert@nasa.gov.\n",
    "\n",
    "A big thank you to our partners who have contributed to the design, testing, and/or development of ProgPy:\n",
    "\n",
    "* German Aerospace Center (DLR) Institute of Maintenance, Repair and Overhaul.\n",
    "* Northrop Grumman Corporation (NGC)\n",
    "* Research Institutes of Sweden (RISE)\n",
    "* Vanderbilt University"
   ]
  }
 ],
 "metadata": {
  "language_info": {
   "name": "python"
  },
  "orig_nbformat": 4
 },
 "nbformat": 4,
 "nbformat_minor": 2
}
