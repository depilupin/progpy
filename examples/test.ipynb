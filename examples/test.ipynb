{
 "cells": [
  {
   "cell_type": "code",
   "execution_count": null,
   "metadata": {},
   "outputs": [],
   "source": [
    "pip list | grep progpy"
   ]
  },
  {
   "cell_type": "code",
   "execution_count": null,
   "metadata": {},
   "outputs": [],
   "source": [
    "from progpy.models import BatteryElectroChem\n",
    "import matplotlib.pyplot as plt\n",
    "\n",
    "batt = BatteryElectroChem()\n",
    "\n",
    "print('inputs:', batt.inputs)\n",
    "print('outputs:', batt.outputs)\n",
    "print('event(s): ', batt.events)\n",
    "print('states:', batt.states)"
   ]
  },
  {
   "cell_type": "code",
   "execution_count": null,
   "metadata": {},
   "outputs": [],
   "source": [
    "config = {\n",
    "    'save_freq': 1000,\n",
    "    'dt': 2,\n",
    "    'events': 'InsufficientCapacity',\n",
    "    # 'print': True\n",
    "}\n",
    "\n",
    "def future_loading(t, x=None):\n",
    "    load = 1\n",
    "    \n",
    "    if x is not None:\n",
    "        event_state = batt.event_state(x)\n",
    "        if event_state[\"EOD\"] > 0.95:\n",
    "            load = 1 # Discharge\n",
    "        elif event_state[\"EOD\"] < 0.05:\n",
    "            load = -1 # Charge\n",
    "            \n",
    "    return batt.InputContainer({'i': load})"
   ]
  },
  {
   "cell_type": "code",
   "execution_count": null,
   "metadata": {},
   "outputs": [],
   "source": [
    "simulated_results = batt.simulate_to_threshold(future_loading, **config)"
   ]
  },
  {
   "cell_type": "code",
   "execution_count": null,
   "metadata": {},
   "outputs": [],
   "source": [
    "simulated_results.event_states"
   ]
  },
  {
   "cell_type": "code",
   "execution_count": null,
   "metadata": {},
   "outputs": [],
   "source": [
    "fig = simulated_results.event_states.plot(xlabel='time (s)', ylabel='event states', labels={'EOD', 'InsufficientCapacity'})"
   ]
  }
 ],
 "metadata": {
  "kernelspec": {
   "display_name": ".venv",
   "language": "python",
   "name": "python3"
  },
  "language_info": {
   "codemirror_mode": {
    "name": "ipython",
    "version": 3
   },
   "file_extension": ".py",
   "mimetype": "text/x-python",
   "name": "python",
   "nbconvert_exporter": "python",
   "pygments_lexer": "ipython3",
   "version": "3.12.9"
  }
 },
 "nbformat": 4,
 "nbformat_minor": 2
}
