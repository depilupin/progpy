{
 "cells": [
  {
   "cell_type": "markdown",
   "metadata": {},
   "source": [
    "# Setup"
   ]
  },
  {
   "cell_type": "code",
   "execution_count": null,
   "metadata": {},
   "outputs": [],
   "source": [
    "from progpy import create_discrete_state"
   ]
  },
  {
   "cell_type": "markdown",
   "metadata": {},
   "source": [
    "# Example 1: Random Transition"
   ]
  },
  {
   "cell_type": "code",
   "execution_count": null,
   "metadata": {},
   "outputs": [],
   "source": [
    "# Setup\n",
    "StateType = create_discrete_state(10)\n",
    "x = StateType(1)\n",
    "print(x)"
   ]
  },
  {
   "cell_type": "code",
   "execution_count": null,
   "metadata": {},
   "outputs": [],
   "source": [
    "# Less than transition\n",
    "x + 0.4"
   ]
  },
  {
   "cell_type": "code",
   "execution_count": null,
   "metadata": {},
   "outputs": [],
   "source": [
    "# Greater than transition\n",
    "x + 0.51"
   ]
  },
  {
   "cell_type": "code",
   "execution_count": null,
   "metadata": {},
   "outputs": [],
   "source": [
    "# Repeat: Greater than transition\n",
    "x + 0.51"
   ]
  },
  {
   "cell_type": "markdown",
   "metadata": {},
   "source": [
    "# Example 2: Sequential"
   ]
  },
  {
   "cell_type": "code",
   "execution_count": null,
   "metadata": {},
   "outputs": [],
   "source": [
    "# Setup\n",
    "StateType = create_discrete_state(10, transition='sequential')\n",
    "x = StateType(1)\n",
    "print(x)"
   ]
  },
  {
   "cell_type": "code",
   "execution_count": null,
   "metadata": {},
   "outputs": [],
   "source": [
    "# Less than transition\n",
    "x + 0.4"
   ]
  },
  {
   "cell_type": "code",
   "execution_count": null,
   "metadata": {},
   "outputs": [],
   "source": [
    "# Greater than transition\n",
    "x + 0.51"
   ]
  },
  {
   "cell_type": "code",
   "execution_count": null,
   "metadata": {},
   "outputs": [],
   "source": [
    "# Again - Greater than transition (same as above)\n",
    "x + 0.51"
   ]
  },
  {
   "cell_type": "code",
   "execution_count": null,
   "metadata": {},
   "outputs": [],
   "source": [
    "# Double transition\n",
    "x + 0.51 + 0.51"
   ]
  },
  {
   "cell_type": "code",
   "execution_count": null,
   "metadata": {},
   "outputs": [],
   "source": [
    "# Transition by more than 1\n",
    "x + 1.51"
   ]
  },
  {
   "cell_type": "code",
   "execution_count": null,
   "metadata": {},
   "outputs": [],
   "source": [
    "# Transition - lower limit - will yield 0\n",
    "x - 5"
   ]
  },
  {
   "cell_type": "code",
   "execution_count": null,
   "metadata": {},
   "outputs": [],
   "source": [
    "# Transition - upper limit - will yield max (9)\n",
    "x + 20"
   ]
  },
  {
   "cell_type": "markdown",
   "metadata": {},
   "source": [
    "# Example 3: Custom Transition"
   ]
  },
  {
   "cell_type": "code",
   "execution_count": null,
   "metadata": {},
   "outputs": [],
   "source": [
    "import random\n",
    "def transition(current_state, amount_added):\n",
    "    # this is an example function- in reality it could be anything\n",
    "    # Transition in this case is from 1-> any state and\n",
    "    #  if not in state 1 can only transition back to 1\n",
    "    if current_state == type(current_state)(1) and amount_added > 0.5:\n",
    "        return random.randint(0, len(type(current_state))-1)\n",
    "    elif amount_added > 0.5:\n",
    "        return 1\n",
    "    # No transition\n",
    "    return current_state"
   ]
  },
  {
   "cell_type": "code",
   "execution_count": null,
   "metadata": {},
   "outputs": [],
   "source": [
    "# Setup\n",
    "StateType = create_discrete_state(10, transition=transition)\n",
    "x = StateType(1)\n",
    "print(x)"
   ]
  },
  {
   "cell_type": "code",
   "execution_count": null,
   "metadata": {},
   "outputs": [],
   "source": [
    "# below transition amount\n",
    "x + 0.49"
   ]
  },
  {
   "cell_type": "code",
   "execution_count": null,
   "metadata": {},
   "outputs": [],
   "source": [
    "# State 1 can transition to anything\n",
    "x + 0.51"
   ]
  },
  {
   "cell_type": "code",
   "execution_count": null,
   "metadata": {},
   "outputs": [],
   "source": [
    "# Again - State 1 can transition to anything\n",
    "x + 0.51"
   ]
  },
  {
   "cell_type": "code",
   "execution_count": null,
   "metadata": {},
   "outputs": [],
   "source": [
    "# Any state other than 1 will always transition to 1\n",
    "StateType(2) + 0.51"
   ]
  },
  {
   "cell_type": "markdown",
   "metadata": {},
   "source": [
    "# Example 4: Integration into progpy\n",
    "\n",
    "Example filling tank with valve which can be open/closed"
   ]
  },
  {
   "cell_type": "code",
   "execution_count": null,
   "metadata": {},
   "outputs": [],
   "source": [
    "from progpy.models.test_models.tank_model import Tank, ValveState\n",
    "m = Tank()"
   ]
  },
  {
   "cell_type": "code",
   "execution_count": null,
   "metadata": {},
   "outputs": [],
   "source": [
    "def stupid_load(t, x=None):\n",
    "    # Doesn't open valve\n",
    "    if x is None:\n",
    "        return m.InputContainer({'q_in': 0.1, 'valve_command': ValveState.closed})\n",
    "    return m.InputContainer({'q_in': 0.1, 'valve_command': x['valve']})"
   ]
  },
  {
   "cell_type": "code",
   "execution_count": null,
   "metadata": {},
   "outputs": [],
   "source": [
    "result = m.simulate_to_threshold(stupid_load, events='full', save_freq=1, horizon=25)\n",
    "fig = result.outputs.plot()"
   ]
  },
  {
   "cell_type": "code",
   "execution_count": null,
   "metadata": {},
   "outputs": [],
   "source": [
    "def smart_load(t, x=None):\n",
    "    if x is None:\n",
    "        # First step\n",
    "        return m.InputContainer({'q_in': 0.1, 'valve_command': ValveState.closed})\n",
    "\n",
    "    if (x['valve'] == ValveState.closed) and (x['h'] >= m['height']*0.8):\n",
    "        # If closed, open at 80% full\n",
    "        return m.InputContainer({'q_in': 0.1, 'valve_command': ValveState.open})\n",
    "    elif (x['valve'] == ValveState.open) and (x['h'] <= m['height']*0.6):\n",
    "        # If open, close at 60% full\n",
    "        return m.InputContainer({'q_in': 0.1, 'valve_command': ValveState.closed})\n",
    "    \n",
    "    # Default- dont control valve\n",
    "    return m.InputContainer({'q_in': 0.1, 'valve_command': x['valve']})\n",
    "    "
   ]
  },
  {
   "cell_type": "code",
   "execution_count": null,
   "metadata": {},
   "outputs": [],
   "source": [
    "result = m.simulate_to_threshold(smart_load, events='full', save_freq=1, horizon=25)\n",
    "fig = result.outputs.plot()"
   ]
  },
  {
   "cell_type": "markdown",
   "metadata": {},
   "source": [
    "Now With noise!"
   ]
  },
  {
   "cell_type": "code",
   "execution_count": null,
   "metadata": {},
   "outputs": [],
   "source": [
    "m['process_noise'] = m.StateContainer({'valve': 1, 'h': 0})\n",
    "m['process_noise_dist'] = 'uniform' # will switch the valve 33% of the time"
   ]
  },
  {
   "cell_type": "markdown",
   "metadata": {},
   "source": [
    "This will randomly open and close the valve"
   ]
  },
  {
   "cell_type": "code",
   "execution_count": null,
   "metadata": {},
   "outputs": [],
   "source": [
    "result = m.simulate_to_threshold(stupid_load, events='full', save_freq=1, horizon=25)\n",
    "fig = result.outputs.plot()"
   ]
  }
 ],
 "metadata": {
  "kernelspec": {
   "display_name": "Python 3.12.0 64-bit",
   "language": "python",
   "name": "python3"
  },
  "language_info": {
   "codemirror_mode": {
    "name": "ipython",
    "version": 3
   },
   "file_extension": ".py",
   "mimetype": "text/x-python",
   "name": "python",
   "nbconvert_exporter": "python",
   "pygments_lexer": "ipython3",
   "version": "3.12.0"
  },
  "orig_nbformat": 4,
  "vscode": {
   "interpreter": {
    "hash": "f1062708a37074d70712b695aadee582e0b0b9f95f45576b5521424137d05fec"
   }
  }
 },
 "nbformat": 4,
 "nbformat_minor": 2
}
