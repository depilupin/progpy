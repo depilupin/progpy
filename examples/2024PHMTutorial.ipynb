{
 "cells": [
  {
   "cell_type": "markdown",
   "metadata": {},
   "source": [
    "# ProgPy Tutorial\n",
    "_2024 PHM Society Conference_\n",
    "\n",
    "_November, 2024_\n",
    "\n",
    "Please put questions in the Whova App or raise your hand."
   ]
  },
  {
   "cell_type": "markdown",
   "metadata": {},
   "source": [
    "# Pre-Work\n",
    "_We recommend installing ProgPy prior to the tutorial_\n",
    "\n",
    "The latest stable release of ProgPy is hosted on PyPi. To install via the command line, use the following command: \n",
    "\n",
    "`$ pip install progpy`"
   ]
  },
  {
   "cell_type": "markdown",
   "metadata": {},
   "source": [
    "The documentation for ProgPy can be found [here](https://nasa.github.io/progpy/index.html). We will reference this material throughout the tutorial. ProgPy can be found on GitHub at [this link](https://github.com/nasa/progpy)."
   ]
  },
  {
   "cell_type": "markdown",
   "metadata": {},
   "source": [
    "Please download the Whova App (<span style=\"color:red\"> link? </span>) for live Q&A during the session."
   ]
  },
  {
   "cell_type": "markdown",
   "metadata": {},
   "source": [
    "Next, lets download the data we will be using for this tutorial. To do this we will use the datasets subpackage in progpy."
   ]
  },
  {
   "cell_type": "code",
   "execution_count": 1,
   "metadata": {},
   "outputs": [
    {
     "name": "stderr",
     "output_type": "stream",
     "text": [
      "/Users/kjgriff2/venv/ProgPyEnv1/lib/python3.9/site-packages/urllib3/__init__.py:35: NotOpenSSLWarning: urllib3 v2 only supports OpenSSL 1.1.1+, currently the 'ssl' module is compiled with 'LibreSSL 2.8.3'. See: https://github.com/urllib3/urllib3/issues/3020\n",
      "  warnings.warn(\n"
     ]
    }
   ],
   "source": [
    "from progpy.datasets import nasa_battery\n",
    "(desc, data) = nasa_battery.load_data(1)"
   ]
  },
  {
   "cell_type": "markdown",
   "metadata": {},
   "source": [
    "# Introduction to ProgPy"
   ]
  },
  {
   "cell_type": "markdown",
   "metadata": {},
   "source": [
    "NASA’s ProgPy is an open-source python package supporting research and development of prognostics, health management, and predictive maintenance tools. It implements architectures and common functionality of prognostics, supporting researchers and practitioners.\n",
    "\n",
    "The goal of this tutorial is to instruct users how to use and extend ProgPy. This tutorial will cover how to use a model, including existing models and additional capabilities like parameter estimation and simulation, as well as how to build a new model from scratch. "
   ]
  },
  {
   "cell_type": "markdown",
   "metadata": {},
   "source": [
    "### Definitions and Background\n",
    "\n"
   ]
  },
  {
   "cell_type": "markdown",
   "metadata": {},
   "source": [
    "The tutorial will begin with an introduction to prognostics and ProgPy using ProgPy's documentation. Please follow along in the [ProgPy Guide](https://nasa.github.io/progpy/guide.html)."
   ]
  },
  {
   "cell_type": "markdown",
   "metadata": {},
   "source": [
    "### Tutorial Outline"
   ]
  },
  {
   "cell_type": "markdown",
   "metadata": {},
   "source": [
    "0. The Dataset \n",
    "\n",
    "1. Using an existing model\n",
    "    - Loading a model\n",
    "    - Model parameters\n",
    "    - Simulation\n",
    "    - Noise\n",
    "    - Prognostics with data\n",
    "    - Data-driven capabilities and surrogate models\n",
    "\n",
    "2. Building a new model \n",
    "    - State transition \n",
    "    - Outputs\n",
    "    - Events\n",
    "    - Using the model\n",
    "    - Parameter estimation\n",
    "    - Prognostics example\n",
    "    - Final notes \n",
    "\n",
    "3. Advanced Capabilities\n",
    "    - Combination models \n",
    " \n",
    "<span style=\"color:red\"> update this as we go along ... </span>\n"
   ]
  },
  {
   "cell_type": "markdown",
   "metadata": {},
   "source": [
    "# The Dataset"
   ]
  },
  {
   "cell_type": "markdown",
   "metadata": {},
   "source": [
    "Let's prepare the dataset that we will use for this tutorial."
   ]
  },
  {
   "cell_type": "code",
   "execution_count": 2,
   "metadata": {},
   "outputs": [
    {
     "name": "stdout",
     "output_type": "stream",
     "text": [
      "Experiment consisting of repeated iteration of a randomized series of discharging pulses followed by a recharging period of variable length. Batteries are charged and discharged at room temperature\n"
     ]
    }
   ],
   "source": [
    "print(desc['description'])"
   ]
  },
  {
   "cell_type": "markdown",
   "metadata": {},
   "source": [
    "The dataset includes a number of different runs. Let's take a look at the first 10 as a starting point"
   ]
  },
  {
   "cell_type": "code",
   "execution_count": null,
   "metadata": {},
   "outputs": [],
   "source": [
    "print(desc['runs'][:10])"
   ]
  },
  {
   "cell_type": "markdown",
   "metadata": {},
   "source": [
    "This includes runs from multiple discharges at different kinds. Let's take a look at the trickle discharge run first"
   ]
  },
  {
   "cell_type": "code",
   "execution_count": null,
   "metadata": {},
   "outputs": [],
   "source": [
    "trickle_dataset = data[0]\n",
    "print(trickle_dataset)\n",
    "trickle_dataset.plot(y=['current', 'voltage', 'temperature'], subplots=True)"
   ]
  },
  {
   "cell_type": "markdown",
   "metadata": {},
   "source": [
    "Now let's do the same for a reference discharge run (5)"
   ]
  },
  {
   "cell_type": "code",
   "execution_count": null,
   "metadata": {},
   "outputs": [],
   "source": [
    "reference_dataset = data[5]\n",
    "reference_dataset.plot(y=['current', 'voltage', 'temperature'], subplots=True)"
   ]
  },
  {
   "cell_type": "markdown",
   "metadata": {},
   "source": [
    "Now let's take a look at one of the step discharges. This actually includes multiple runs"
   ]
  },
  {
   "cell_type": "code",
   "execution_count": null,
   "metadata": {},
   "outputs": [],
   "source": [
    "print(desc['runs'][7:35])"
   ]
  },
  {
   "cell_type": "markdown",
   "metadata": {},
   "source": [
    "Includes a charge, which we dont want to include in our characterization. So we should treat that as a different run.\n",
    "\n",
    "relativeTime resets for each \"run\". So if we're going to use multiple runs together, we need to stitch these times together."
   ]
  },
  {
   "cell_type": "code",
   "execution_count": null,
   "metadata": {},
   "outputs": [],
   "source": [
    "data[7]['absoluteTime'] = data[7]['relativeTime']\n",
    "for i in range(8, 32):\n",
    "    data[i]['absoluteTime'] = data[i]['relativeTime'] + data[i-1]['absoluteTime'].iloc[-1]"
   ]
  },
  {
   "cell_type": "markdown",
   "metadata": {},
   "source": [
    "Next we should combine the data into a single dataset and investigate the results"
   ]
  },
  {
   "cell_type": "code",
   "execution_count": null,
   "metadata": {},
   "outputs": [],
   "source": [
    "import pandas as pd\n",
    "step_dataset = pd.concat(data[7:32], ignore_index=True)\n",
    "print(step_dataset)\n",
    "step_dataset.plot(y=['current', 'voltage', 'temperature'], subplots=True)"
   ]
  },
  {
   "cell_type": "markdown",
   "metadata": {},
   "source": [
    "Finally, let's investigate the random walk discharge"
   ]
  },
  {
   "cell_type": "code",
   "execution_count": null,
   "metadata": {},
   "outputs": [],
   "source": [
    "print(desc['runs'][35:50])"
   ]
  },
  {
   "cell_type": "markdown",
   "metadata": {},
   "source": [
    "Like the step discharge, we need to stitch together the times and concatenate the data"
   ]
  },
  {
   "cell_type": "code",
   "execution_count": null,
   "metadata": {},
   "outputs": [],
   "source": [
    "data[35]['absoluteTime'] = data[35]['relativeTime']\n",
    "for i in range(36, 50):\n",
    "    data[i]['absoluteTime'] = data[i]['relativeTime'] + data[i-1]['absoluteTime'].iloc[-1]"
   ]
  },
  {
   "cell_type": "code",
   "execution_count": null,
   "metadata": {},
   "outputs": [],
   "source": [
    "random_walk_dataset = pd.concat(data[35:50], ignore_index=True)\n",
    "print(random_walk_dataset)\n",
    "random_walk_dataset.plot(y=['current', 'voltage', 'temperature'], subplots=True)"
   ]
  },
  {
   "cell_type": "markdown",
   "metadata": {},
   "source": [
    "Now the data is ready for this tutorial, let's dive into it."
   ]
  },
  {
   "cell_type": "markdown",
   "metadata": {},
   "source": [
    "# Using an existing Model"
   ]
  },
  {
   "cell_type": "markdown",
   "metadata": {},
   "source": [
    "The first component of ProgPy are the **Prognostics Models**. Models describe the behavior of the system of interest and how the state of the system evolves with use. ProgPy includes capability for prognostics models to be [physics-based](https://nasa.github.io/progpy/glossary.html#term-physics-based-model) or [data-driven](https://nasa.github.io/progpy/glossary.html#term-data-driven-model).\n",
    "\n",
    "All prognostics models have the same [format](https://nasa.github.io/progpy/prog_models_guide.html#progpy-prognostic-model-format) within ProgPy. The architecture requires definition of model inputs, states, outputs, and events which come together to create a system model.\n",
    "\n",
    "ProgPy includes a collection of [included models](https://nasa.github.io/progpy/api_ref/progpy/IncludedModels.html#included-models) which can be accessed through the `progpy.models` package.\n"
   ]
  },
  {
   "cell_type": "markdown",
   "metadata": {},
   "source": [
    "### Loading a Model"
   ]
  },
  {
   "cell_type": "markdown",
   "metadata": {},
   "source": [
    "To illustrate how to use a built-in model, let's use the [Battery Electrochemistry model](https://nasa.github.io/progpy/api_ref/progpy/IncludedModels.html#:~:text=class%20progpy.models.BatteryElectroChemEOD(**kwargs)). This model predicts the end-of-discharge of a Lithium-ion battery based on a set of differential equations that describe the electrochemistry of the system [Daigle et al. 2013](https://papers.phmsociety.org/index.php/phmconf/article/view/2252).\n",
    "\n"
   ]
  },
  {
   "cell_type": "markdown",
   "metadata": {},
   "source": [
    "First, import the model from the `progpy.models` package."
   ]
  },
  {
   "cell_type": "code",
   "execution_count": null,
   "metadata": {},
   "outputs": [],
   "source": [
    "from progpy.models import BatteryElectroChemEOD"
   ]
  },
  {
   "cell_type": "markdown",
   "metadata": {},
   "source": [
    "Next, let's create a new battery using the default settings:"
   ]
  },
  {
   "cell_type": "code",
   "execution_count": null,
   "metadata": {},
   "outputs": [],
   "source": [
    "batt = BatteryElectroChemEOD()"
   ]
  },
  {
   "cell_type": "markdown",
   "metadata": {},
   "source": [
    "### Model parameters"
   ]
  },
  {
   "cell_type": "markdown",
   "metadata": {},
   "source": [
    "Model parameters describe the specific system the model will simulate. For the Electrochemistry model, the default model parameters are for 18650-type Li-ion battery cells. All parameters can be accessed through `batt.parameters`. Let's print out all of the parameters, followed by the specific parameter for the battery's capacity, denoted as `qMax` in this model."
   ]
  },
  {
   "cell_type": "code",
   "execution_count": null,
   "metadata": {},
   "outputs": [],
   "source": [
    "print(batt.parameters)\n",
    "print(batt['qMax'])"
   ]
  },
  {
   "cell_type": "markdown",
   "metadata": {},
   "source": [
    "Parameter values can be configured in various ways. Parameter values can be passed into the constructor as keyword arguments when the model is first instantiated or can be set afterwards, like so:"
   ]
  },
  {
   "cell_type": "code",
   "execution_count": null,
   "metadata": {},
   "outputs": [],
   "source": [
    "batt['qMax'] = 127000\n",
    "print(batt['qMax'])"
   ]
  },
  {
   "cell_type": "markdown",
   "metadata": {},
   "source": [
    "In addition to setting model parameter values by hand, ProgPy includes a [parameter estimation](https://nasa.github.io/progpy/prog_models_guide.html#parameter-estimation:~:text=examples.future_loading-,Parameter%20Estimation,-%23) functionality that tunes the parameters of a general model to match the behavior of a specific system. In ProgPy, the `progpy.PrognosticsModel.estimate_params()` method tunes model parameters so that the model provides a good fit to observed data. In the case of the Electrochemistry model, for example, parameter estimation would take the general battery model and configure it so that it more accurately describes a specific battery. The ProgPy documentation includes a [detailed example](https://nasa.github.io/progpy/prog_models_guide.html#parameter-estimation:~:text=See%20the%20example%20below%20for%20more%20details) on how to do parameter estimation."
   ]
  },
  {
   "cell_type": "markdown",
   "metadata": {},
   "source": [
    "### Simulation"
   ]
  },
  {
   "cell_type": "markdown",
   "metadata": {},
   "source": [
    "Once a model has been created, the next step is to simulate it's evolution throughout time. Simulation is the foundation of prediction, but unlike full prediction, simulation does not include uncertainty in the state and other product (e.g., [output](https://nasa.github.io/progpy/glossary.html#term-output)) representation."
   ]
  },
  {
   "cell_type": "markdown",
   "metadata": {},
   "source": [
    "*Future Loading*\n",
    "\n",
    "Most prognostics models have some sort of [input](https://nasa.github.io/progpy/glossary.html#term-input), i.e. a control or load applied to the system that impacts the system state and outputs. For example, for a battery, the current drawn from the battery is the applied load, or input. In this case, to simulate the system, we must define a `future_loading` function that describes how the system will be loaded, or used, throughout time. (Note that not all systems have applied load, e.g. [ThrowObject](https://nasa.github.io/progpy/api_ref/progpy/IncludedModels.html?highlight=thrownobject#progpy.models.ThrownObject), and no `future_loading` is required in these cases.)\n",
    "\n",
    "ProgPy includes pre-defined [loading functions](https://nasa.github.io/progpy/api_ref/progpy/Loading.html?highlight=progpy%20loading) in `progpy.loading`. Here, we'll implement the built-in piecewise loading functionality. <span style=\"color:red\"> do we want more description of this or just verbal? </span>"
   ]
  },
  {
   "cell_type": "code",
   "execution_count": null,
   "metadata": {},
   "outputs": [],
   "source": [
    "from progpy.loading import Piecewise\n",
    "\n",
    "future_loading = Piecewise(\n",
    "        InputContainer=batt.InputContainer,\n",
    "        times=[600, 900, 1800, 3000],\n",
    "        values={'i': [2, 1, 4, 2, 3]})"
   ]
  },
  {
   "cell_type": "markdown",
   "metadata": {},
   "source": [
    "*Simulate to Threshold*\n",
    "\n",
    "With this in mind, we're ready to simulate our model forward in time using ProgPy's [simulation functionality](https://nasa.github.io/progpy/prog_models_guide.html#simulation).\n",
    "\n",
    "Physical systems frequently have one or more failure modes, and there's often a need to predict the progress towards these events and the eventual failure of the system. ProgPy generalizes this concept of predicting Remaining Useful Life (RUL) with [events](https://nasa.github.io/progpy/prog_models_guide.html#events) and their corresponding thresholds at which they occur. \n",
    "\n",
    "\n",
    "Often, there is interest in simulating a system forward in time until a particular event occurs. ProgPy includes this capability with `simulate_to_threshold()`. "
   ]
  },
  {
   "cell_type": "markdown",
   "metadata": {},
   "source": [
    "First, let's take a look at what events exist for the Electrochemistry model."
   ]
  },
  {
   "cell_type": "code",
   "execution_count": null,
   "metadata": {},
   "outputs": [],
   "source": [
    "batt.events"
   ]
  },
  {
   "cell_type": "markdown",
   "metadata": {},
   "source": [
    "The only event in this model is 'EOD' or end-of-discharge. The `progpy.PrognosticsModel.event_state()` method estimates the progress towards the event, with 1 representing no progress towards the event and 0 indicating the event has occurred.  The method `progpy.PrognosticsModel.threshold_met()` defines when the event has happened. In the Electrochemistry model, this occurs when the battery voltage drops below some pre-defined value, which is stored in the parameter `VEOD`. Let's see what this threshold value is."
   ]
  },
  {
   "cell_type": "code",
   "execution_count": null,
   "metadata": {},
   "outputs": [],
   "source": [
    "batt.parameters['VEOD']"
   ]
  },
  {
   "cell_type": "markdown",
   "metadata": {},
   "source": [
    "With these definitions in mind, let's simulate the battery model until threshold for EOD is met. We'll use the same `future_loading` function as above. "
   ]
  },
  {
   "cell_type": "code",
   "execution_count": null,
   "metadata": {},
   "outputs": [],
   "source": [
    "options = { #configuration for this sim\n",
    "    'save_freq': 100,  # Frequency at which results are saved (s)\n",
    "    'horizon': 8000  # Maximum time to simulate (s) - This is a cutoff. The simulation will end at this time, or when a threshold has been met, whichever is first\n",
    "    }\n",
    "results = batt.simulate_to_threshold(future_loading, **options)"
   ]
  },
  {
   "cell_type": "markdown",
   "metadata": {},
   "source": [
    "Let's visualize the results. Note that the simulation ends when the voltage value hits the VEOD value of 3.0."
   ]
  },
  {
   "cell_type": "code",
   "execution_count": null,
   "metadata": {},
   "outputs": [],
   "source": [
    "results.inputs.plot(ylabel='Current drawn (amps)')\n",
    "results.event_states.plot(ylabel='Battery State of Charge')\n",
    "results.outputs.plot(ylabel= {'v': \"voltage (V)\", 't': 'temperature (°C)'}, compact= False)"
   ]
  },
  {
   "cell_type": "markdown",
   "metadata": {},
   "source": [
    "In addition to simulating to threshold, ProgPy also includes a simpler capability to simulate until a particular time, using `simulate_to()`."
   ]
  },
  {
   "cell_type": "markdown",
   "metadata": {},
   "source": [
    "### Noise\n",
    "\n",
    "A key factor in modeling any real-world application is noise. See the ProgPy [noise documentation](https://nasa.github.io/progpy/prog_models_guide.html#noise) for a detailed description of different types of noise and how to include it in the ProgPy architecture. "
   ]
  },
  {
   "cell_type": "markdown",
   "metadata": {},
   "source": [
    "### Prognostics with data\n",
    "\n"
   ]
  },
  {
   "cell_type": "markdown",
   "metadata": {},
   "source": [
    "Now that we have a basic simulation of our model, let's make a prediction using the prognostics capabilities within ProgPy. The two basic components of prognostics are [state estimation and prediction](https://nasa.github.io/progpy/prog_algs_guide.html#state-estimation-and-prediction-guide). ProgPy includes functionality to do both. "
   ]
  },
  {
   "cell_type": "markdown",
   "metadata": {},
   "source": [
    "To implement a prognostics example, we first need data from our system. We'll use the data we've already uploaded and prepped above."
   ]
  },
  {
   "cell_type": "markdown",
   "metadata": {},
   "source": [
    "For the battery electrochemistry model, we'll need to use a [state estimator](https://nasa.github.io/progpy/prog_algs_guide.html#state-estimation) because the model state is not directly measureable, i.e. it has hidden states. We'll use an Unscented Kalman filter and the `estimate` method. ProgPy also includes a Particle Filter and a Kalman Filter.  "
   ]
  },
  {
   "cell_type": "markdown",
   "metadata": {},
   "source": [
    "First, let's load the necessary imports."
   ]
  },
  {
   "cell_type": "code",
   "execution_count": null,
   "metadata": {},
   "outputs": [],
   "source": [
    "import numpy as np\n",
    "from progpy.state_estimators import UnscentedKalmanFilter\n",
    "from progpy.uncertain_data import MultivariateNormalDist"
   ]
  },
  {
   "cell_type": "markdown",
   "metadata": {},
   "source": [
    "State estimators require an initial state. To define this, we'll first initialize the model and then define the initial state as a distribution of possible states around this using a multi-variate normal distribution. "
   ]
  },
  {
   "cell_type": "code",
   "execution_count": null,
   "metadata": {},
   "outputs": [],
   "source": [
    "initial_state = batt.initialize() # Initialize model\n",
    "x_guess = MultivariateNormalDist(initial_state.keys(), initial_state.values(), np.diag([max(x_i*0.1, 0.1) for x_i in initial_state.values()])) # Define distribution around initial state"
   ]
  },
  {
   "cell_type": "markdown",
   "metadata": {},
   "source": [
    "With our initial distribution defined, we can now instantiate the state estimator."
   ]
  },
  {
   "cell_type": "code",
   "execution_count": null,
   "metadata": {},
   "outputs": [],
   "source": [
    "ukf = UnscentedKalmanFilter(batt, x_guess)"
   ]
  },
  {
   "cell_type": "markdown",
   "metadata": {},
   "source": [
    "With this, we're ready to run the Unscented Kalman Filter. To illustrate how state estimation works, let's estimate one step forward in time. First, we'll extract the measurement at this time. "
   ]
  },
  {
   "cell_type": "code",
   "execution_count": null,
   "metadata": {},
   "outputs": [],
   "source": [
    "# Define time step based on data\n",
    "dt = random_walk_dataset['absoluteTime'][1] - random_walk_dataset['absoluteTime'][0]\n",
    "\n",
    "# Data at time point\n",
    "z = {'t': random_walk_dataset['temperature'][1], 'v': random_walk_dataset['voltage'][1]}"
   ]
  },
  {
   "cell_type": "markdown",
   "metadata": {},
   "source": [
    "Next, we'll estimate the new state by calling the `estimate` method. "
   ]
  },
  {
   "cell_type": "code",
   "execution_count": null,
   "metadata": {},
   "outputs": [],
   "source": [
    "# Extract input current from data \n",
    "i = {'i': random_walk_dataset['current'][1]}\n",
    "\n",
    "# Estimate the new state\n",
    "ukf.estimate(dt, i, z)\n",
    "x_est = ukf.x.mean"
   ]
  },
  {
   "cell_type": "markdown",
   "metadata": {},
   "source": [
    "Finally, let's look at the difference between the estimated state and the true measurement. In the following plots, blue circles represent the initial distribution and orange circles represent the estimated result. The orange circles are more refined and give a better estimate, highlighting the usefulness of the state estimator."
   ]
  },
  {
   "cell_type": "code",
   "execution_count": null,
   "metadata": {},
   "outputs": [],
   "source": [
    "fig = x_guess.plot_scatter(label='initial')\n",
    "fig = ukf.x.plot_scatter(fig=fig, label='update')"
   ]
  },
  {
   "cell_type": "markdown",
   "metadata": {},
   "source": [
    "Now that we know how to do state estimation, the next key component of prognostics is [prediction](https://nasa.github.io/progpy/prog_algs_guide.html#prediction). ProgPy includes multiple predictors, and we'll implement a Monte Carlo predictor here. Let's load the necessary imports. "
   ]
  },
  {
   "cell_type": "code",
   "execution_count": null,
   "metadata": {},
   "outputs": [],
   "source": [
    "from progpy.predictors import MonteCarlo"
   ]
  },
  {
   "cell_type": "markdown",
   "metadata": {},
   "source": [
    "Next, let's add some [process and measurement noise](https://nasa.github.io/progpy/prog_models_guide.html?highlight=noise#noise) into our system, to capture any uncertainties. "
   ]
  },
  {
   "cell_type": "code",
   "execution_count": null,
   "metadata": {},
   "outputs": [],
   "source": [
    "PROCESS_NOISE = 5e-3            # Percentage process noise\n",
    "MEASUREMENT_NOISE = 1e-4        # Percentage measurement noise\n",
    "\n",
    "# Apply process noise to state\n",
    "batt.parameters['process_noise'] = {key: PROCESS_NOISE * value for key, value in initial_state.items()}\n",
    "\n",
    "# Apply measurement noise to output\n",
    "z0 = batt.output(initial_state)\n",
    "batt.parameters['measurement_noise'] = {key: MEASUREMENT_NOISE * value for key, value in z0.items()}"
   ]
  },
  {
   "cell_type": "markdown",
   "metadata": {},
   "source": [
    "Next, let's set up our predictor. "
   ]
  },
  {
   "cell_type": "code",
   "execution_count": null,
   "metadata": {},
   "outputs": [],
   "source": [
    "mc = MonteCarlo(batt)"
   ]
  },
  {
   "cell_type": "markdown",
   "metadata": {},
   "source": [
    "To perform the prediction, we need to specify a few things, including the number of samples we want to use for the prediction, the step size for the prediction, and the prediction horizon (i.e., the time value to predict to)."
   ]
  },
  {
   "cell_type": "code",
   "execution_count": null,
   "metadata": {},
   "outputs": [],
   "source": [
    "NUM_SAMPLES = 100\n",
    "STEP_SIZE = 1\n",
    "PREDICTION_HORIZON = random_walk_dataset['absoluteTime'].iloc[-1] "
   ]
  },
  {
   "cell_type": "markdown",
   "metadata": {},
   "source": [
    "We also need to define a future loading function based on the load in the dataset we are using. Let's extract the necessary information and define a function."
   ]
  },
  {
   "cell_type": "code",
   "execution_count": null,
   "metadata": {},
   "outputs": [],
   "source": [
    "# Extract time and outputs from data\n",
    "times_rw = random_walk_dataset['absoluteTime']\n",
    "outputs_rw = [{'v': elem[1]['voltage']} for elem in random_walk_dataset.iterrows()]\n",
    "\n",
    "# Define function\n",
    "import numpy as np\n",
    "def future_load_rw(t, x=None):\n",
    "    current = np.interp(t, times_rw, random_walk_dataset['current'])\n",
    "    return {'i': current}"
   ]
  },
  {
   "cell_type": "markdown",
   "metadata": {},
   "source": [
    "With this, we are ready to predict. "
   ]
  },
  {
   "cell_type": "code",
   "execution_count": null,
   "metadata": {},
   "outputs": [],
   "source": [
    "mc_results = mc.predict(initial_state, future_loading_eqn=future_load_rw, n_samples=NUM_SAMPLES, dt=STEP_SIZE, save_freq = 10, horizon=PREDICTION_HORIZON)"
   ]
  },
  {
   "cell_type": "markdown",
   "metadata": {},
   "source": [
    "Let's visualize the results. We'll plot 1) the data (in orange), 2) the predicted mean value (blue), 3) the individual predictions to show uncertainty (grey)."
   ]
  },
  {
   "cell_type": "code",
   "execution_count": null,
   "metadata": {},
   "outputs": [],
   "source": [
    "import matplotlib.pyplot as plt\n",
    "for z in mc_results.outputs:\n",
    "    plt.plot(z.times, [z_i['v'] for z_i in z], 'grey', linewidth=0.5)\n",
    "fig = plt.plot(mc_results.times, [z['v'] for z in mc_results.outputs.mean], label='mean prediction')\n",
    "fig = plt.plot(random_walk_dataset['absoluteTime'], random_walk_dataset['voltage'], label='ground truth')\n",
    "plt.legend()"
   ]
  },
  {
   "cell_type": "markdown",
   "metadata": {},
   "source": [
    "Now that we understand the basics of state estimation and prediction, as well as how to implement these concepts within ProgPy, we are ready to do a full prognostics example. We'll use the state estimator and predictor we created above."
   ]
  },
  {
   "cell_type": "markdown",
   "metadata": {},
   "source": [
    "First, let's set a few values we'll use in the simulation."
   ]
  },
  {
   "cell_type": "code",
   "execution_count": null,
   "metadata": {},
   "outputs": [],
   "source": [
    "# Constant values\n",
    "NUM_SAMPLES = 5\n",
    "PREDICTION_UPDATE_FREQ = 50     # Number of steps between prediction updates\n",
    "GROUND_TRUTH = {'EOD': 1200}    # NOTE: need to check this is right for this example\n",
    "PLOT = True"
   ]
  },
  {
   "cell_type": "markdown",
   "metadata": {},
   "source": [
    "Next, let's initialize a data structure for storing the results, using the following built-in class:"
   ]
  },
  {
   "cell_type": "code",
   "execution_count": null,
   "metadata": {},
   "outputs": [],
   "source": [
    "from progpy.predictors import ToEPredictionProfile\n",
    "profile = ToEPredictionProfile()"
   ]
  },
  {
   "cell_type": "markdown",
   "metadata": {},
   "source": [
    "Now we'll perform the prognostics. We'll loop through time, estimating the state at each time step, and making a prediction at the `PREDICTION_UPDATE_FREQ`.\n",
    "\n",
    "For the sake of this tutorial and the data we're using, we need to change the default voltage threshold value. By changing this, we'll make the simulation run faster for our in-person demo, and ensure that samples reach EOD before the simulation is over. In practice, this value should be chosen based on the specific use-case you're considering. \n",
    "\n",
    "Lastly, we'll also use the `time` functionality to calculate the run-time (which we'll compare with another model in the next section)."
   ]
  },
  {
   "cell_type": "code",
   "execution_count": null,
   "metadata": {},
   "outputs": [],
   "source": [
    "# Computation time\n",
    "import time\n",
    "start_time = time.time()\n",
    "\n",
    "# Adjust voltage threshold \n",
    "batt.parameters['VEOD'] = 3.42\n",
    "\n",
    "# Loop through time\n",
    "for ind in range(1, random_walk_dataset.shape[0]):\n",
    "\n",
    "    # Extract data\n",
    "    t = random_walk_dataset['absoluteTime'][ind]\n",
    "    i = {'i': random_walk_dataset['current'][ind]}\n",
    "    z = {'t': random_walk_dataset['temperature'][ind], 'v': random_walk_dataset['voltage'][ind]}\n",
    "\n",
    "    # Perform state estimation \n",
    "    ukf.estimate(t, i, z)\n",
    "    eod = batt.event_state(ukf.x.mean)['EOD']\n",
    "    print(\"  - Event State: \", eod)\n",
    "\n",
    "    # Prediction step (at specified frequency)\n",
    "    if (ind%PREDICTION_UPDATE_FREQ == 0):\n",
    "        # Perform prediction\n",
    "        mc_results = mc.predict(ukf.x, future_load_rw, t0 = t, n_samples=NUM_SAMPLES, dt=1, horizon=PREDICTION_HORIZON)\n",
    "        \n",
    "        # Calculate metrics and print\n",
    "        metrics = mc_results.time_of_event.metrics()\n",
    "        print('  - ToE: {} (sigma: {})'.format(metrics['EOD']['mean'], metrics['EOD']['std']))\n",
    "\n",
    "        # Save results\n",
    "        profile.add_prediction(t, mc_results.time_of_event)\n",
    "\n",
    "# Calculate time\n",
    "end_time = time.time()\n",
    "elapsed_time = end_time - start_time"
   ]
  },
  {
   "cell_type": "markdown",
   "metadata": {},
   "source": [
    "With our prognostics results, we can now calculate some metrics to analyze the accuracy. \n",
    "\n",
    "First, some imports."
   ]
  },
  {
   "cell_type": "code",
   "execution_count": null,
   "metadata": {},
   "outputs": [],
   "source": [
    "from progpy.uncertain_data.uncertain_data import UncertainData\n",
    "from progpy.metrics import samples as metrics"
   ]
  },
  {
   "cell_type": "markdown",
   "metadata": {},
   "source": [
    "We'll start by calculating the cumulative relative accuracy given the ground truth value. "
   ]
  },
  {
   "cell_type": "code",
   "execution_count": null,
   "metadata": {},
   "outputs": [],
   "source": [
    "cra = profile.cumulative_relative_accuracy(GROUND_TRUTH)\n",
    "print(f\"Cumulative Relative Accuracy for 'EOD': {cra['EOD']}\")"
   ]
  },
  {
   "cell_type": "markdown",
   "metadata": {},
   "source": [
    "We'll also generate some plots of the results."
   ]
  },
  {
   "cell_type": "code",
   "execution_count": null,
   "metadata": {},
   "outputs": [],
   "source": [
    "ALPHA = 0.05\n",
    "playback_plots = profile.plot(GROUND_TRUTH, ALPHA, True)"
   ]
  },
  {
   "cell_type": "markdown",
   "metadata": {},
   "source": [
    "<span style=\"color:red\"> Could include some other metrics like prognostics horizon, alpha-lambda, etc., if desired </span>"
   ]
  },
  {
   "cell_type": "markdown",
   "metadata": {},
   "source": [
    "### Data-driven Capabilities and Surrogate Models\n",
    "\n",
    "In addition to the physics-based modeling functionalities described so far, ProgPy also includes a [framework for implementing data-driven models](https://nasa.github.io/progpy/api_ref/progpy/DataModel.html?highlight=surrogate#datamodel). Included methodologies are [Dynamic Mode Decomposition](https://nasa.github.io/progpy/api_ref/progpy/DataModel.html?highlight=surrogate#dmdmodel), [LSTM](https://nasa.github.io/progpy/api_ref/progpy/DataModel.html?highlight=surrogate#lstmstatetransitionmodel), and [Polynomial Chaos Expansion](https://nasa.github.io/progpy/api_ref/progpy/DataModel.html?highlight=surrogate#polynomialchaosexpansion). This data-driven architecture also includes [surrogate models](https://nasa.github.io/progpy/api_ref/progpy/DataModel.html?highlight=surrogate#from-another-prognosticsmodel-i-e-surrogate) which can be used to create models that approximate the original/higher-fidelity models, generally resulting in a less accurate model that is more computationally efficient. \n",
    "\n"
   ]
  },
  {
   "cell_type": "markdown",
   "metadata": {},
   "source": [
    "# Building a new model"
   ]
  },
  {
   "cell_type": "markdown",
   "metadata": {},
   "source": [
    "The last section described how to tune and use a prognostics model distributed with ProgPy (BatteryElectroChemEOD). However, in many cases a model doesn't yet exist for the system being targeted. In those cases, a new model must be built to describe the behavior and degradation of the system.\n",
    "\n",
    "In this section we will create a new model from scratch, specifically a new physics-based model. ProgPy also includes tools for training data-driven models (see data-driven tab, here: https://nasa.github.io/progpy/prog_models_guide.html#state-transition-models), but that is not the approach we will be demonstrating today.\n",
    "\n",
    "Physics-based state transition models that cannot be described linearly are constructed by subclassing [progpy.PrognosticsModel](https://nasa.github.io/progpy/api_ref/prog_models/PrognosticModel.html#prog_models.PrognosticsModel). To demonstrate this, we'll create a new model class that inherits from this class. Once constructed in this way, the analysis and simulation tools for PrognosticsModels will work on the new model.\n",
    "https://nasa.github.io/progpy/prog_models_guide.html#state-transition-models\n",
    "\n",
    "We will again be using the battery as a target, creating an alternative to the battery model introduced in the previous section.\n",
    "We will be implementing the simplified battery model introduced by Gina Sierra, et. al. (https://www.sciencedirect.com/science/article/pii/S0951832018301406)."
   ]
  },
  {
   "cell_type": "markdown",
   "metadata": {},
   "source": [
    "First, we import the PrognosticsModel class. this is the parent class for all ProgPy Models"
   ]
  },
  {
   "cell_type": "code",
   "execution_count": null,
   "metadata": {},
   "outputs": [],
   "source": [
    "from progpy import PrognosticsModel"
   ]
  },
  {
   "cell_type": "markdown",
   "metadata": {},
   "source": [
    "## State Transition\n",
    "The first step to creating a physics-based model is implementing state transition. From the paper we see one state (SOC) and one state transition equation:\n",
    "\n",
    "$SOC(k+1) = SOC(k) - P(k)*\\Delta t * E_{crit}^{-1} + w_2(k)$\n",
    "\n",
    "The $w$ term is process noise. This can be omitted, since it's handled by ProgPy. \n",
    "\n",
    "In this equation we see one input ($P$, power). Note that the previous battery model uses current, where this uses Power.\n",
    "\n",
    "Armed with this information we can start defining our model. First, we start by declaring our inputs and states:"
   ]
  },
  {
   "cell_type": "code",
   "execution_count": null,
   "metadata": {},
   "outputs": [],
   "source": [
    "class SimplifiedEquivilantCircuit(PrognosticsModel):\n",
    "    inputs = ['P']\n",
    "    states = ['SOC']"
   ]
  },
  {
   "cell_type": "markdown",
   "metadata": {},
   "source": [
    "Next we define parameters. In this case the parameters are the initial SOC state (1) and the E_crit (Internal Total Energy). We get the value for $E_{crit}$ from the paper.\n",
    "\n",
    "Note: wont actually subclass in practice, but it's used to break apart model definition into chunks"
   ]
  },
  {
   "cell_type": "code",
   "execution_count": null,
   "metadata": {},
   "outputs": [],
   "source": [
    "class SimplifiedEquivilantCircuit(SimplifiedEquivilantCircuit):\n",
    "    default_parameters = {\n",
    "        'E_crit': 202426.858,  # Internal Total Energy\n",
    "        'x0': {\n",
    "            'SOC': 1,  # State of Charge\n",
    "        }\n",
    "    }"
   ]
  },
  {
   "cell_type": "markdown",
   "metadata": {},
   "source": [
    "We know that SOC will always be between 0 and 1, so we can specify that explicitly."
   ]
  },
  {
   "cell_type": "code",
   "execution_count": null,
   "metadata": {},
   "outputs": [],
   "source": [
    "class SimplifiedEquivilantCircuit(SimplifiedEquivilantCircuit):\n",
    "    state_limits = {\n",
    "        'SOC': (0.0, 1.0),\n",
    "    }"
   ]
  },
  {
   "cell_type": "markdown",
   "metadata": {},
   "source": [
    "Next we define the state transition equation. There are two methods for doing this: *dx* (for continuous) and *next_state* (for discrete). Today we're using the $dx$ function. This was selected because the model is continuous."
   ]
  },
  {
   "cell_type": "code",
   "execution_count": null,
   "metadata": {},
   "outputs": [],
   "source": [
    "class SimplifiedEquivilantCircuit(SimplifiedEquivilantCircuit):\n",
    "    def dx(self, x, u):\n",
    "        return self.StateContainer({'SOC': -u['P']/self['E_crit']})"
   ]
  },
  {
   "cell_type": "markdown",
   "metadata": {},
   "source": [
    "## Outputs\n",
    "\n",
    "Now that state transition is defined, the next step is to define the outputs of the function. From the paper we have the following output equations:\n",
    "\n",
    "$v(k) = v_{oc}(k) - i(k) * R_{int}(k) + \\eta (k)$\n",
    "\n",
    "where\n",
    "\n",
    "$v_{oc}(k) = v_L - \\lambda ^ {\\gamma * SOC(k)} - \\mu * e ^ {-\\beta * \\sqrt{SOC(k)}}$\n",
    "\n",
    "and\n",
    "\n",
    "$i(k) = \\frac{v_{oc}(k) - \\sqrt{v_{oc}(k)^2 - 4 * R_{int}(k) * P(k)}}{2 * R_{int}(k)}$"
   ]
  },
  {
   "cell_type": "markdown",
   "metadata": {},
   "source": [
    "There is one output here (v, voltage), the same one input (P, Power), and a few lumped parameters: $v_L$, $\\lambda$, $\\gamma$, $\\mu$, $\\beta$, and $R_{int}$. The default parameters are found in the paper.\n",
    "\n",
    "Note that $\\eta$ is the measurement noise, which progpy handles, so that's ommitted from the equation below.\n",
    "\n",
    "Note 2: There is a typo in the paper where the sign of the second term in the $v_{oc}$ term. It should be negative (like above), but is reported as positive in the paper.\n",
    "\n",
    "We can update the definition of the model to include this output and parameters."
   ]
  },
  {
   "cell_type": "code",
   "execution_count": null,
   "metadata": {},
   "outputs": [],
   "source": [
    "class SimplifiedEquivilantCircuit(SimplifiedEquivilantCircuit):\n",
    "    outputs = ['v']\n",
    "\n",
    "    default_parameters = {\n",
    "        'E_crit': 202426.858,\n",
    "        'v_L': 11.148,\n",
    "        'lambda': 0.046,\n",
    "        'gamma': 3.355,\n",
    "        'mu': 2.759,\n",
    "        'beta': 8.482,\n",
    "        'R_int': 0.027,\n",
    "\n",
    "        'x0': {\n",
    "            'SOC': 1,\n",
    "        }\n",
    "    }"
   ]
  },
  {
   "cell_type": "markdown",
   "metadata": {},
   "source": [
    "Note that the input ($P(k)$) is also used in the output equation, that means it's part of the state of the system. So we will update the states to include this.\n",
    "\n",
    "**NOTE: WE CHANGE TO next_state**"
   ]
  },
  {
   "cell_type": "code",
   "execution_count": null,
   "metadata": {},
   "outputs": [],
   "source": [
    "class SimplifiedEquivilantCircuit(SimplifiedEquivilantCircuit):\n",
    "    states = ['SOC', 'P']\n",
    "\n",
    "    def next_state(self, x, u, dt):\n",
    "        x['SOC'] = x['SOC'] - u['P'] * dt / self['E_crit']\n",
    "        x['P'] = u['P']\n",
    "\n",
    "        return x\n",
    "    "
   ]
  },
  {
   "cell_type": "markdown",
   "metadata": {},
   "source": [
    "Adding a default P state as well:"
   ]
  },
  {
   "cell_type": "code",
   "execution_count": null,
   "metadata": {},
   "outputs": [],
   "source": [
    "class SimplifiedEquivilantCircuit(SimplifiedEquivilantCircuit):\n",
    "    default_parameters = {\n",
    "        'E_crit': 202426.858,\n",
    "        'v_L': 11.148,\n",
    "        'lambda': 0.046,\n",
    "        'gamma': 3.355,\n",
    "        'mu': 2.759,\n",
    "        'beta': 8.482,\n",
    "        'R_int': 0.027,\n",
    "\n",
    "        'x0': {\n",
    "            'SOC': 1,\n",
    "            'P': 0.01  # Added P\n",
    "        }\n",
    "    }"
   ]
  },
  {
   "cell_type": "markdown",
   "metadata": {},
   "source": [
    "Finally, we're ready to define the output equations (defined above)."
   ]
  },
  {
   "cell_type": "code",
   "execution_count": null,
   "metadata": {},
   "outputs": [],
   "source": [
    "import math\n",
    "class SimplifiedEquivilantCircuit(SimplifiedEquivilantCircuit):\n",
    "    def output(self, x):\n",
    "        v_oc = self['v_L'] - self['lambda']**(self['gamma']*x['SOC']) - self['mu'] * math.exp(-self['beta']* math.sqrt(x['SOC']))\n",
    "        i = (v_oc - math.sqrt(v_oc**2 - 4 * self['R_int'] * x['P']))/(2 * self['R_int'])\n",
    "        v = v_oc - i * self['R_int']\n",
    "        return self.OutputContainer({\n",
    "            'v': v})"
   ]
  },
  {
   "cell_type": "markdown",
   "metadata": {},
   "source": [
    "## Events\n",
    "Finally we can define events. This is an easy case because our event state (SOC) is part of the model state. So we will simply define a single event (EOD: End of Discharge), where SOC is progress towards that event."
   ]
  },
  {
   "cell_type": "code",
   "execution_count": null,
   "metadata": {},
   "outputs": [],
   "source": [
    "class SimplifiedEquivilantCircuit(SimplifiedEquivilantCircuit):\n",
    "    events = ['EOD']"
   ]
  },
  {
   "cell_type": "markdown",
   "metadata": {},
   "source": [
    "Then for our event state, we simply extract the relevant state"
   ]
  },
  {
   "cell_type": "code",
   "execution_count": null,
   "metadata": {},
   "outputs": [],
   "source": [
    "class SimplifiedEquivilantCircuit(SimplifiedEquivilantCircuit):\n",
    "    def event_state(self, x):\n",
    "        return {'EOD': x['SOC']}"
   ]
  },
  {
   "cell_type": "markdown",
   "metadata": {},
   "source": [
    "The threshold of the event is defined as the state where the event state (EOD) is 0.\n",
    "\n",
    "That's it. We've now defined a complete model. Now it's ready to be used for state estimation or prognostics, like any model distributed with ProgPy"
   ]
  },
  {
   "cell_type": "markdown",
   "metadata": {},
   "source": [
    "## Using the Model"
   ]
  },
  {
   "cell_type": "markdown",
   "metadata": {},
   "source": [
    "First step to using the model is initializing an instance of it."
   ]
  },
  {
   "cell_type": "code",
   "execution_count": null,
   "metadata": {},
   "outputs": [],
   "source": [
    "m = SimplifiedEquivilantCircuit()"
   ]
  },
  {
   "cell_type": "markdown",
   "metadata": {},
   "source": [
    "To demonstrate/test this model, we will start by simulating with a constant load"
   ]
  },
  {
   "cell_type": "code",
   "execution_count": null,
   "metadata": {},
   "outputs": [],
   "source": [
    "def future_load(t, x=None):\n",
    "    return {'P': 165}\n",
    "results = m.simulate_to_threshold(future_load, dt=1, save_freq=1)"
   ]
  },
  {
   "cell_type": "code",
   "execution_count": null,
   "metadata": {},
   "outputs": [],
   "source": [
    "fig = results.event_states.plot()"
   ]
  },
  {
   "cell_type": "code",
   "execution_count": null,
   "metadata": {},
   "outputs": [],
   "source": [
    "fig = results.outputs.plot()"
   ]
  },
  {
   "cell_type": "markdown",
   "metadata": {},
   "source": [
    "Everything seems to be working well here. Now let's test how well it fits the random walk dataset. First let's prepare the data and future load equation. Note that this future load uses power instead of current (which the last one used)"
   ]
  },
  {
   "cell_type": "code",
   "execution_count": null,
   "metadata": {},
   "outputs": [],
   "source": [
    "times_rw = random_walk_dataset['absoluteTime']\n",
    "inputs_rw = [elem[1]['voltage'] * elem[1]['current'] for elem in random_walk_dataset.iterrows()]\n",
    "outputs_rw = [{'v': elem[1]['voltage']} for elem in random_walk_dataset.iterrows()]\n",
    "\n",
    "import numpy as np\n",
    "def future_load_rw(t, x=None):\n",
    "    power = np.interp(t, times_rw, inputs_rw)\n",
    "    return {'P': power}"
   ]
  },
  {
   "cell_type": "markdown",
   "metadata": {},
   "source": [
    "We can simulate using that future load equation"
   ]
  },
  {
   "cell_type": "code",
   "execution_count": null,
   "metadata": {},
   "outputs": [],
   "source": [
    "result = m.simulate_to(random_walk_dataset['absoluteTime'].iloc[-1], future_load_rw, dt=1, save_freq=100)"
   ]
  },
  {
   "cell_type": "markdown",
   "metadata": {},
   "source": [
    "Now lets take a look at the result, comparing it to the ground truth"
   ]
  },
  {
   "cell_type": "code",
   "execution_count": null,
   "metadata": {},
   "outputs": [],
   "source": [
    "from matplotlib import pyplot as plt\n",
    "plt.figure()\n",
    "plt.plot(times_rw, [z for z in random_walk_dataset['voltage']])\n",
    "plt.plot(result.times, [z['v'] for z in result.outputs])\n",
    "fig = result.event_states.plot()"
   ]
  },
  {
   "cell_type": "markdown",
   "metadata": {},
   "source": [
    "This is a terrible fit. Clearly the battery model isn't properly configured for this specific battery. Reading through the paper we see that the default parameters are for a larger battery pouch present in a UAV, much larger than the 18650 battery that produced our dataset\n",
    "\n",
    "To correct this, we need to estimate the model parameters."
   ]
  },
  {
   "cell_type": "markdown",
   "metadata": {},
   "source": [
    "## Parameter Estimation\n",
    "\n",
    "Parameter estimation could be a tutorial on its own. Sometimes it can be considered more of an Art than a science.\n",
    "\n",
    "Parameter Estimation the process of estimating the parameters for a model. This is done using a mixture of data, knowledge (e.g., from system specs), and intuition. For large, complex models, it can be VERY difficult and computationall expensive. Fortunately, in this case we have a relatively simple model.\n",
    "\n",
    "See: https://nasa.github.io/progpy/prog_models_guide.html#parameter-estimation"
   ]
  },
  {
   "cell_type": "markdown",
   "metadata": {},
   "source": [
    "First, let's take a look at the parameter space"
   ]
  },
  {
   "cell_type": "code",
   "execution_count": null,
   "metadata": {},
   "outputs": [],
   "source": [
    "m.parameters"
   ]
  },
  {
   "cell_type": "markdown",
   "metadata": {},
   "source": [
    "This is a very simple model. There are really only 7 parameters to set (assuming initial SOC is always 1).\n",
    "\n",
    "We can start with setting a few parameters we know. We know that v_L is about 4.2 (from the battery), we expect that the battery internal resistance is the same as that in the electrochemistry model, and we know that the capacity of this battery is significantly smaller."
   ]
  },
  {
   "cell_type": "code",
   "execution_count": null,
   "metadata": {},
   "outputs": [],
   "source": [
    "m['v_L'] = 4.2 # We know this\n",
    "m['R_int'] = batt['Ro']\n",
    "m['E_crit'] /= 4 # Battery capacity is much smaller"
   ]
  },
  {
   "cell_type": "markdown",
   "metadata": {},
   "source": [
    "Now let's take a look at the model fit again and see where that got us."
   ]
  },
  {
   "cell_type": "code",
   "execution_count": null,
   "metadata": {},
   "outputs": [],
   "source": [
    "result_guess = m.simulate_to(random_walk_dataset['absoluteTime'].iloc[-1], future_load_rw, dt=1, save_freq=5)\n",
    "plt.plot(times_rw, [z for z in random_walk_dataset['voltage']])\n",
    "plt.plot(result_guess.times, [z['v'] for z in result_guess.outputs])"
   ]
  },
  {
   "cell_type": "markdown",
   "metadata": {},
   "source": [
    "Much better, but not there yet. Next we need to use the parameter estimation feature to estimate the parameters further. First lets prepare some data. We'll use the trickle, reference, and step datasets for this. These are close enough temporally that we can expect aging effects to be minimal.\n",
    "\n",
    "**NOTE: It is important to use a different dataset to estimate parameters as to test**"
   ]
  },
  {
   "cell_type": "code",
   "execution_count": null,
   "metadata": {},
   "outputs": [],
   "source": [
    "times_trickle = trickle_dataset['relativeTime']\n",
    "inputs_trickle = [{'P': elem[1]['voltage'] * elem[1]['current']} for elem in trickle_dataset.iterrows()]\n",
    "outputs_trickle = [{'v': elem[1]['voltage']} for elem in trickle_dataset.iterrows()]\n",
    "\n",
    "times_ref = reference_dataset['relativeTime']\n",
    "inputs_ref = [{'P': elem[1]['voltage'] * elem[1]['current']} for elem in reference_dataset.iterrows()]\n",
    "outputs_ref = [{'v': elem[1]['voltage']} for elem in reference_dataset.iterrows()]\n",
    "\n",
    "times_step = step_dataset['relativeTime']\n",
    "inputs_step = [{'P': elem[1]['voltage'] * elem[1]['current']} for elem in step_dataset.iterrows()]\n",
    "outputs_step = [{'v': elem[1]['voltage']} for elem in step_dataset.iterrows()]"
   ]
  },
  {
   "cell_type": "markdown",
   "metadata": {},
   "source": [
    "Now lets print the keys and the error beforehand for reference. The error here is what is used to estimate parameters."
   ]
  },
  {
   "cell_type": "code",
   "execution_count": null,
   "metadata": {},
   "outputs": [],
   "source": [
    "inputs_reformatted_rw = [{'P': elem[1]['voltage'] * elem[1]['current']} for elem in random_walk_dataset.iterrows()]\n",
    "all_keys = ['v_L', 'R_int', 'lambda', 'gamma', 'mu', 'beta', 'E_crit']\n",
    "print('Model configuration')\n",
    "for key in all_keys:\n",
    "    print(\"-\", key, m[key])\n",
    "error_guess = m.calc_error(times=times_rw.to_list(), inputs=inputs_reformatted_rw, outputs=outputs_rw)\n",
    "print('Error: ', error_guess)\n"
   ]
  },
  {
   "cell_type": "markdown",
   "metadata": {},
   "source": [
    "Next, lets set the bounds on each of the parameters.\n",
    "\n",
    "For v_L and R_int, we're defining some small bounds because we have an idea of what they might be. For the others we are saying it's between 0.1 and 10x the default battery. We also are adding a constraint that E_crit must be smaller than the default, since we know it's a smaller battery."
   ]
  },
  {
   "cell_type": "code",
   "execution_count": null,
   "metadata": {},
   "outputs": [],
   "source": [
    "bounds= {\n",
    "    'v_L': (3.75, 4.5),\n",
    "    'R_int': (batt['Ro']*0.5, batt['Ro']*2.5),\n",
    "    'lambda': (0.046/10, 0.046*10),\n",
    "    'gamma': (3.355/10, 3.355*10),\n",
    "    'mu': (2.759/10, 2.759*10),\n",
    "    'beta': (8.482/10, 8.482*10),\n",
    "    'E_crit': (202426.858/10, 202426.858) # (smaller than default)\n",
    "}"
   ]
  },
  {
   "cell_type": "markdown",
   "metadata": {},
   "source": [
    "Finally, we'll estimate the parameters. See [Param Estimation](https://nasa.github.io/progpy/prog_models_guide.html#parameter-estimation) for more details.\n",
    "\n",
    "We can throw all of the data into estimate parameters, but that will take a LONG time to run, and is prone to errors (e.g., getting stuck in local minima). So, for this example we split characterization into parts.\n",
    "\n",
    "First we try to capture the base voltage ($v_L$). If we look at the equation below, v_L is the only term that is not a function of either SOC or Power. So, for this estimation we use the trickle dataset, where Power draw is the lowest. We only use the first section where SOC can be assumed to be about 1."
   ]
  },
  {
   "cell_type": "code",
   "execution_count": null,
   "metadata": {},
   "outputs": [],
   "source": [
    "keys = ['v_L']\n",
    "m.estimate_params(times=trickle_dataset['relativeTime'].iloc[:10].to_list(), inputs=inputs_trickle[:10], outputs=outputs_trickle[:10], keys=keys, dt=1, bounds=bounds)"
   ]
  },
  {
   "cell_type": "markdown",
   "metadata": {},
   "source": [
    "Let's take a look at what that got us:"
   ]
  },
  {
   "cell_type": "code",
   "execution_count": null,
   "metadata": {},
   "outputs": [],
   "source": [
    "print('Model configuration')\n",
    "for key in all_keys:\n",
    "    print(\"-\", key, m[key])\n",
    "error_fit1 = m.calc_error(times=times_rw.to_list(), inputs=inputs_reformatted_rw, outputs=outputs_rw)\n",
    "print(f'Error: {error_guess}->{error_fit1} ({error_fit1-error_guess})')\n",
    "\n",
    "result_fit1 = m.simulate_to(random_walk_dataset['absoluteTime'].iloc[-1], future_load_rw, dt=1, save_freq=5)\n",
    "plt.plot(times_rw, [z for z in random_walk_dataset['voltage']], label='ground truth')\n",
    "plt.plot(result_guess.times, [z['v'] for z in result_guess.outputs], label='guess')\n",
    "plt.plot(result_fit1.times, [z['v'] for z in result_fit1.outputs], label='fit1')\n",
    "plt.legend()\n",
    "\n",
    "plt.figure()\n",
    "plt.plot([0, 1], [error_guess, error_fit1])\n",
    "plt.xlabel('Parameter Estimation Run')\n",
    "plt.ylabel('Error')\n",
    "plt.ylim((0, 0.25))"
   ]
  },
  {
   "cell_type": "markdown",
   "metadata": {},
   "source": [
    "A tiny bit closer, but not significant. Our initial guess (from the packaging) must have been pretty good.\n",
    "\n",
    "The next step is to estimate the effect of current on the battery. The Parameter $R_{int}$ (internal resistance) effects this. To estimate $R_{int}$ we will use 2 runs where power is not minimal (ref and step runs). Again, we will use only the first couple steps so EOL can be assumed to be 1."
   ]
  },
  {
   "cell_type": "code",
   "execution_count": null,
   "metadata": {},
   "outputs": [],
   "source": [
    "keys = ['R_int']\n",
    "m.estimate_params(times=[times_ref.iloc[:5].to_list(), times_step.iloc[:5].to_list()], inputs=[inputs_ref[:5], inputs_step[:5]], outputs=[outputs_ref[:5], outputs_step[:5]], keys=keys, dt=1, bounds=bounds)"
   ]
  },
  {
   "cell_type": "markdown",
   "metadata": {},
   "source": [
    "Again, let's look at what that got us"
   ]
  },
  {
   "cell_type": "code",
   "execution_count": null,
   "metadata": {},
   "outputs": [],
   "source": [
    "print('Model configuration')\n",
    "for key in all_keys:\n",
    "    print(\"-\", key, m[key])\n",
    "error_fit2 = m.calc_error(times=times_rw.to_list(), inputs=inputs_reformatted_rw, outputs=outputs_rw)\n",
    "print(f'Error: {error_fit1}->{error_fit2} ({error_fit2-error_fit1})')\n",
    "\n",
    "result_fit2 = m.simulate_to(random_walk_dataset['absoluteTime'].iloc[-1], future_load_rw, dt=1, save_freq=5)\n",
    "plt.plot(times_rw, [z for z in random_walk_dataset['voltage']], label='ground truth')\n",
    "plt.plot(result_guess.times, [z['v'] for z in result_guess.outputs], label='guess')\n",
    "plt.plot(result_fit1.times, [z['v'] for z in result_fit1.outputs], label='fit1')\n",
    "plt.plot(result_fit2.times, [z['v'] for z in result_fit2.outputs], label='fit2')\n",
    "plt.legend()\n",
    "\n",
    "plt.figure()\n",
    "plt.plot([0, 1, 2], [error_guess, error_fit1, error_fit2])\n",
    "plt.xlabel('Parameter Estimation Run')\n",
    "plt.ylabel('Error')\n",
    "plt.ylim((0, 0.25))"
   ]
  },
  {
   "cell_type": "markdown",
   "metadata": {},
   "source": [
    "Much better, but not there yet! Finally we need to estimate the effects of SOC on battery performance. This involves all of the rest of the paraemters. For this we will use all the rest of the parameters. We will not be using the entire reference curve to capture a full discharge.\n",
    "\n",
    "Note we're using the error_method MAX_E, instead of the default MSE. This results in parameters that better estimate the end of the discharge curve and is recommended when estimating parameters that are combined with the event state."
   ]
  },
  {
   "cell_type": "code",
   "execution_count": null,
   "metadata": {},
   "outputs": [],
   "source": [
    "keys = ['lambda', 'gamma', 'mu', 'beta', 'E_crit']\n",
    "m.estimate_params(times=times_ref.to_list(), inputs=inputs_ref, outputs=outputs_ref, keys=keys, dt=1, bounds=bounds, error_method=\"MAX_E\")"
   ]
  },
  {
   "cell_type": "markdown",
   "metadata": {},
   "source": [
    "Let's see what that got us"
   ]
  },
  {
   "cell_type": "code",
   "execution_count": null,
   "metadata": {},
   "outputs": [],
   "source": [
    "print('Model configuration')\n",
    "for key in all_keys:\n",
    "    print(\"-\", key, m[key])\n",
    "error_fit3 = m.calc_error(times=times_rw.to_list(), inputs=inputs_reformatted_rw, outputs=outputs_rw)\n",
    "print(f'Error: {error_fit2}->{error_fit3} ({error_fit3-error_fit2})')\n",
    "\n",
    "result_fit3 = m.simulate_to(random_walk_dataset['absoluteTime'].iloc[-1], future_load_rw, dt=1, save_freq=5)\n",
    "plt.plot(times_rw, [z for z in random_walk_dataset['voltage']], label='ground truth')\n",
    "plt.plot(result_guess.times, [z['v'] for z in result_guess.outputs], label='guess')\n",
    "plt.plot(result_fit1.times, [z['v'] for z in result_fit1.outputs], label='fit1')\n",
    "plt.plot(result_fit2.times, [z['v'] for z in result_fit2.outputs], label='fit2')\n",
    "plt.plot(result_fit3.times, [z['v'] for z in result_fit3.outputs], label='fit3')\n",
    "plt.legend()\n",
    "\n",
    "plt.figure()\n",
    "plt.plot([0, 1, 2, 3], [error_guess, error_fit1, error_fit2, error_fit3])\n",
    "plt.xlabel('Parameter Estimation Run')\n",
    "plt.ylabel('Error')\n",
    "plt.ylim((0, 0.25))"
   ]
  },
  {
   "cell_type": "markdown",
   "metadata": {},
   "source": [
    "This is even better. Now we have an \"ok\" estimate, ~150 mV (for the sake of a demo). The estimate could be refined further by setting a lower tolerance (tol parameter), or repeating the 4 parameter estimation steps, above. Talk to Chetan Kulkarni (chetan.s.kulkarni@nasa.gov) with questions on this."
   ]
  },
  {
   "cell_type": "markdown",
   "metadata": {},
   "source": [
    "## Prognostics Example\n",
    "Repeating above example"
   ]
  },
  {
   "cell_type": "markdown",
   "metadata": {},
   "source": [
    "## Final Notes on Building New Models\n",
    "Here we built a brand new model, from scratch, using the information from a paper. We estimated the parameters using real data and compared its performance with the include BatteryElectroChemEOD.\n",
    "\n",
    "This is one example on how to build a new model, for more details see https://nasa.github.io/progpy/prog_models_guide.html#building-new-models and the 04_New Models.ipynb file. Other model-building topics include:\n",
    "\n",
    "* Advanced Noise Representation: e.g., Other distributions\n",
    "* Complex Future Loading Methods: E.g., moving average, loading with uncertainty or functions of state\n",
    "* Custom Events: e.g., warning thresholds\n",
    "* Derived Parameters: parameters that are functions of other parameters\n",
    "* Direct Models: Models of state, future_loading -> Time of Event without state transition\n",
    "* Linear Models\n",
    "* Optimizations\n",
    "\n",
    "Note that this model can be extended by changing the parameters ecrit and r to steady states. This will help the model account for the effects of aging, since they will be estimated with each state estimation step.\n",
    "\n",
    "todo: use tuple for est params"
   ]
  },
  {
   "cell_type": "markdown",
   "metadata": {},
   "source": [
    "# Other Advanced Capabilities"
   ]
  },
  {
   "cell_type": "markdown",
   "metadata": {},
   "source": [
    "* Combination Models: https://nasa.github.io/progpy/prog_models_guide.html#combination-models and 06_Combining_Models\n",
    "* Dynamic Step Size"
   ]
  },
  {
   "cell_type": "markdown",
   "metadata": {},
   "source": [
    "## Combination Models"
   ]
  },
  {
   "cell_type": "markdown",
   "metadata": {},
   "source": [
    "https://nasa.github.io/progpy/prog_models_guide.html#combination-models\n",
    "\n",
    "This section demonstrates how prognostic models can be combined. There are two times in which this is useful: \n",
    "\n",
    "1. When combining multiple models of different inter-related systems into one system-of-system model (i.e., [Composite Models](https://nasa.github.io/progpy/api_ref/prog_models/CompositeModel.html)), or\n",
    "2. Combining multiple models of the same system to be simulated together and aggregated (i.e., [Ensemble Models](https://nasa.github.io/progpy/api_ref/prog_models/EnsembleModel.html) or [Mixture of Expert Models](https://nasa.github.io/progpy/api_ref/progpy/MixtureOfExperts.html)). This is generally done to improve the accuracy of prediction when you have multiple models that each represent part of the behavior or represent a distribution of different behaviors.\n",
    "\n",
    "For this example we will combine the competing models using a Mixture of Expert Model"
   ]
  },
  {
   "cell_type": "markdown",
   "metadata": {},
   "source": [
    "## Closing"
   ]
  },
  {
   "cell_type": "markdown",
   "metadata": {},
   "source": [
    "https://nasa.github.io/progpy/index.html#contributing-and-partnering"
   ]
  }
 ],
 "metadata": {
  "kernelspec": {
   "display_name": "ProgPyEnv1",
   "language": "python",
   "name": "python3"
  },
  "language_info": {
   "codemirror_mode": {
    "name": "ipython",
    "version": 3
   },
   "file_extension": ".py",
   "mimetype": "text/x-python",
   "name": "python",
   "nbconvert_exporter": "python",
   "pygments_lexer": "ipython3",
   "version": "3.9.6"
  },
  "orig_nbformat": 4,
  "vscode": {
   "interpreter": {
    "hash": "71ccad9e81d0b15f7bb5ef75e2d2ca570011b457fb5a41421e3ae9c0e4c33dfc"
   }
  }
 },
 "nbformat": 4,
 "nbformat_minor": 2
}
