{
 "cells": [
  {
   "cell_type": "markdown",
   "metadata": {},
   "source": [
    "# ProgPy Tutorial\n",
    "_2024 PHM Society Conference_\n",
    "_November, 2024_\n",
    "\n",
    "Please put questions in the Whova App or raise your hand."
   ]
  },
  {
   "cell_type": "markdown",
   "metadata": {},
   "source": [
    "# Pre-Work\n",
    "_We recommend installing ProgPy prior to the tutorial_\n",
    "\n",
    "The latest stable release of ProgPy is hosted on PyPi. To install via the command line, use the following command: \n",
    "\n",
    "`$ pip install progpy`"
   ]
  },
  {
   "cell_type": "markdown",
   "metadata": {},
   "source": [
    "The documentation for ProgPy can be found [here](https://nasa.github.io/progpy/index.html). We will reference this material throughout the tutorial. ProgPy can be found on GitHub at [this link](https://github.com/nasa/progpy)."
   ]
  },
  {
   "cell_type": "markdown",
   "metadata": {},
   "source": [
    "Please download the Whova App (<span style=\"color:red\"> link? </span>) for live Q&A during the session."
   ]
  },
  {
   "cell_type": "markdown",
   "metadata": {},
   "source": [
    "For clarity in the tutorial, suppress any warnings using the code below."
   ]
  },
  {
   "cell_type": "code",
   "execution_count": 2,
   "metadata": {},
   "outputs": [],
   "source": [
    "import warnings\n",
    "warnings.filterwarnings('ignore')"
   ]
  },
  {
   "cell_type": "markdown",
   "metadata": {},
   "source": [
    "## Introduction to ProgPy"
   ]
  },
  {
   "cell_type": "markdown",
   "metadata": {},
   "source": [
    "<span style=\"color:red\">\n",
    "•\tPut questions in the whova app\n",
    "•\tWhat it is\n",
    "•\tWhere to find it\n",
    "•\tInstalling it – Pre-work\n",
    "•\tGeneral Structure\n",
    "\n",
    "</span>"
   ]
  },
  {
   "cell_type": "markdown",
   "metadata": {},
   "source": [
    "NASA’s ProgPy is an open-source python package supporting research and development of prognostics, health management, and predictive maintenance tools. It implements architectures and common functionality of prognostics, supporting researchers and practitioners.\n",
    "\n",
    "The goal of this tutorial is to instruct users how to use and extend ProgPy. This tutorial will cover how to use a model, including existing models and additional capabilities like parameter estimation and simulation, as well as how to build a new model from scratch. "
   ]
  },
  {
   "cell_type": "markdown",
   "metadata": {},
   "source": [
    "### Definitions and Background\n",
    "\n"
   ]
  },
  {
   "cell_type": "markdown",
   "metadata": {},
   "source": [
    "The tutorial will begin with an introduction to prognostics and ProgPy using ProgPy's documentation. Please follow along in the [ProgPy Guide](https://nasa.github.io/progpy/guide.html)."
   ]
  },
  {
   "cell_type": "markdown",
   "metadata": {},
   "source": [
    "### Tutorial Outline"
   ]
  },
  {
   "cell_type": "markdown",
   "metadata": {},
   "source": [
    "1. Using an existing model\n",
    "    - Loading a model\n",
    "    - Model parameters\n",
    "    - Simulation\n",
    "    - Noise\n",
    "    - Prognostics with data\n",
    "\n",
    "2. Building a new model \n",
    " \n",
    "<span style=\"color:red\"> update this as we go along ... </span>\n"
   ]
  },
  {
   "cell_type": "markdown",
   "metadata": {},
   "source": [
    "## Using an existing Model"
   ]
  },
  {
   "cell_type": "markdown",
   "metadata": {},
   "source": [
    "<span style=\"color:red\">\n",
    "•\tIntroduce- existing models, data driven tools\n",
    "\n",
    "•\tBattery Model – Electrochemistry EOD\n",
    "•\tSet parameters (characterize) using data - Chetan - script for characterization, confirm that data works for that.\n",
    "        m = BatteryElectroChemEOD()\n",
    "        m.estimate_params(dataset1, params=[...])\n",
    "        m.estimate_params(dataset2, params=[...])\n",
    "        ...\n",
    "        \n",
    "\n",
    "•\tSimulate \n",
    "\n",
    "-   introducing state estimation and prediction as concepts\n",
    "\n",
    "•\tSetup an example with prognostics & data (see dataset example)\n",
    "\n",
    "•\tSurrogate model – build surrogate model, compare runtime\n",
    "</span>\n"
   ]
  },
  {
   "cell_type": "markdown",
   "metadata": {},
   "source": [
    "The first component of ProgPy are the **Prognostics Models**. Models describe the behavior of the system of interest and how the state of the system evolves with use. ProgPy includes capability for prognostics models to be [physics-based](https://nasa.github.io/progpy/glossary.html#term-physics-based-model) or [data-driven](https://nasa.github.io/progpy/glossary.html#term-data-driven-model).\n",
    "\n",
    "ProgPy includes a collection of included models which can be accessed through the `progpy.models` package. The built-in models include: \n",
    "- [Battery models](https://nasa.github.io/progpy/api_ref/progpy/IncludedModels.html#:~:text=the%20following%20sections.-,Battery,-Model%23) - equivalent circuit and electrochemistry\n",
    "- [Pump model](https://nasa.github.io/progpy/api_ref/progpy/IncludedModels.html#:~:text=data%2Drepository/.-,Pump,-Model%23)\n",
    "- [Pneumatic Valve](https://nasa.github.io/progpy/api_ref/progpy/IncludedModels.html#:~:text=publication/260652495_Model%2DBased_Prognostics_With_Concurrent_Damage_Progression_Processes-,Pneumatic%20Valve,-%23)\n",
    "- [DC Motor](https://nasa.github.io/progpy/api_ref/progpy/IncludedModels.html#:~:text=article/view/1359-,DC%20Motor,-%23)\n",
    "- [Electronic Speed Controller (ESC)](https://nasa.github.io/progpy/api_ref/progpy/IncludedModels.html#:~:text=%29%20%E2%80%93%20Initial%20state-,ESC,-%23)\n",
    "- [Powertrain](https://nasa.github.io/progpy/api_ref/progpy/IncludedModels.html#:~:text=gov/citations/20200000579-,Powertrain%23,-class%20progpy.models)\n",
    "- [Propeller Load](https://nasa.github.io/progpy/api_ref/progpy/IncludedModels.html#:~:text=motor.paramters%2C%20respectively.-,PropellerLoad,-%23)\n",
    "- [Aircraft Models](https://nasa.github.io/progpy/api_ref/progpy/IncludedModels.html#:~:text=t_l%3A%20Load%20Torque-,Aircraft%20Models,-%23)\n"
   ]
  },
  {
   "cell_type": "markdown",
   "metadata": {},
   "source": [
    "All prognostics models have the same [format](https://nasa.github.io/progpy/prog_models_guide.html#modeling-and-sim-guide:~:text=the%20below%20sections-,ProgPy%20Prognostic%20Model%20Format,-%23) within ProgPy. The architecture requires definition of model inputs, states, outputs, and events which come together to create a system model.\n",
    "\n",
    "![next state](img/next_state.png)\n",
    "![dx](img/dx.png)"
   ]
  },
  {
   "cell_type": "markdown",
   "metadata": {},
   "source": [
    "### Loading a Model"
   ]
  },
  {
   "cell_type": "markdown",
   "metadata": {},
   "source": [
    "To illustrate how to use a built-in model, let's use the [Battery Electrochemistry model](https://nasa.github.io/progpy/api_ref/progpy/IncludedModels.html#:~:text=class%20progpy.models.BatteryElectroChemEOD(**kwargs)). This model predicts the end-of-discharge of a Lithium-ion battery based on a set of differential equations that describe the electrochemistry of the system [Daigle et al. 2013](https://papers.phmsociety.org/index.php/phmconf/article/view/2252).\n",
    "\n"
   ]
  },
  {
   "cell_type": "markdown",
   "metadata": {},
   "source": [
    "First, import the model from the `progpy.models` package."
   ]
  },
  {
   "cell_type": "code",
   "execution_count": 3,
   "metadata": {},
   "outputs": [],
   "source": [
    "from progpy.models import BatteryElectroChemEOD"
   ]
  },
  {
   "cell_type": "markdown",
   "metadata": {},
   "source": [
    "Next, let's create a new battery using the default settings:"
   ]
  },
  {
   "cell_type": "code",
   "execution_count": 4,
   "metadata": {},
   "outputs": [],
   "source": [
    "batt = BatteryElectroChemEOD()"
   ]
  },
  {
   "cell_type": "markdown",
   "metadata": {},
   "source": [
    "### Model parameters"
   ]
  },
  {
   "cell_type": "markdown",
   "metadata": {},
   "source": [
    "Model parameters describe the specific system the model will simulate. For the Electrochemistry model, the default model parameters are for 18650-type Li-ion battery cells. All parameters can be accessed through `batt.parameters`. Let's print out the battery's capacity, denoted as `qMax` in this model."
   ]
  },
  {
   "cell_type": "code",
   "execution_count": null,
   "metadata": {},
   "outputs": [],
   "source": [
    "print(batt.parameters['qMax'])"
   ]
  },
  {
   "cell_type": "markdown",
   "metadata": {},
   "source": [
    "Parameter values can be configured in various ways. Parameter values can be passed into the constructor as keyword arguments when the model is first instantiated or can be set afterwards, like so:"
   ]
  },
  {
   "cell_type": "code",
   "execution_count": null,
   "metadata": {},
   "outputs": [],
   "source": [
    "batt.parameters['qMax'] = 127000\n",
    "print(batt.parameters['qMax'])"
   ]
  },
  {
   "cell_type": "markdown",
   "metadata": {},
   "source": [
    "In addition to setting model parameter values by hand, ProgPy includes a [parameter estimation](https://nasa.github.io/progpy/prog_models_guide.html#parameter-estimation:~:text=examples.future_loading-,Parameter%20Estimation,-%23) functionality that tunes the parameters of a general model to match the behavior of a specific system. In ProgPy, the `progpy.PrognosticsModel.estimate_params()` method tunes model parameters so that the model provides a good fit to observed data. In the case of the Electrochemistry model, for example, parameter estimation would take the general battery model and configure it so that it more accurately describes a specific battery. The ProgPy documentation includes a [detailed example](https://nasa.github.io/progpy/prog_models_guide.html#parameter-estimation:~:text=See%20the%20example%20below%20for%20more%20details) on how to do parameter estimation."
   ]
  },
  {
   "cell_type": "markdown",
   "metadata": {},
   "source": [
    "### Simulation"
   ]
  },
  {
   "cell_type": "markdown",
   "metadata": {},
   "source": [
    "Once a model has been created, the next step is to simulate it's evolution throughout time. Simulation is the foundation of prediction, but unlike full prediction, simulation does not include uncertainty in the state and other product (e.g., [output](https://nasa.github.io/progpy/glossary.html#term-output)) representation."
   ]
  },
  {
   "cell_type": "markdown",
   "metadata": {},
   "source": [
    "*Future Loading*\n",
    "\n",
    "Most prognostics models have some sort of [input](https://nasa.github.io/progpy/glossary.html#term-input), i.e. a control or load applied to the system that impacts the system state and outputs. For example, for a battery, the current drawn from the battery is the applied load, or input. In this case, to simulate the system, we must define a `future_loading` function that describes how the system will be loaded, or used, throughout time. (Note that not all systems have applied load, e.g. [ThrowObject](https://nasa.github.io/progpy/api_ref/progpy/IncludedModels.html?highlight=thrownobject#progpy.models.ThrownObject), and no `future_loading` is required in these cases.)\n",
    "\n",
    "ProgPy includes pre-defined [loading functions](https://nasa.github.io/progpy/api_ref/progpy/Loading.html?highlight=progpy%20loading) in `progpy.loading`. Here, we'll implement the built-in piecewise loading functionality. <span style=\"color:red\"> do we want more description of this or just verbal? </span>"
   ]
  },
  {
   "cell_type": "code",
   "execution_count": 6,
   "metadata": {},
   "outputs": [],
   "source": [
    "from progpy.loading import Piecewise\n",
    "\n",
    "future_loading = Piecewise(\n",
    "        InputContainer=batt.InputContainer,\n",
    "        times=[600, 900, 1800, 3000],\n",
    "        values={'i': [2, 1, 4, 2, 3]})"
   ]
  },
  {
   "cell_type": "markdown",
   "metadata": {},
   "source": [
    "With this, we are ready to simulate. There are two ways to simulate in ProgPy: 1) simulate to a specific time using `simulate_to()`, and 2) simulate until a particular event occurs, using `simulate_to_threshold()`."
   ]
  },
  {
   "cell_type": "markdown",
   "metadata": {},
   "source": [
    "*Simulate to Time*\n",
    "\n",
    "To simply simulate the model to a particular time, we can use ProgPy's `simulate_to()` method, which takes input of the time to simulate to and the future_loading function. We'll simulate our battery forward in time for 3000 seconds and save the results every 50 seconds, as follows:\n"
   ]
  },
  {
   "cell_type": "code",
   "execution_count": 26,
   "metadata": {},
   "outputs": [],
   "source": [
    "time_to_simulate_to = 3000\n",
    "sim_config = {\n",
    "    'save_freq': 50, \n",
    "}\n",
    "\n",
    "results = batt.simulate_to(time=time_to_simulate_to, future_loading_eqn=future_loading,**sim_config)"
   ]
  },
  {
   "cell_type": "markdown",
   "metadata": {},
   "source": [
    "We can plot the results to visualize the simulation. \n",
    "<span style=\"color:red\"> Include description of results or just discuss verbally during tutorial? Also - why is one of these plots plotted twice? </span>"
   ]
  },
  {
   "cell_type": "code",
   "execution_count": null,
   "metadata": {},
   "outputs": [],
   "source": [
    "results.inputs.plot(ylabel='Current drawn (amps)')\n",
    "results.event_states.plot(ylabel='Battery State of Charge')\n",
    "results.outputs.plot(ylabel= {'v': \"voltage (V)\", 't': 'temperature (°C)'}, compact= False)"
   ]
  },
  {
   "cell_type": "markdown",
   "metadata": {},
   "source": [
    "*Simulate to Threshold*\n",
    "\n",
    "Physical systems frequently have one or more failure modes, and there's often a need to predict the progress towards these events and the eventual failure of the system. ProgPy generalizes this concept of predicting Remaining Useful Life (RUL) with [events](https://nasa.github.io/progpy/prog_models_guide.html#modeling-and-sim-guide:~:text=Events,-%23) and their corresponding [thresholds](https://nasa.github.io/progpy/glossary.html#term-threshold) under which they occur. \n",
    "\n",
    "\n",
    "Often, there is interest in simulating a system forward in time until a particular event occurs. ProgPy includes this capability with `simulate_to_threshold()`. "
   ]
  },
  {
   "cell_type": "markdown",
   "metadata": {},
   "source": [
    "First, let's take a look at what events exist for the Electrochemistry model."
   ]
  },
  {
   "cell_type": "code",
   "execution_count": null,
   "metadata": {},
   "outputs": [],
   "source": [
    "batt.events"
   ]
  },
  {
   "cell_type": "markdown",
   "metadata": {},
   "source": [
    "The only event in this model is 'EOD' or end-of-discharge. The `progpy.PrognosticsModel.event_state()` method estimates the progress towards the event, with 1 representing no progress towards the event and 0 indicating the event has occurred.  The method `progpy.PrognosticsModel.threshold_met()` defines when the event has happened. In the Electrochemistry model, this occurs when the battery voltage drops below some pre-defined value, which is stored in the parameter `VEOD`. Let's see what this threshold value is."
   ]
  },
  {
   "cell_type": "code",
   "execution_count": null,
   "metadata": {},
   "outputs": [],
   "source": [
    "batt.parameters['VEOD']"
   ]
  },
  {
   "cell_type": "markdown",
   "metadata": {},
   "source": [
    "With these definitions in mind, let's simulate the battery model until threshold for EOD is met. We'll use the same `future_loading` function as above. "
   ]
  },
  {
   "cell_type": "code",
   "execution_count": 11,
   "metadata": {},
   "outputs": [],
   "source": [
    "options = { #configuration for this sim\n",
    "    'save_freq': 100,  # Frequency at which results are saved (s)\n",
    "    'horizon': 8000  # Maximum time to simulate (s) - This is a cutoff. The simulation will end at this time, or when a threshold has been met, whichever is first\n",
    "    }\n",
    "results = batt.simulate_to_threshold(future_loading, **options)"
   ]
  },
  {
   "cell_type": "markdown",
   "metadata": {},
   "source": [
    "Let's visualize the results. Note that the simulation ends when the voltage value hits the VEOD value of 3.0."
   ]
  },
  {
   "cell_type": "code",
   "execution_count": null,
   "metadata": {},
   "outputs": [],
   "source": [
    "results.inputs.plot(ylabel='Current drawn (amps)')\n",
    "results.event_states.plot(ylabel='Battery State of Charge')\n",
    "results.outputs.plot(ylabel= {'v': \"voltage (V)\", 't': 'temperature (°C)'}, compact= False)"
   ]
  },
  {
   "cell_type": "markdown",
   "metadata": {},
   "source": [
    "### Noise\n",
    "\n",
    "A key factor in modeling any real-world application is noise. See the ProgPy [noise documentation](https://nasa.github.io/progpy/prog_models_guide.html#:~:text=Noise,-%23) for a detailed description of different types of noise and how to include it in the ProgPy architecture. "
   ]
  },
  {
   "cell_type": "markdown",
   "metadata": {},
   "source": [
    "### Prognostics with data\n",
    "\n"
   ]
  },
  {
   "cell_type": "markdown",
   "metadata": {},
   "source": [
    "## Building a new model"
   ]
  },
  {
   "cell_type": "markdown",
   "metadata": {},
   "source": [
    "All of the past sections describe how to use an existing model. In this section we will describe how to create a new model. This section specifically describes creating a new physics-based model. NOTE ABOUT SOMETIMES NEEDING TO CREATE A NEW ONE SOMETIME\n",
    "\n",
    "Physics-based state transition models that cannot be described linearly are constructed by subclassing [progpy.PrognosticsModel](https://nasa.github.io/progpy/api_ref/prog_models/PrognosticModel.html#prog_models.PrognosticsModel). To demonstrate this, we'll create a new model class that inherits from this class. Once constructed in this way, the analysis and simulation tools for PrognosticsModels will work on the new model.\n",
    "https://nasa.github.io/progpy/prog_models_guide.html#state-transition-models\n",
    "\n",
    "From here: https://www.sciencedirect.com/science/article/pii/S0951832018301406"
   ]
  },
  {
   "cell_type": "code",
   "execution_count": 66,
   "metadata": {},
   "outputs": [],
   "source": [
    "from progpy import PrognosticsModel"
   ]
  },
  {
   "cell_type": "markdown",
   "metadata": {},
   "source": [
    "$R_{int}(k+1) = R_{int}(k) + w_1(k)$\n",
    "\n",
    "$SOC(k+1) = SOC(k) - P(k)*\\Delta t * E_{crit}(k)^{-1} + w_2(k)$\n",
    "\n",
    "$E_{crit}(k+1) = E_{crit}(k) + w_3(k)$"
   ]
  },
  {
   "cell_type": "markdown",
   "metadata": {},
   "source": [
    "w1, 2 and 3 are omitted (process noise, which is covered by ProgPy)\n",
    "\n",
    "Note: wont actually subclass in practice, but it's to demonstrate"
   ]
  },
  {
   "cell_type": "code",
   "execution_count": 81,
   "metadata": {},
   "outputs": [],
   "source": [
    "class SimplifiedEquivilantCircuit(PrognosticsModel):\n",
    "    inputs = ['P']\n",
    "    states = [\n",
    "        'R_int',\n",
    "        'SOC',\n",
    "        'E_crit']"
   ]
  },
  {
   "cell_type": "code",
   "execution_count": 82,
   "metadata": {},
   "outputs": [],
   "source": [
    "class SimplifiedEquivilantCircuit(SimplifiedEquivilantCircuit):\n",
    "    default_parameters = {\n",
    "        'x0': {\n",
    "            'R_int': 0.027,\n",
    "            'SOC': 1,\n",
    "            'E_crit': 426.858,\n",
    "        }\n",
    "    }"
   ]
  },
  {
   "cell_type": "code",
   "execution_count": 83,
   "metadata": {},
   "outputs": [],
   "source": [
    "class SimplifiedEquivilantCircuit(SimplifiedEquivilantCircuit):\n",
    "    state_limits = {\n",
    "        'SOC': (0.0, 1.0)\n",
    "    }"
   ]
  },
  {
   "cell_type": "code",
   "execution_count": 84,
   "metadata": {},
   "outputs": [],
   "source": [
    "class SimplifiedEquivilantCircuit(SimplifiedEquivilantCircuit):\n",
    "    def next_state(self, x, u, dt):\n",
    "        x['SOC'] = x['SOC'] - u['P'] * dt / x['E_crit']\n",
    "\n",
    "        return x"
   ]
  },
  {
   "cell_type": "markdown",
   "metadata": {},
   "source": [
    "$V(k) = v_{oc}(k) - i(k) * R_{int}(k) + \\eta (k)$\n",
    "\n",
    "where\n",
    "\n",
    "$v_{oc}(k) = v_L + \\lambda ^ {\\gamma * SOC(k)} - \\mu * e ^ {-\\beta * \\sqrt{SOC(k)}}$\n",
    "\n",
    "and\n",
    "\n",
    "$i(k) = \\frac{v_{oc}(k) - \\sqrt{v_{oc}(k)^2 - 4 * R_{int}(k) * P(k)}}{2 * R_{int}(k)}$"
   ]
  },
  {
   "cell_type": "markdown",
   "metadata": {},
   "source": [
    "Note that $\\eta$ is the measurement noise, which progpy handles, so that's ommitted from the equation below."
   ]
  },
  {
   "cell_type": "code",
   "execution_count": 85,
   "metadata": {},
   "outputs": [],
   "source": [
    "class SimplifiedEquivilantCircuit(SimplifiedEquivilantCircuit):\n",
    "    outputs = ['v']"
   ]
  },
  {
   "cell_type": "markdown",
   "metadata": {},
   "source": [
    "Note that the input ($P(k)$) is also used in the output, that means it's part of the state of the system. So we will update the states to include this"
   ]
  },
  {
   "cell_type": "code",
   "execution_count": 86,
   "metadata": {},
   "outputs": [],
   "source": [
    "class SimplifiedEquivilantCircuit(SimplifiedEquivilantCircuit):\n",
    "    states = [\n",
    "        'R_int',\n",
    "        'SOC',\n",
    "        'E_crit',\n",
    "        'P']\n",
    "\n",
    "    def next_state(self, x, u, dt):\n",
    "        x['SOC'] = x['SOC'] - u['P'] * dt / x['E_crit']\n",
    "        x['P'] = u['P']\n",
    "\n",
    "        return x\n",
    "    "
   ]
  },
  {
   "cell_type": "code",
   "execution_count": 87,
   "metadata": {},
   "outputs": [],
   "source": [
    "class SimplifiedEquivilantCircuit(SimplifiedEquivilantCircuit):\n",
    "    default_parameters = {\n",
    "        'v_L': 11.148,\n",
    "        'lambda': 0.046,\n",
    "        'gamma': 3.355,\n",
    "        'mu': 2.759,\n",
    "        'beta': 8.482,\n",
    "\n",
    "        'x0': {\n",
    "            'R_int': 0.027,\n",
    "            'SOC': 1,\n",
    "            'E_crit': 202,\n",
    "            'P': 0.01  # Added P\n",
    "        }\n",
    "    }"
   ]
  },
  {
   "cell_type": "code",
   "execution_count": 88,
   "metadata": {},
   "outputs": [],
   "source": [
    "import math\n",
    "class SimplifiedEquivilantCircuit(SimplifiedEquivilantCircuit):\n",
    "    def output(self, x):\n",
    "        v_oc = self['v_L'] + self['lambda']**(self['gamma']*x['SOC']) - self['mu'] * math.exp(-self['beta']* math.sqrt(x['SOC']))\n",
    "        i = (v_oc - math.sqrt(v_oc**2 - 4 * x['R_int'] * x['P']))/(2 * x['R_int'])\n",
    "        v = v_oc - i * x['R_int']\n",
    "        return self.OutputContainer({'v': v})"
   ]
  },
  {
   "cell_type": "markdown",
   "metadata": {},
   "source": [
    "Next lets look at events..."
   ]
  },
  {
   "cell_type": "code",
   "execution_count": 89,
   "metadata": {},
   "outputs": [],
   "source": [
    "class SimplifiedEquivilantCircuit(SimplifiedEquivilantCircuit):\n",
    "    events = ['EOD']"
   ]
  },
  {
   "cell_type": "code",
   "execution_count": 90,
   "metadata": {},
   "outputs": [],
   "source": [
    "class SimplifiedEquivilantCircuit(SimplifiedEquivilantCircuit):\n",
    "    def event_state(self, x):\n",
    "        return {'EOD': x['SOC']}"
   ]
  },
  {
   "cell_type": "code",
   "execution_count": 91,
   "metadata": {},
   "outputs": [],
   "source": [
    "m = SimplifiedEquivilantCircuit()"
   ]
  },
  {
   "cell_type": "code",
   "execution_count": 100,
   "metadata": {},
   "outputs": [],
   "source": [
    "future_load = lambda t, x=None: {'P': 15} # 165?\n",
    "results = m.simulate_to_threshold(future_load, dt=0.1, save_freq=0.1)"
   ]
  },
  {
   "cell_type": "code",
   "execution_count": 101,
   "metadata": {},
   "outputs": [
    {
     "data": {
      "image/png": "[encoded data removed]",
      "text/plain": [
       "<Figure size 1000x900 with 1 Axes>"
      ]
     },
     "metadata": {},
     "output_type": "display_data"
    }
   ],
   "source": [
    "fig = results.event_states.plot()"
   ]
  },
  {
   "cell_type": "code",
   "execution_count": 102,
   "metadata": {},
   "outputs": [
    {
     "data": {
      "image/png": "[encoded data removed]",
      "text/plain": [
       "<Figure size 1000x900 with 1 Axes>"
      ]
     },
     "metadata": {},
     "output_type": "display_data"
    }
   ],
   "source": [
    "fig = results.outputs.plot()"
   ]
  },
  {
   "cell_type": "markdown",
   "metadata": {},
   "source": [
    "TODO(CT): Use with prediction"
   ]
  },
  {
   "cell_type": "markdown",
   "metadata": {},
   "source": [
    "## Advanced Capabilities"
   ]
  },
  {
   "cell_type": "markdown",
   "metadata": {},
   "source": [
    "### Combination Models"
   ]
  },
  {
   "cell_type": "markdown",
   "metadata": {},
   "source": [
    "https://nasa.github.io/progpy/prog_models_guide.html#combination-models\n",
    "\n",
    "This section demonstrates how prognostic models can be combined. There are two times in which this is useful: \n",
    "\n",
    "1. When combining multiple models of different inter-related systems into one system-of-system model (i.e., [Composite Models](https://nasa.github.io/progpy/api_ref/prog_models/CompositeModel.html)), or\n",
    "2. Combining multiple models of the same system to be simulated together and aggregated (i.e., [Ensemble Models](https://nasa.github.io/progpy/api_ref/prog_models/EnsembleModel.html) or [Mixture of Expert Models](https://nasa.github.io/progpy/api_ref/progpy/MixtureOfExperts.html)). This is generally done to improve the accuracy of prediction when you have multiple models that each represent part of the behavior or represent a distribution of different behaviors.\n",
    "\n",
    "For this example we will combine the competing models using a Mixture of Expert Model"
   ]
  },
  {
   "cell_type": "code",
   "execution_count": null,
   "metadata": {},
   "outputs": [],
   "source": [
    "from progpy import MixtureOfExpertsModel"
   ]
  },
  {
   "cell_type": "markdown",
   "metadata": {},
   "source": [
    "TODO(CT): COMBINE MODELS FROM ABOVE"
   ]
  },
  {
   "cell_type": "markdown",
   "metadata": {},
   "source": [
    "TODO(CT): Compare performacne"
   ]
  },
  {
   "cell_type": "markdown",
   "metadata": {},
   "source": [
    "## Closing"
   ]
  },
  {
   "cell_type": "markdown",
   "metadata": {},
   "source": [
    "https://nasa.github.io/progpy/index.html#contributing-and-partnering"
   ]
  }
 ],
 "metadata": {
  "kernelspec": {
   "display_name": "ProgPyEnv1",
   "language": "python",
   "name": "python3"
  },
  "language_info": {
   "codemirror_mode": {
    "name": "ipython",
    "version": 3
   },
   "file_extension": ".py",
   "mimetype": "text/x-python",
   "name": "python",
   "nbconvert_exporter": "python",
   "pygments_lexer": "ipython3",
   "version": "3.9.6"
  },
  "orig_nbformat": 4,
  "vscode": {
   "interpreter": {
    "hash": "71ccad9e81d0b15f7bb5ef75e2d2ca570011b457fb5a41421e3ae9c0e4c33dfc"
   }
  }
 },
 "nbformat": 4,
 "nbformat_minor": 2
}
