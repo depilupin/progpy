{
 "cells": [
  {
   "cell_type": "markdown",
   "metadata": {},
   "source": [
    "# ProgPy Tutorial\n",
    "_2024 PHM Society Conference_\n",
    "_November, 2024_\n",
    "\n",
    "Please put questions in the Whova App or raise your hand."
   ]
  },
  {
   "cell_type": "markdown",
   "metadata": {},
   "source": [
    "# Pre-Work\n",
    "_We recommend installing ProgPy prior to the tutorial_\n",
    "\n",
    "The latest stable release of ProgPy is hosted on PyPi. To install via the command line, use the following command: \n",
    "\n",
    "`$ pip install progpy`"
   ]
  },
  {
   "cell_type": "markdown",
   "metadata": {},
   "source": [
    "The documentation for ProgPy can be found [here](https://nasa.github.io/progpy/index.html). We will reference this material throughout the tutorial. ProgPy can be found on GitHub at [this link](https://github.com/nasa/progpy)."
   ]
  },
  {
   "cell_type": "markdown",
   "metadata": {},
   "source": [
    "Please download the Whova App (<span style=\"color:red\"> link? </span>) for live Q&A during the session."
   ]
  },
  {
   "cell_type": "markdown",
   "metadata": {},
   "source": [
    "Next, lets download the data we will be using for this tutorial. To do this we will use the datasets subpackage in progpy."
   ]
  },
  {
   "cell_type": "code",
   "execution_count": null,
   "metadata": {},
   "outputs": [],
   "source": [
    "from progpy.datasets import nasa_battery\n",
    "(desc, data) = nasa_battery.load_data(1)"
   ]
  },
  {
   "cell_type": "markdown",
   "metadata": {},
   "source": [
    "## Introduction to ProgPy"
   ]
  },
  {
   "cell_type": "markdown",
   "metadata": {},
   "source": [
    "<span style=\"color:red\">\n",
    "•\tPut questions in the whova app\n",
    "•\tWhat it is\n",
    "•\tWhere to find it\n",
    "•\tInstalling it – Pre-work\n",
    "•\tGeneral Structure\n",
    "\n",
    "</span>"
   ]
  },
  {
   "cell_type": "markdown",
   "metadata": {},
   "source": [
    "NASA’s ProgPy is an open-source python package supporting research and development of prognostics, health management, and predictive maintenance tools. It implements architectures and common functionality of prognostics, supporting researchers and practitioners.\n",
    "\n",
    "The goal of this tutorial is to instruct users how to use and extend ProgPy. This tutorial will cover how to use a model, including existing models and additional capabilities like parameter estimation and simulation, as well as how to build a new model from scratch. "
   ]
  },
  {
   "cell_type": "markdown",
   "metadata": {},
   "source": [
    "### Definitions and Background\n",
    "\n"
   ]
  },
  {
   "cell_type": "markdown",
   "metadata": {},
   "source": [
    "The tutorial will begin with an introduction to prognostics and ProgPy using ProgPy's documentation. Please follow along in the [ProgPy Guide](https://nasa.github.io/progpy/guide.html)."
   ]
  },
  {
   "cell_type": "markdown",
   "metadata": {},
   "source": [
    "### Tutorial Outline"
   ]
  },
  {
   "cell_type": "markdown",
   "metadata": {},
   "source": [
    "1. Using an existing model\n",
    "    - Loading a model\n",
    "    - Model parameters\n",
    "    - Simulation\n",
    "    - Noise\n",
    "    - Prognostics with data\n",
    "\n",
    "2. Building a new model \n",
    " \n",
    "<span style=\"color:red\"> update this as we go along ... </span>\n"
   ]
  },
  {
   "cell_type": "markdown",
   "metadata": {},
   "source": [
    "## The Dataset"
   ]
  },
  {
   "cell_type": "markdown",
   "metadata": {},
   "source": [
    "Let's prepare the dataset that we will use for this tutorial."
   ]
  },
  {
   "cell_type": "code",
   "execution_count": null,
   "metadata": {},
   "outputs": [],
   "source": [
    "print(desc['description'])"
   ]
  },
  {
   "cell_type": "markdown",
   "metadata": {},
   "source": [
    "The dataset includes a number of different runs. Let's take a look at the first 10 as a starting point"
   ]
  },
  {
   "cell_type": "code",
   "execution_count": null,
   "metadata": {},
   "outputs": [],
   "source": [
    "print(desc['runs'][:10])"
   ]
  },
  {
   "cell_type": "markdown",
   "metadata": {},
   "source": [
    "This includes runs from multiple discharges at different kinds. Let's take a look at the trickle discharge run first"
   ]
  },
  {
   "cell_type": "code",
   "execution_count": null,
   "metadata": {},
   "outputs": [],
   "source": [
    "trickle_dataset = data[0]\n",
    "print(trickle_dataset)\n",
    "trickle_dataset.plot(y=['current', 'voltage', 'temperature'], subplots=True)"
   ]
  },
  {
   "cell_type": "markdown",
   "metadata": {},
   "source": [
    "Now let's do the same for a reference discharge run (5)"
   ]
  },
  {
   "cell_type": "code",
   "execution_count": null,
   "metadata": {},
   "outputs": [],
   "source": [
    "reference_dataset = data[5]\n",
    "reference_dataset.plot(y=['current', 'voltage', 'temperature'], subplots=True)"
   ]
  },
  {
   "cell_type": "markdown",
   "metadata": {},
   "source": [
    "Now let's take a look at one of the step discharges. This actually includes multiple runs"
   ]
  },
  {
   "cell_type": "code",
   "execution_count": null,
   "metadata": {},
   "outputs": [],
   "source": [
    "print(desc['runs'][7:35])"
   ]
  },
  {
   "cell_type": "markdown",
   "metadata": {},
   "source": [
    "Includes a charge, which we dont want to include in our characterization. So we should treat that as a different run.\n",
    "\n",
    "relativeTime resets for each \"run\". So if we're going to use multiple runs together, we need to stitch these times together."
   ]
  },
  {
   "cell_type": "code",
   "execution_count": null,
   "metadata": {},
   "outputs": [],
   "source": [
    "data[7]['absoluteTime'] = data[7]['relativeTime']\n",
    "for i in range(8, 32):\n",
    "    data[i]['absoluteTime'] = data[i]['relativeTime'] + data[i-1]['absoluteTime'].iloc[-1]"
   ]
  },
  {
   "cell_type": "markdown",
   "metadata": {},
   "source": [
    "Next we should combine the data into a single dataset and investigate the results"
   ]
  },
  {
   "cell_type": "code",
   "execution_count": null,
   "metadata": {},
   "outputs": [],
   "source": [
    "import pandas as pd\n",
    "step_dataset = pd.concat(data[7:32], ignore_index=True)\n",
    "print(step_dataset)\n",
    "step_dataset.plot(y=['current', 'voltage', 'temperature'], subplots=True)"
   ]
  },
  {
   "cell_type": "markdown",
   "metadata": {},
   "source": [
    "Finally, let's investigate the random walk discharge"
   ]
  },
  {
   "cell_type": "code",
   "execution_count": null,
   "metadata": {},
   "outputs": [],
   "source": [
    "print(desc['runs'][35:50])"
   ]
  },
  {
   "cell_type": "markdown",
   "metadata": {},
   "source": [
    "Like the step discharge, we need to stitch together the times and concatenate the data"
   ]
  },
  {
   "cell_type": "code",
   "execution_count": null,
   "metadata": {},
   "outputs": [],
   "source": [
    "data[35]['absoluteTime'] = data[35]['relativeTime']\n",
    "for i in range(36, 50):\n",
    "    data[i]['absoluteTime'] = data[i]['relativeTime'] + data[i-1]['absoluteTime'].iloc[-1]"
   ]
  },
  {
   "cell_type": "code",
   "execution_count": null,
   "metadata": {},
   "outputs": [],
   "source": [
    "random_walk_dataset = pd.concat(data[35:50], ignore_index=True)\n",
    "print(random_walk_dataset)\n",
    "random_walk_dataset.plot(y=['current', 'voltage', 'temperature'], subplots=True)"
   ]
  },
  {
   "cell_type": "markdown",
   "metadata": {},
   "source": [
    "Now the data is ready for this tutorial, let's dive into it."
   ]
  },
  {
   "cell_type": "markdown",
   "metadata": {},
   "source": [
    "## Using an existing Model"
   ]
  },
  {
   "cell_type": "markdown",
   "metadata": {},
   "source": [
    "<span style=\"color:red\">\n",
    "•\tIntroduce- existing models, data driven tools\n",
    "\n",
    "•\tBattery Model – Electrochemistry EOD\n",
    "•\tSet parameters (characterize) using data - Chetan - script for characterization, confirm that data works for that.\n",
    "        m = BatteryElectroChemEOD()\n",
    "        m.estimate_params(dataset1, params=[...])\n",
    "        m.estimate_params(dataset2, params=[...])\n",
    "        ...\n",
    "        \n",
    "\n",
    "•\tSimulate \n",
    "\n",
    "-   introducing state estimation and prediction as concepts\n",
    "\n",
    "•\tSetup an example with prognostics & data (see dataset example)\n",
    "\n",
    "•\tSurrogate model – build surrogate model, compare runtime\n",
    "</span>\n"
   ]
  },
  {
   "cell_type": "markdown",
   "metadata": {},
   "source": [
    "The first component of ProgPy are the **Prognostics Models**. Models describe the behavior of the system of interest and how the state of the system evolves with use. ProgPy includes capability for prognostics models to be [physics-based](https://nasa.github.io/progpy/glossary.html#term-physics-based-model) or [data-driven](https://nasa.github.io/progpy/glossary.html#term-data-driven-model).\n",
    "\n",
    "All prognostics models have the same [format](https://nasa.github.io/progpy/prog_models_guide.html#progpy-prognostic-model-format) within ProgPy. The architecture requires definition of model inputs, states, outputs, and events which come together to create a system model.\n",
    "\n",
    "ProgPy includes a collection of [included models](https://nasa.github.io/progpy/api_ref/progpy/IncludedModels.html#included-models) which can be accessed through the `progpy.models` package.\n"
   ]
  },
  {
   "cell_type": "markdown",
   "metadata": {},
   "source": [
    "### Loading a Model"
   ]
  },
  {
   "cell_type": "markdown",
   "metadata": {},
   "source": [
    "To illustrate how to use a built-in model, let's use the [Battery Electrochemistry model](https://nasa.github.io/progpy/api_ref/progpy/IncludedModels.html#:~:text=class%20progpy.models.BatteryElectroChemEOD(**kwargs)). This model predicts the end-of-discharge of a Lithium-ion battery based on a set of differential equations that describe the electrochemistry of the system [Daigle et al. 2013](https://papers.phmsociety.org/index.php/phmconf/article/view/2252).\n",
    "\n"
   ]
  },
  {
   "cell_type": "markdown",
   "metadata": {},
   "source": [
    "First, import the model from the `progpy.models` package."
   ]
  },
  {
   "cell_type": "code",
   "execution_count": null,
   "metadata": {},
   "outputs": [],
   "source": [
    "from progpy.models import BatteryElectroChemEOD"
   ]
  },
  {
   "cell_type": "markdown",
   "metadata": {},
   "source": [
    "Next, let's create a new battery using the default settings:"
   ]
  },
  {
   "cell_type": "code",
   "execution_count": null,
   "metadata": {},
   "outputs": [],
   "source": [
    "batt = BatteryElectroChemEOD()"
   ]
  },
  {
   "cell_type": "markdown",
   "metadata": {},
   "source": [
    "### Model parameters"
   ]
  },
  {
   "cell_type": "markdown",
   "metadata": {},
   "source": [
    "Model parameters describe the specific system the model will simulate. For the Electrochemistry model, the default model parameters are for 18650-type Li-ion battery cells. All parameters can be accessed through `batt.parameters`. Let's print out all of the parameters, followed by the specific parameter for the battery's capacity, denoted as `qMax` in this model."
   ]
  },
  {
   "cell_type": "code",
   "execution_count": null,
   "metadata": {},
   "outputs": [],
   "source": [
    "print(batt.parameters)\n",
    "print(batt['qMax'])"
   ]
  },
  {
   "cell_type": "markdown",
   "metadata": {},
   "source": [
    "Parameter values can be configured in various ways. Parameter values can be passed into the constructor as keyword arguments when the model is first instantiated or can be set afterwards, like so:"
   ]
  },
  {
   "cell_type": "code",
   "execution_count": null,
   "metadata": {},
   "outputs": [],
   "source": [
    "batt['qMax'] = 127000\n",
    "print(batt['qMax'])"
   ]
  },
  {
   "cell_type": "markdown",
   "metadata": {},
   "source": [
    "In addition to setting model parameter values by hand, ProgPy includes a [parameter estimation](https://nasa.github.io/progpy/prog_models_guide.html#parameter-estimation:~:text=examples.future_loading-,Parameter%20Estimation,-%23) functionality that tunes the parameters of a general model to match the behavior of a specific system. In ProgPy, the `progpy.PrognosticsModel.estimate_params()` method tunes model parameters so that the model provides a good fit to observed data. In the case of the Electrochemistry model, for example, parameter estimation would take the general battery model and configure it so that it more accurately describes a specific battery. The ProgPy documentation includes a [detailed example](https://nasa.github.io/progpy/prog_models_guide.html#parameter-estimation:~:text=See%20the%20example%20below%20for%20more%20details) on how to do parameter estimation."
   ]
  },
  {
   "cell_type": "markdown",
   "metadata": {},
   "source": [
    "### Simulation"
   ]
  },
  {
   "cell_type": "markdown",
   "metadata": {},
   "source": [
    "Once a model has been created, the next step is to simulate it's evolution throughout time. Simulation is the foundation of prediction, but unlike full prediction, simulation does not include uncertainty in the state and other product (e.g., [output](https://nasa.github.io/progpy/glossary.html#term-output)) representation."
   ]
  },
  {
   "cell_type": "markdown",
   "metadata": {},
   "source": [
    "*Future Loading*\n",
    "\n",
    "Most prognostics models have some sort of [input](https://nasa.github.io/progpy/glossary.html#term-input), i.e. a control or load applied to the system that impacts the system state and outputs. For example, for a battery, the current drawn from the battery is the applied load, or input. In this case, to simulate the system, we must define a `future_loading` function that describes how the system will be loaded, or used, throughout time. (Note that not all systems have applied load, e.g. [ThrowObject](https://nasa.github.io/progpy/api_ref/progpy/IncludedModels.html?highlight=thrownobject#progpy.models.ThrownObject), and no `future_loading` is required in these cases.)\n",
    "\n",
    "ProgPy includes pre-defined [loading functions](https://nasa.github.io/progpy/api_ref/progpy/Loading.html?highlight=progpy%20loading) in `progpy.loading`. Here, we'll implement the built-in piecewise loading functionality. <span style=\"color:red\"> do we want more description of this or just verbal? </span>"
   ]
  },
  {
   "cell_type": "code",
   "execution_count": null,
   "metadata": {},
   "outputs": [],
   "source": [
    "from progpy.loading import Piecewise\n",
    "\n",
    "future_loading = Piecewise(\n",
    "        InputContainer=batt.InputContainer,\n",
    "        times=[600, 900, 1800, 3000],\n",
    "        values={'i': [2, 1, 4, 2, 3]})"
   ]
  },
  {
   "cell_type": "markdown",
   "metadata": {},
   "source": [
    "*Simulate to Threshold*\n",
    "\n",
    "With this in mind, we're ready to simulate our model forward in time using ProgPy's [simulation functionality](https://nasa.github.io/progpy/prog_models_guide.html#simulation).\n",
    "\n",
    "Physical systems frequently have one or more failure modes, and there's often a need to predict the progress towards these events and the eventual failure of the system. ProgPy generalizes this concept of predicting Remaining Useful Life (RUL) with [events](https://nasa.github.io/progpy/prog_models_guide.html#events) and their corresponding thresholds at which they occur. \n",
    "\n",
    "\n",
    "Often, there is interest in simulating a system forward in time until a particular event occurs. ProgPy includes this capability with `simulate_to_threshold()`. "
   ]
  },
  {
   "cell_type": "markdown",
   "metadata": {},
   "source": [
    "First, let's take a look at what events exist for the Electrochemistry model."
   ]
  },
  {
   "cell_type": "code",
   "execution_count": null,
   "metadata": {},
   "outputs": [],
   "source": [
    "batt.events"
   ]
  },
  {
   "cell_type": "markdown",
   "metadata": {},
   "source": [
    "The only event in this model is 'EOD' or end-of-discharge. The `progpy.PrognosticsModel.event_state()` method estimates the progress towards the event, with 1 representing no progress towards the event and 0 indicating the event has occurred.  The method `progpy.PrognosticsModel.threshold_met()` defines when the event has happened. In the Electrochemistry model, this occurs when the battery voltage drops below some pre-defined value, which is stored in the parameter `VEOD`. Let's see what this threshold value is."
   ]
  },
  {
   "cell_type": "code",
   "execution_count": null,
   "metadata": {},
   "outputs": [],
   "source": [
    "batt.parameters['VEOD']"
   ]
  },
  {
   "cell_type": "markdown",
   "metadata": {},
   "source": [
    "With these definitions in mind, let's simulate the battery model until threshold for EOD is met. We'll use the same `future_loading` function as above. "
   ]
  },
  {
   "cell_type": "code",
   "execution_count": null,
   "metadata": {},
   "outputs": [],
   "source": [
    "options = { #configuration for this sim\n",
    "    'save_freq': 100,  # Frequency at which results are saved (s)\n",
    "    'horizon': 8000  # Maximum time to simulate (s) - This is a cutoff. The simulation will end at this time, or when a threshold has been met, whichever is first\n",
    "    }\n",
    "results = batt.simulate_to_threshold(future_loading, **options)"
   ]
  },
  {
   "cell_type": "markdown",
   "metadata": {},
   "source": [
    "Let's visualize the results. Note that the simulation ends when the voltage value hits the VEOD value of 3.0."
   ]
  },
  {
   "cell_type": "code",
   "execution_count": null,
   "metadata": {},
   "outputs": [],
   "source": [
    "results.inputs.plot(ylabel='Current drawn (amps)')\n",
    "results.event_states.plot(ylabel='Battery State of Charge')\n",
    "results.outputs.plot(ylabel= {'v': \"voltage (V)\", 't': 'temperature (°C)'}, compact= False)"
   ]
  },
  {
   "cell_type": "markdown",
   "metadata": {},
   "source": [
    "In addition to simulating to threshold, ProgPy also includes a simpler capability to simulate until a particular time, using `simulate_to()`."
   ]
  },
  {
   "cell_type": "markdown",
   "metadata": {},
   "source": [
    "### Noise\n",
    "\n",
    "A key factor in modeling any real-world application is noise. See the ProgPy [noise documentation](https://nasa.github.io/progpy/prog_models_guide.html#noise) for a detailed description of different types of noise and how to include it in the ProgPy architecture. "
   ]
  },
  {
   "cell_type": "markdown",
   "metadata": {},
   "source": [
    "### Prognostics with data\n",
    "\n"
   ]
  },
  {
   "cell_type": "markdown",
   "metadata": {},
   "source": [
    "<span style=\"color:red\">\n",
    "https://nasa.github.io/progpy/prog_algs_guide.html#state-estimation-and-prediction-guide\n",
    "\n",
    "Note to go to documentation \n",
    "\n",
    "- download data from real datasets (from dataset.py)\n",
    "- each dataset split into many runs; string together a bunch and take this as a single run \n",
    "- Plot what load looks like; run through state estimation and prediction and compare to data \n",
    "- play around with uncertainty to get bounds right\n",
    "</span>  "
   ]
  },
  {
   "cell_type": "markdown",
   "metadata": {},
   "source": [
    "Now that we have a basic simulation of our model, let's make a prediction using the prognostics capabilities within ProgPy. The two basic components of prognostics are [state estimation and prediction](https://nasa.github.io/progpy/prog_algs_guide.html#state-estimation-and-prediction-guide). ProgPy includes functionality to do both. "
   ]
  },
  {
   "cell_type": "markdown",
   "metadata": {},
   "source": [
    "To implement a prognostics example, we first need data from our system. We'll use data from <span style=\"color:red\"> INCLUDE REFERENCE and description </span>."
   ]
  },
  {
   "cell_type": "markdown",
   "metadata": {},
   "source": [
    "For the battery electrochemistry model, we'll need to use a [state estimator](https://nasa.github.io/progpy/prog_algs_guide.html#state-estimation) because the model state is not directly measureable, i.e. it has hidden states. We'll use an Unscented Kalman filter and the `estimate` method. ProgPy also includes a Particle Filter and a Kalman Filter.  "
   ]
  },
  {
   "cell_type": "markdown",
   "metadata": {},
   "source": [
    "First, let's load the necessary imports."
   ]
  },
  {
   "cell_type": "code",
   "execution_count": null,
   "metadata": {},
   "outputs": [],
   "source": [
    "import numpy as np\n",
    "from progpy.state_estimators import UnscentedKalmanFilter\n",
    "from progpy.uncertain_data import MultivariateNormalDist"
   ]
  },
  {
   "cell_type": "markdown",
   "metadata": {},
   "source": [
    "State estimators require an initial state. To define this, we'll first initialize the model and then define the initial state as a distribution of possible states around this using a multi-variate normal distribution. "
   ]
  },
  {
   "cell_type": "code",
   "execution_count": null,
   "metadata": {},
   "outputs": [],
   "source": [
    "initial_state = batt.initialize() # Initialize model\n",
    "x_guess = MultivariateNormalDist(initial_state.keys(), initial_state.values(), np.diag([max(x_i*0.1, 0.1) for x_i in initial_state.values()])) # Define distribution around initial state"
   ]
  },
  {
   "cell_type": "markdown",
   "metadata": {},
   "source": [
    "With our initial distribution defined, we can now instantiate the state estimator."
   ]
  },
  {
   "cell_type": "code",
   "execution_count": null,
   "metadata": {},
   "outputs": [],
   "source": [
    "ukf = UnscentedKalmanFilter(batt, x_guess)"
   ]
  },
  {
   "cell_type": "markdown",
   "metadata": {},
   "source": [
    "With this, we're ready to run the Unscented Kalman Filter. To illustrate how state estimation works, let's estimate one step forward in time. First, we'll extract the measurement at this time. "
   ]
  },
  {
   "cell_type": "code",
   "execution_count": null,
   "metadata": {},
   "outputs": [],
   "source": [
    "# Define time step based on data\n",
    "dt = dataset['relativeTime'][1] - dataset['relativeTime'][0]\n",
    "\n",
    "# Data at time point\n",
    "z = {'t': dataset['temperature'][1], 'v': dataset['voltage'][1]}"
   ]
  },
  {
   "cell_type": "markdown",
   "metadata": {},
   "source": [
    "Next, we'll estimate the new state by calling the `estimate` method. "
   ]
  },
  {
   "cell_type": "code",
   "execution_count": null,
   "metadata": {},
   "outputs": [],
   "source": [
    "# Extract input current from data \n",
    "i = {'i': dataset['current'][1]}\n",
    "\n",
    "# Estimate the new state\n",
    "ukf.estimate(dt, i, z)\n",
    "x_est = ukf.x.mean"
   ]
  },
  {
   "cell_type": "markdown",
   "metadata": {},
   "source": [
    "Finally, let's look at the difference between the estimated state and the true measurement."
   ]
  },
  {
   "cell_type": "code",
   "execution_count": null,
   "metadata": {},
   "outputs": [],
   "source": [
    "print(f\"t: {dt:.2f}\\n\\tEstimate: {x_est}\\n\\tTruth: {initial_state}\")"
   ]
  },
  {
   "cell_type": "markdown",
   "metadata": {},
   "source": [
    "Now that we know how to do state estimation, the next key component of prognostics is [prediction](https://nasa.github.io/progpy/prog_algs_guide.html#prediction). ProgPy includes multiple predictors, and we'll implement a Monte Carlo predictor here. Let's load the necessary imports. "
   ]
  },
  {
   "cell_type": "code",
   "execution_count": null,
   "metadata": {},
   "outputs": [],
   "source": [
    "from progpy.predictors import MonteCarlo"
   ]
  },
  {
   "cell_type": "markdown",
   "metadata": {},
   "source": [
    "Next, let's add some [process and measurement noise](https://nasa.github.io/progpy/prog_models_guide.html?highlight=noise#noise) into our system, to capture any uncertainties. "
   ]
  },
  {
   "cell_type": "code",
   "execution_count": null,
   "metadata": {},
   "outputs": [],
   "source": [
    "PROCESS_NOISE = 1e-4            # Percentage process noise\n",
    "MEASUREMENT_NOISE = 1e-4        # Percentage measurement noise\n",
    "\n",
    "# Apply process noise to state\n",
    "batt.parameters['process_noise'] = {key: PROCESS_NOISE * value for key, value in initial_state.items()}\n",
    "\n",
    "# Apply measurement noise to output\n",
    "z0 = batt.output(initial_state)\n",
    "batt.parameters['measurement_noise'] = {key: MEASUREMENT_NOISE * value for key, value in z0.items()}"
   ]
  },
  {
   "cell_type": "markdown",
   "metadata": {},
   "source": [
    "Next, let's set up our predictor. "
   ]
  },
  {
   "cell_type": "code",
   "execution_count": null,
   "metadata": {},
   "outputs": [],
   "source": [
    "mc = MonteCarlo(batt)"
   ]
  },
  {
   "cell_type": "markdown",
   "metadata": {},
   "source": [
    "To perform the prediction, we need to specify a few things, including the number of samples we want to use for the prediction, the step size for the prediction, and the prediction horizon (i.e., the time value to predict to)."
   ]
  },
  {
   "cell_type": "code",
   "execution_count": null,
   "metadata": {},
   "outputs": [],
   "source": [
    "NUM_SAMPLES = 100\n",
    "STEP_SIZE = 1\n",
    "PREDICTION_HORIZON = 3200 "
   ]
  },
  {
   "cell_type": "markdown",
   "metadata": {},
   "source": [
    "With this, we are ready to predict. "
   ]
  },
  {
   "cell_type": "code",
   "execution_count": null,
   "metadata": {},
   "outputs": [],
   "source": [
    "mc_results = mc.predict(initial_state, future_loading_eqn=future_loading, n_samples=NUM_SAMPLES, dt=STEP_SIZE, horizon = PREDICTION_HORIZON)"
   ]
  },
  {
   "cell_type": "markdown",
   "metadata": {},
   "source": [
    "Finally, let's visualize our results."
   ]
  },
  {
   "cell_type": "code",
   "execution_count": null,
   "metadata": {},
   "outputs": [],
   "source": [
    "fig = mc_results.time_of_event.plot_hist(keys='EOD')"
   ]
  },
  {
   "cell_type": "markdown",
   "metadata": {},
   "source": [
    "Now that we understand the basics of state estimation and prediction, as well as how to implement these concepts within ProgPy, we are ready to do a full prognostics example. We'll use the state estimator and predictor we created above."
   ]
  },
  {
   "cell_type": "markdown",
   "metadata": {},
   "source": [
    "First, let's set a few values we'll use in the simulation."
   ]
  },
  {
   "cell_type": "code",
   "execution_count": null,
   "metadata": {},
   "outputs": [],
   "source": [
    "# Constant values\n",
    "NUM_SAMPLES = 20\n",
    "PREDICTION_UPDATE_FREQ = 50     # Number of steps between prediction updates\n",
    "GROUND_TRUTH = {'EOD': 2780}    # NOTE: need to check this is right for this example\n",
    "PLOT = True"
   ]
  },
  {
   "cell_type": "markdown",
   "metadata": {},
   "source": [
    "Next, let's initialize a data structure for storing the results, using the following built-in class:"
   ]
  },
  {
   "cell_type": "code",
   "execution_count": null,
   "metadata": {},
   "outputs": [],
   "source": [
    "profile = ToEPredictionProfile()"
   ]
  },
  {
   "cell_type": "markdown",
   "metadata": {},
   "source": [
    "<span style=\"color:red\"> NEED TO REDEFINE FUTURE_LOADING </span>"
   ]
  },
  {
   "cell_type": "markdown",
   "metadata": {},
   "source": [
    "Now we'll perform the prognostics. We'll loop through time, estimating the state at each time step, and making a prediction at the `PREDICTION_UPDATE_FREQ`."
   ]
  },
  {
   "cell_type": "markdown",
   "metadata": {},
   "source": [
    "<span style=\"color:red\"> NOTE: the following code doesn't work yet - the relativeTime is not monotonically increasing. I believe it is multiple traces strung together. We need to adjust for this </span>"
   ]
  },
  {
   "cell_type": "code",
   "execution_count": null,
   "metadata": {},
   "outputs": [],
   "source": [
    "\n",
    "# Loop through time\n",
    "for ind in range(dataset.shape[0]):\n",
    "\n",
    "    # Extract data\n",
    "    t = dataset['relativeTime'][ind]\n",
    "    i = {'i': dataset['current'][ind]}\n",
    "    z = {'t': dataset['temperature'][ind], 'v': dataset['voltage'][ind]}\n",
    "\n",
    "    # Perform state estimation \n",
    "    ukf.estimate(t, i, z)\n",
    "    eod = batt.event_state(ukf.x.mean)['EOD']\n",
    "    print(\"  - Event State: \", eod)\n",
    "\n",
    "    # Prediction step (at specified frequency)\n",
    "    if (ind%PREDICTION_UPDATE_FREQ == 0):\n",
    "        # Perform prediction\n",
    "        mc_results = mc.predict(ukf.x, future_loading, t0 = t, n_samples=NUM_SAMPLES, dt=dt)\n",
    "        \n",
    "        # Calculate metrics and print\n",
    "        metrics = mc_results.time_of_event.metrics()\n",
    "        print('  - ToE: {} (sigma: {})'.format(metrics['EOD']['mean'], metrics['EOD']['std']))\n",
    "\n",
    "        # Save results\n",
    "        profile.add_prediction(t, mc_results.time_of_event)"
   ]
  },
  {
   "cell_type": "markdown",
   "metadata": {},
   "source": [
    "With our prognostics results, we can now calculate some metrics to analyze the accuracy. \n",
    "\n",
    "First, some imports."
   ]
  },
  {
   "cell_type": "code",
   "execution_count": null,
   "metadata": {},
   "outputs": [],
   "source": [
    "from progpy.uncertain_data.uncertain_data import UncertainData\n",
    "from progpy.metrics import samples as metrics"
   ]
  },
  {
   "cell_type": "markdown",
   "metadata": {},
   "source": [
    "We'll start by calculating the cumulative relative accuracy given the ground truth value. "
   ]
  },
  {
   "cell_type": "code",
   "execution_count": null,
   "metadata": {},
   "outputs": [],
   "source": [
    "cra = profile.cumulative_relative_accuracy(GROUND_TRUTH)\n",
    "print(f\"Cumulative Relative Accuracy for 'EOD': {cra['EOD']}\")"
   ]
  },
  {
   "cell_type": "markdown",
   "metadata": {},
   "source": [
    "We'll also generate some plots of the results."
   ]
  },
  {
   "cell_type": "code",
   "execution_count": null,
   "metadata": {},
   "outputs": [],
   "source": [
    "playback_plots = profile.plot(GROUND_TRUTH, ALPHA, True)"
   ]
  },
  {
   "cell_type": "markdown",
   "metadata": {},
   "source": [
    "<span style=\"color:red\"> Could include some other metrics like prognostics horizon, alpha-lambda, etc., if desired </span>"
   ]
  },
  {
   "cell_type": "markdown",
   "metadata": {},
   "source": [
    "## Building a new model"
   ]
  },
  {
   "cell_type": "markdown",
   "metadata": {},
   "source": [
    "In the last sections we described how to tune and use a prognostics model, using a model distributed with ProgPy. However, in many cases a model doesn't yet exist for the system being targeted. In those cases, a new model must be built to describe the behavior and degradation of the system.\n",
    "\n",
    "In this section we will create a new model from scratch. We will again be using the battery as a target. \n",
    "\n",
    "All of the past sections describe how to use an existing model. In this section we will describe how to create a new model. This section specifically describes creating a new physics-based model. NOTE ABOUT SOMETIMES NEEDING TO CREATE A NEW ONE SOMETIME\n",
    "\n",
    "Physics-based state transition models that cannot be described linearly are constructed by subclassing [progpy.PrognosticsModel](https://nasa.github.io/progpy/api_ref/prog_models/PrognosticModel.html#prog_models.PrognosticsModel). To demonstrate this, we'll create a new model class that inherits from this class. Once constructed in this way, the analysis and simulation tools for PrognosticsModels will work on the new model.\n",
    "https://nasa.github.io/progpy/prog_models_guide.html#state-transition-models\n",
    "\n",
    "From here: https://www.sciencedirect.com/science/article/pii/S0951832018301406"
   ]
  },
  {
   "cell_type": "code",
   "execution_count": null,
   "metadata": {},
   "outputs": [],
   "source": [
    "from progpy import PrognosticsModel"
   ]
  },
  {
   "cell_type": "markdown",
   "metadata": {},
   "source": [
    "$R_{int}(k+1) = R_{int}(k) + w_1(k)$\n",
    "\n",
    "$SOC(k+1) = SOC(k) - P(k)*\\Delta t * E_{crit}(k)^{-1} + w_2(k)$\n",
    "\n",
    "$E_{crit}(k+1) = E_{crit}(k) + w_3(k)$"
   ]
  },
  {
   "cell_type": "markdown",
   "metadata": {},
   "source": [
    "w1, 2 and 3 are omitted (process noise, which is covered by ProgPy)\n",
    "\n",
    "Note: wont actually subclass in practice, but it's to demonstrate"
   ]
  },
  {
   "cell_type": "code",
   "execution_count": null,
   "metadata": {},
   "outputs": [],
   "source": [
    "class SimplifiedEquivilantCircuit(PrognosticsModel):\n",
    "    inputs = ['P']\n",
    "    states = [\n",
    "        'R_int',\n",
    "        'SOC',\n",
    "        'E_crit']"
   ]
  },
  {
   "cell_type": "code",
   "execution_count": null,
   "metadata": {},
   "outputs": [],
   "source": [
    "class SimplifiedEquivilantCircuit(SimplifiedEquivilantCircuit):\n",
    "    default_parameters = {\n",
    "        'x0': {\n",
    "            'R_int': 0.027,\n",
    "            'SOC': 1,\n",
    "            'E_crit': 202426.858,\n",
    "        }\n",
    "    }"
   ]
  },
  {
   "cell_type": "code",
   "execution_count": 106,
   "metadata": {},
   "outputs": [],
   "source": [
    "class SimplifiedEquivilantCircuit(SimplifiedEquivilantCircuit):\n",
    "    state_limits = {\n",
    "        'SOC': (0.0, 1.0)\n",
    "    }"
   ]
  },
  {
   "cell_type": "code",
   "execution_count": 107,
   "metadata": {},
   "outputs": [],
   "source": [
    "class SimplifiedEquivilantCircuit(SimplifiedEquivilantCircuit):\n",
    "    def next_state(self, x, u, dt):\n",
    "        x['SOC'] = x['SOC'] - u['P'] * dt / x['E_crit']\n",
    "\n",
    "        return x"
   ]
  },
  {
   "cell_type": "markdown",
   "metadata": {},
   "source": [
    "$V(k) = v_{oc}(k) - i(k) * R_{int}(k) + \\eta (k)$\n",
    "\n",
    "where\n",
    "\n",
    "$v_{oc}(k) = v_L - \\lambda ^ {\\gamma * SOC(k)} - \\mu * e ^ {-\\beta * \\sqrt{SOC(k)}}$\n",
    "\n",
    "and\n",
    "\n",
    "$i(k) = \\frac{v_{oc}(k) - \\sqrt{v_{oc}(k)^2 - 4 * R_{int}(k) * P(k)}}{2 * R_{int}(k)}$"
   ]
  },
  {
   "cell_type": "markdown",
   "metadata": {},
   "source": [
    "Note that $\\eta$ is the measurement noise, which progpy handles, so that's ommitted from the equation below.\n",
    "\n",
    "Note 2: There is a typo in the paper where the sign of the second term in the $v_{oc}$ term. It should be negative (like above), but is reported as positive in the paper."
   ]
  },
  {
   "cell_type": "code",
   "execution_count": 108,
   "metadata": {},
   "outputs": [],
   "source": [
    "class SimplifiedEquivilantCircuit(SimplifiedEquivilantCircuit):\n",
    "    outputs = ['v']"
   ]
  },
  {
   "cell_type": "markdown",
   "metadata": {},
   "source": [
    "Note that the input ($P(k)$) is also used in the output, that means it's part of the state of the system. So we will update the states to include this"
   ]
  },
  {
   "cell_type": "code",
   "execution_count": 109,
   "metadata": {},
   "outputs": [],
   "source": [
    "class SimplifiedEquivilantCircuit(SimplifiedEquivilantCircuit):\n",
    "    states = [\n",
    "        'R_int',\n",
    "        'SOC',\n",
    "        'E_crit',\n",
    "        'P']\n",
    "\n",
    "    def next_state(self, x, u, dt):\n",
    "        x['SOC'] = x['SOC'] - u['P'] * dt / x['E_crit']\n",
    "        x['P'] = u['P']\n",
    "\n",
    "        return x\n",
    "    "
   ]
  },
  {
   "cell_type": "code",
   "execution_count": 119,
   "metadata": {},
   "outputs": [],
   "source": [
    "class SimplifiedEquivilantCircuit(SimplifiedEquivilantCircuit):\n",
    "    default_parameters = {\n",
    "        'v_L': 11.148,\n",
    "        'lambda': 0.046,\n",
    "        'gamma': 3.355,\n",
    "        'mu': 2.759,\n",
    "        'beta': 8.482,\n",
    "\n",
    "        'x0': {\n",
    "            'R_int': 0.027,\n",
    "            'SOC': 1,\n",
    "            'E_crit': 202426.858,\n",
    "            'P': 0.01  # Added P\n",
    "        }\n",
    "    }"
   ]
  },
  {
   "cell_type": "code",
   "execution_count": 111,
   "metadata": {},
   "outputs": [],
   "source": [
    "import math\n",
    "class SimplifiedEquivilantCircuit(SimplifiedEquivilantCircuit):\n",
    "    def output(self, x):\n",
    "        v_oc = self['v_L'] + self['lambda']**(self['gamma']*x['SOC']) - self['mu'] * math.exp(-self['beta']* math.sqrt(x['SOC']))\n",
    "        i = (v_oc - math.sqrt(v_oc**2 - 4 * x['R_int'] * x['P']))/(2 * x['R_int'])\n",
    "        v = v_oc - i * x['R_int']\n",
    "        return self.OutputContainer({'v': v})"
   ]
  },
  {
   "cell_type": "markdown",
   "metadata": {},
   "source": [
    "Next lets look at events..."
   ]
  },
  {
   "cell_type": "code",
   "execution_count": 112,
   "metadata": {},
   "outputs": [],
   "source": [
    "class SimplifiedEquivilantCircuit(SimplifiedEquivilantCircuit):\n",
    "    events = ['EOD']"
   ]
  },
  {
   "cell_type": "code",
   "execution_count": 113,
   "metadata": {},
   "outputs": [],
   "source": [
    "class SimplifiedEquivilantCircuit(SimplifiedEquivilantCircuit):\n",
    "    def event_state(self, x):\n",
    "        return {'EOD': x['SOC']}"
   ]
  },
  {
   "cell_type": "code",
   "execution_count": 120,
   "metadata": {},
   "outputs": [],
   "source": [
    "m = SimplifiedEquivilantCircuit()"
   ]
  },
  {
   "cell_type": "code",
   "execution_count": 132,
   "metadata": {},
   "outputs": [],
   "source": [
    "def future_load(t, x=None):\n",
    "    if x is None:\n",
    "        return {'P': 165}\n",
    "    z = m.output(x)\n",
    "    return {'P': 15 * z['v']}\n",
    "results = m.simulate_to_threshold(future_load, dt=0.1, save_freq=0.1)"
   ]
  },
  {
   "cell_type": "code",
   "execution_count": null,
   "metadata": {},
   "outputs": [],
   "source": [
    "fig = results.event_states.plot()"
   ]
  },
  {
   "cell_type": "code",
   "execution_count": null,
   "metadata": {},
   "outputs": [],
   "source": [
    "fig = results.outputs.plot()"
   ]
  },
  {
   "cell_type": "markdown",
   "metadata": {},
   "source": [
    "### Parameter Estimation"
   ]
  },
  {
   "cell_type": "code",
   "execution_count": null,
   "metadata": {},
   "outputs": [],
   "source": [
    "times = dataset['absoluteTime']\n",
    "inputs = [elem[1]['voltage'] * elem[1]['current'] for elem in dataset.iterrows()]\n",
    "outputs = [{'v': elem[1]['voltage']} for elem in dataset.iterrows()]"
   ]
  },
  {
   "cell_type": "code",
   "execution_count": null,
   "metadata": {},
   "outputs": [],
   "source": [
    "def future_load(t, x=None):\n",
    "    power = np.interp(t, times, inputs)\n",
    "    return {'P': power}"
   ]
  },
  {
   "cell_type": "code",
   "execution_count": null,
   "metadata": {},
   "outputs": [],
   "source": [
    "dataset"
   ]
  },
  {
   "cell_type": "code",
   "execution_count": null,
   "metadata": {},
   "outputs": [],
   "source": [
    "result = m.simulate_to(30116.56, future_load, dt=1, save_freq=100)"
   ]
  },
  {
   "cell_type": "code",
   "execution_count": null,
   "metadata": {},
   "outputs": [],
   "source": [
    "from matplotlib import pyplot as plt\n",
    "plt.plot(times, [z for z in dataset['voltage']])\n",
    "plt.plot(results.times, [z['v'] for z in results.outputs])"
   ]
  },
  {
   "cell_type": "code",
   "execution_count": null,
   "metadata": {},
   "outputs": [],
   "source": [
    "m.parameters"
   ]
  },
  {
   "cell_type": "code",
   "execution_count": null,
   "metadata": {},
   "outputs": [],
   "source": [
    "m['v_L'] = m['v_L']/4"
   ]
  },
  {
   "cell_type": "code",
   "execution_count": null,
   "metadata": {},
   "outputs": [],
   "source": [
    "inputs_reformatted = [{'v': elem[1]['voltage'] * elem[1]['current']} for elem in dataset.iterrows()]\n",
    "keys = ['v_L', 'lambda', 'gamma', 'mu', 'beta', 'x0']\n",
    "print('Model configuration before')\n",
    "for key in keys:\n",
    "    print(\"-\", key, m[key])\n",
    "print('Error: ', m.calc_error(times=times.to_list(), inputs=inputs_reformatted, outputs=outputs))\n"
   ]
  },
  {
   "cell_type": "code",
   "execution_count": null,
   "metadata": {},
   "outputs": [],
   "source": [
    "m.estimate_params(times=times.to_list(), inputs=inputs_reformatted, outputs=outputs, dt=1)"
   ]
  },
  {
   "cell_type": "code",
   "execution_count": null,
   "metadata": {},
   "outputs": [],
   "source": [
    "for key in keys:\n",
    "    print(\"-\", key, m[key])\n",
    "print('Error: ', m.calc_error(times=times.to_list(), inputs=inputs_reformatted, outputs=outputs))"
   ]
  },
  {
   "cell_type": "code",
   "execution_count": null,
   "metadata": {},
   "outputs": [],
   "source": [
    "results.outputs.plot()"
   ]
  },
  {
   "cell_type": "markdown",
   "metadata": {},
   "source": [
    "TODO(CT): Use with prediction"
   ]
  },
  {
   "cell_type": "markdown",
   "metadata": {},
   "source": [
    "## Advanced Capabilities"
   ]
  },
  {
   "cell_type": "markdown",
   "metadata": {},
   "source": [
    "### Combination Models"
   ]
  },
  {
   "cell_type": "markdown",
   "metadata": {},
   "source": [
    "https://nasa.github.io/progpy/prog_models_guide.html#combination-models\n",
    "\n",
    "This section demonstrates how prognostic models can be combined. There are two times in which this is useful: \n",
    "\n",
    "1. When combining multiple models of different inter-related systems into one system-of-system model (i.e., [Composite Models](https://nasa.github.io/progpy/api_ref/prog_models/CompositeModel.html)), or\n",
    "2. Combining multiple models of the same system to be simulated together and aggregated (i.e., [Ensemble Models](https://nasa.github.io/progpy/api_ref/prog_models/EnsembleModel.html) or [Mixture of Expert Models](https://nasa.github.io/progpy/api_ref/progpy/MixtureOfExperts.html)). This is generally done to improve the accuracy of prediction when you have multiple models that each represent part of the behavior or represent a distribution of different behaviors.\n",
    "\n",
    "For this example we will combine the competing models using a Mixture of Expert Model"
   ]
  },
  {
   "cell_type": "code",
   "execution_count": null,
   "metadata": {},
   "outputs": [],
   "source": [
    "from progpy import MixtureOfExpertsModel"
   ]
  },
  {
   "cell_type": "markdown",
   "metadata": {},
   "source": [
    "TODO(CT): COMBINE MODELS FROM ABOVE"
   ]
  },
  {
   "cell_type": "markdown",
   "metadata": {},
   "source": [
    "TODO(CT): Compare performacne"
   ]
  },
  {
   "cell_type": "markdown",
   "metadata": {},
   "source": [
    "## Closing"
   ]
  },
  {
   "cell_type": "markdown",
   "metadata": {},
   "source": [
    "https://nasa.github.io/progpy/index.html#contributing-and-partnering"
   ]
  }
 ],
 "metadata": {
  "kernelspec": {
   "display_name": "ProgPyEnv1",
   "language": "python",
   "name": "python3"
  },
  "language_info": {
   "codemirror_mode": {
    "name": "ipython",
    "version": 3
   },
   "file_extension": ".py",
   "mimetype": "text/x-python",
   "name": "python",
   "nbconvert_exporter": "python",
   "pygments_lexer": "ipython3",
   "version": "3.9.6"
  },
  "orig_nbformat": 4,
  "vscode": {
   "interpreter": {
    "hash": "71ccad9e81d0b15f7bb5ef75e2d2ca570011b457fb5a41421e3ae9c0e4c33dfc"
   }
  }
 },
 "nbformat": 4,
 "nbformat_minor": 2
}
